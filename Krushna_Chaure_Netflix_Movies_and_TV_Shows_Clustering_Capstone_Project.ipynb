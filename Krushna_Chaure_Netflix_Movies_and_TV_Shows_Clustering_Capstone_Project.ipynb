{
  "cells": [
    {
      "cell_type": "markdown",
      "metadata": {
        "id": "view-in-github",
        "colab_type": "text"
      },
      "source": [
        "<a href=\"https://colab.research.google.com/github/KrushnaChaure/Netflix-Movies-and-TV-Shows-Clustering/blob/main/Krushna_Chaure_Netflix_Movies_and_TV_Shows_Clustering_Capstone_Project.ipynb\" target=\"_parent\"><img src=\"https://colab.research.google.com/assets/colab-badge.svg\" alt=\"Open In Colab\"/></a>"
      ]
    },
    {
      "cell_type": "markdown",
      "metadata": {
        "id": "OAkyMYkJVIIC"
      },
      "source": [
        "# **Project Name - Netflix Movies and TV Shows Clustering**"
      ]
    },
    {
      "cell_type": "markdown",
      "metadata": {
        "id": "r068Q4Yea75z"
      },
      "source": [
        "**Project Type** - Unsupervised Machine Learning\n",
        "\n",
        "**Contribution** - Individual "
      ]
    },
    {
      "cell_type": "markdown",
      "metadata": {
        "id": "vJ85Ws9sb1qq"
      },
      "source": [
        "# **Problem Statement**"
      ]
    },
    {
      "cell_type": "markdown",
      "source": [
        "Netflix is the world's largest online streaming service provider, with over 220 million subscribers as of 2022-Q2. It is crucial that they effectively cluster the shows that are hosted on their platform in order to enhance the user experience, thereby preventing subscriber churn.\n",
        "\n",
        "In 2018, they released an interesting report which shows that the number of TV shows on Netflix has nearly tripled since 2010. The streaming service’s number of movies has decreased by more than 2,000 titles since 2010, while its number of TV shows has nearly tripled. It will be interesting to explore what all other insights can be obtained from the same dataset.\n",
        "\n",
        "We will be able to understand the shows that are similar to and different from one another by creating clusters, which may be leveraged to offer the consumers personalized show suggestions depending on their preferences.\n",
        "\n",
        "The goal of this project is to classify/group the Netflix shows into certain clusters such that the shows within a cluster are similar to each other and the shows in different clusters are dissimilar to each other."
      ],
      "metadata": {
        "id": "7ezZMaNpCHH7"
      }
    },
    {
      "cell_type": "markdown",
      "source": [
        "## **What is our Business Objective?**"
      ],
      "metadata": {
        "id": "CW7YynUBJalI"
      }
    },
    {
      "cell_type": "markdown",
      "source": [
        "\n",
        "\n",
        "\n",
        "*   Exploratory Data Analysis.\n",
        "\n",
        "*   Understanding what type content is available in different countries.\n",
        "*   Is Netflix has increasingly focusing on TV rather than movies in recent years.\n",
        "\n",
        "\n",
        "*   Clustering similar content by matching text-based features.\n",
        "\n"
      ],
      "metadata": {
        "id": "Qy97pmAcJtg8"
      }
    },
    {
      "cell_type": "markdown",
      "metadata": {
        "id": "HXzNjy-Nk0hK"
      },
      "source": [
        "# **Lets Begin & Kick start our journy**"
      ]
    },
    {
      "cell_type": "markdown",
      "metadata": {
        "id": "xzbG15viIhJN"
      },
      "source": [
        "## **1. Know Our Data**"
      ]
    },
    {
      "cell_type": "markdown",
      "metadata": {
        "id": "QzwuDAoI2Ryo"
      },
      "source": [
        "### Import Libraries"
      ]
    },
    {
      "cell_type": "code",
      "source": [
        "import numpy as np\n",
        "import pandas as pd\n",
        "from numpy import math\n",
        "import seaborn as sns\n",
        "import matplotlib.pyplot as plt\n",
        "import matplotlib.ticker as mtick\n",
        "from matplotlib.pyplot import figure\n",
        "import plotly.graph_objects as go\n",
        "import plotly.offline as py\n",
        "import plotly.express as px\n",
        "from datetime import datetime as dt\n",
        "\n",
        "from wordcloud import WordCloud, STOPWORDS\n",
        "import re, string, unicodedata\n",
        "\n",
        "import nltk\n",
        "from bs4 import BeautifulSoup\n",
        "from nltk import word_tokenize, sent_tokenize\n",
        "from nltk.corpus import stopwords\n",
        "from nltk.stem import LancasterStemmer, WordNetLemmatizer\n",
        "from nltk.stem import WordNetLemmatizer\n",
        "from sklearn.feature_extraction.text import TfidfVectorizer\n",
        "from sklearn.decomposition import PCA\n",
        "\n",
        "from nltk.stem import WordNetLemmatizer\n",
        "nltk.download('wordnet')\n",
        "import nltk\n",
        "nltk.download('stopwords')\n",
        "from nltk.corpus import stopwords\n",
        "import string\n",
        "string.punctuation\n",
        "nltk.download('omw-1.4')\n",
        "from nltk.tokenize import TweetTokenizer\n",
        "\n",
        "from sklearn.cluster import KMeans\n",
        "from sklearn.metrics import silhouette_score\n",
        "from sklearn.cluster import AgglomerativeClustering\n",
        "import scipy.cluster.hierarchy as shc\n",
        "\n",
        "from sklearn.feature_extraction.text import CountVectorizer\n",
        "from sklearn.metrics.pairwise import cosine_similarity\n",
        "\n",
        "import warnings\n",
        "warnings.filterwarnings('ignore')"
      ],
      "metadata": {
        "id": "nYZMwDIIoUb6",
        "colab": {
          "base_uri": "https://localhost:8080/"
        },
        "outputId": "84c85c5c-658f-4ee9-bb2a-3ee9bd624dca"
      },
      "execution_count": 1,
      "outputs": [
        {
          "output_type": "stream",
          "name": "stderr",
          "text": [
            "[nltk_data] Downloading package wordnet to /root/nltk_data...\n",
            "[nltk_data] Downloading package stopwords to /root/nltk_data...\n",
            "[nltk_data]   Unzipping corpora/stopwords.zip.\n",
            "[nltk_data] Downloading package omw-1.4 to /root/nltk_data...\n"
          ]
        }
      ]
    },
    {
      "cell_type": "markdown",
      "metadata": {
        "id": "NgzcutYB6_BP"
      },
      "source": [
        "### Dataset Loading\n"
      ]
    },
    {
      "cell_type": "code",
      "execution_count": 2,
      "metadata": {
        "colab": {
          "base_uri": "https://localhost:8080/"
        },
        "id": "3M4-5fij7-UF",
        "outputId": "aebd9bbd-1bf7-4700-c09a-33e7a9815c11"
      },
      "outputs": [
        {
          "output_type": "stream",
          "name": "stdout",
          "text": [
            "Mounted at /content/drive\n"
          ]
        }
      ],
      "source": [
        "# Firstly we mount the drive over this colab notebook\n",
        "from google.colab import drive\n",
        "drive.mount('/content/drive')"
      ]
    },
    {
      "cell_type": "code",
      "execution_count": 3,
      "metadata": {
        "id": "7SIvrc9P7Zdc"
      },
      "outputs": [],
      "source": [
        "# Here we connecting & importing the dataset over this colab notebook\n",
        "dataset= pd.read_csv('/content/drive/MyDrive/Almabetter/Module 4/Netflix Movies and TV Shows Clustering/NETFLIX MOVIES AND TV SHOWS CLUSTERING.csv')"
      ]
    },
    {
      "cell_type": "markdown",
      "metadata": {
        "id": "whftLfKXsZA7"
      },
      "source": [
        "### Attribute Information:"
      ]
    },
    {
      "cell_type": "markdown",
      "source": [
        "**1. show_id :** Unique ID for every Movie / Tv Show\n",
        "\n",
        "**2. type :** Identifier - A Movie or TV Show\n",
        "\n",
        "**3. title :** Title of the Movie / Tv Show\n",
        "\n",
        "**4. director :** Director of the Movie\n",
        "\n",
        "**5. cast :** Actors involved in the movie / show\n",
        "\n",
        "**6. country :** Country where the movie / show was produced\n",
        "\n",
        "**7. date_added :** Date it was added on Netflix\n",
        "\n",
        "**8. release_year :** Actual Releaseyear of the movie / show\n",
        "\n",
        "**9. rating :** TV Rating of the movie / show\n",
        "\n",
        "**10. duration :** Total Duration - in minutes or number of seasons\n",
        "\n",
        "**11. listed_in :** Genere\n",
        "\n",
        "**12. description:** The Summary description"
      ],
      "metadata": {
        "id": "TMype0keGZPE"
      }
    },
    {
      "cell_type": "markdown",
      "metadata": {
        "id": "sWHSarVq-nOU"
      },
      "source": [
        "### Dataset First View"
      ]
    },
    {
      "cell_type": "code",
      "execution_count": 4,
      "metadata": {
        "colab": {
          "base_uri": "https://localhost:8080/",
          "height": 337
        },
        "id": "E5EuPpgq-s7T",
        "outputId": "cf6e7d66-2601-4215-b77c-a668b197153f"
      },
      "outputs": [
        {
          "output_type": "execute_result",
          "data": {
            "text/plain": [
              "  show_id     type  title           director  \\\n",
              "0      s1  TV Show     3%                NaN   \n",
              "1      s2    Movie   7:19  Jorge Michel Grau   \n",
              "2      s3    Movie  23:59       Gilbert Chan   \n",
              "3      s4    Movie      9        Shane Acker   \n",
              "4      s5    Movie     21     Robert Luketic   \n",
              "\n",
              "                                                cast        country  \\\n",
              "0  João Miguel, Bianca Comparato, Michel Gomes, R...         Brazil   \n",
              "1  Demián Bichir, Héctor Bonilla, Oscar Serrano, ...         Mexico   \n",
              "2  Tedd Chan, Stella Chung, Henley Hii, Lawrence ...      Singapore   \n",
              "3  Elijah Wood, John C. Reilly, Jennifer Connelly...  United States   \n",
              "4  Jim Sturgess, Kevin Spacey, Kate Bosworth, Aar...  United States   \n",
              "\n",
              "          date_added  release_year rating   duration  \\\n",
              "0    August 14, 2020          2020  TV-MA  4 Seasons   \n",
              "1  December 23, 2016          2016  TV-MA     93 min   \n",
              "2  December 20, 2018          2011      R     78 min   \n",
              "3  November 16, 2017          2009  PG-13     80 min   \n",
              "4    January 1, 2020          2008  PG-13    123 min   \n",
              "\n",
              "                                           listed_in  \\\n",
              "0  International TV Shows, TV Dramas, TV Sci-Fi &...   \n",
              "1                       Dramas, International Movies   \n",
              "2                Horror Movies, International Movies   \n",
              "3  Action & Adventure, Independent Movies, Sci-Fi...   \n",
              "4                                             Dramas   \n",
              "\n",
              "                                         description  \n",
              "0  In a future where the elite inhabit an island ...  \n",
              "1  After a devastating earthquake hits Mexico Cit...  \n",
              "2  When an army recruit is found dead, his fellow...  \n",
              "3  In a postapocalyptic world, rag-doll robots hi...  \n",
              "4  A brilliant group of students become card-coun...  "
            ],
            "text/html": [
              "\n",
              "  <div id=\"df-8aad832a-a968-4ecf-b7dd-5ca05b070974\">\n",
              "    <div class=\"colab-df-container\">\n",
              "      <div>\n",
              "<style scoped>\n",
              "    .dataframe tbody tr th:only-of-type {\n",
              "        vertical-align: middle;\n",
              "    }\n",
              "\n",
              "    .dataframe tbody tr th {\n",
              "        vertical-align: top;\n",
              "    }\n",
              "\n",
              "    .dataframe thead th {\n",
              "        text-align: right;\n",
              "    }\n",
              "</style>\n",
              "<table border=\"1\" class=\"dataframe\">\n",
              "  <thead>\n",
              "    <tr style=\"text-align: right;\">\n",
              "      <th></th>\n",
              "      <th>show_id</th>\n",
              "      <th>type</th>\n",
              "      <th>title</th>\n",
              "      <th>director</th>\n",
              "      <th>cast</th>\n",
              "      <th>country</th>\n",
              "      <th>date_added</th>\n",
              "      <th>release_year</th>\n",
              "      <th>rating</th>\n",
              "      <th>duration</th>\n",
              "      <th>listed_in</th>\n",
              "      <th>description</th>\n",
              "    </tr>\n",
              "  </thead>\n",
              "  <tbody>\n",
              "    <tr>\n",
              "      <th>0</th>\n",
              "      <td>s1</td>\n",
              "      <td>TV Show</td>\n",
              "      <td>3%</td>\n",
              "      <td>NaN</td>\n",
              "      <td>João Miguel, Bianca Comparato, Michel Gomes, R...</td>\n",
              "      <td>Brazil</td>\n",
              "      <td>August 14, 2020</td>\n",
              "      <td>2020</td>\n",
              "      <td>TV-MA</td>\n",
              "      <td>4 Seasons</td>\n",
              "      <td>International TV Shows, TV Dramas, TV Sci-Fi &amp;...</td>\n",
              "      <td>In a future where the elite inhabit an island ...</td>\n",
              "    </tr>\n",
              "    <tr>\n",
              "      <th>1</th>\n",
              "      <td>s2</td>\n",
              "      <td>Movie</td>\n",
              "      <td>7:19</td>\n",
              "      <td>Jorge Michel Grau</td>\n",
              "      <td>Demián Bichir, Héctor Bonilla, Oscar Serrano, ...</td>\n",
              "      <td>Mexico</td>\n",
              "      <td>December 23, 2016</td>\n",
              "      <td>2016</td>\n",
              "      <td>TV-MA</td>\n",
              "      <td>93 min</td>\n",
              "      <td>Dramas, International Movies</td>\n",
              "      <td>After a devastating earthquake hits Mexico Cit...</td>\n",
              "    </tr>\n",
              "    <tr>\n",
              "      <th>2</th>\n",
              "      <td>s3</td>\n",
              "      <td>Movie</td>\n",
              "      <td>23:59</td>\n",
              "      <td>Gilbert Chan</td>\n",
              "      <td>Tedd Chan, Stella Chung, Henley Hii, Lawrence ...</td>\n",
              "      <td>Singapore</td>\n",
              "      <td>December 20, 2018</td>\n",
              "      <td>2011</td>\n",
              "      <td>R</td>\n",
              "      <td>78 min</td>\n",
              "      <td>Horror Movies, International Movies</td>\n",
              "      <td>When an army recruit is found dead, his fellow...</td>\n",
              "    </tr>\n",
              "    <tr>\n",
              "      <th>3</th>\n",
              "      <td>s4</td>\n",
              "      <td>Movie</td>\n",
              "      <td>9</td>\n",
              "      <td>Shane Acker</td>\n",
              "      <td>Elijah Wood, John C. Reilly, Jennifer Connelly...</td>\n",
              "      <td>United States</td>\n",
              "      <td>November 16, 2017</td>\n",
              "      <td>2009</td>\n",
              "      <td>PG-13</td>\n",
              "      <td>80 min</td>\n",
              "      <td>Action &amp; Adventure, Independent Movies, Sci-Fi...</td>\n",
              "      <td>In a postapocalyptic world, rag-doll robots hi...</td>\n",
              "    </tr>\n",
              "    <tr>\n",
              "      <th>4</th>\n",
              "      <td>s5</td>\n",
              "      <td>Movie</td>\n",
              "      <td>21</td>\n",
              "      <td>Robert Luketic</td>\n",
              "      <td>Jim Sturgess, Kevin Spacey, Kate Bosworth, Aar...</td>\n",
              "      <td>United States</td>\n",
              "      <td>January 1, 2020</td>\n",
              "      <td>2008</td>\n",
              "      <td>PG-13</td>\n",
              "      <td>123 min</td>\n",
              "      <td>Dramas</td>\n",
              "      <td>A brilliant group of students become card-coun...</td>\n",
              "    </tr>\n",
              "  </tbody>\n",
              "</table>\n",
              "</div>\n",
              "      <button class=\"colab-df-convert\" onclick=\"convertToInteractive('df-8aad832a-a968-4ecf-b7dd-5ca05b070974')\"\n",
              "              title=\"Convert this dataframe to an interactive table.\"\n",
              "              style=\"display:none;\">\n",
              "        \n",
              "  <svg xmlns=\"http://www.w3.org/2000/svg\" height=\"24px\"viewBox=\"0 0 24 24\"\n",
              "       width=\"24px\">\n",
              "    <path d=\"M0 0h24v24H0V0z\" fill=\"none\"/>\n",
              "    <path d=\"M18.56 5.44l.94 2.06.94-2.06 2.06-.94-2.06-.94-.94-2.06-.94 2.06-2.06.94zm-11 1L8.5 8.5l.94-2.06 2.06-.94-2.06-.94L8.5 2.5l-.94 2.06-2.06.94zm10 10l.94 2.06.94-2.06 2.06-.94-2.06-.94-.94-2.06-.94 2.06-2.06.94z\"/><path d=\"M17.41 7.96l-1.37-1.37c-.4-.4-.92-.59-1.43-.59-.52 0-1.04.2-1.43.59L10.3 9.45l-7.72 7.72c-.78.78-.78 2.05 0 2.83L4 21.41c.39.39.9.59 1.41.59.51 0 1.02-.2 1.41-.59l7.78-7.78 2.81-2.81c.8-.78.8-2.07 0-2.86zM5.41 20L4 18.59l7.72-7.72 1.47 1.35L5.41 20z\"/>\n",
              "  </svg>\n",
              "      </button>\n",
              "      \n",
              "  <style>\n",
              "    .colab-df-container {\n",
              "      display:flex;\n",
              "      flex-wrap:wrap;\n",
              "      gap: 12px;\n",
              "    }\n",
              "\n",
              "    .colab-df-convert {\n",
              "      background-color: #E8F0FE;\n",
              "      border: none;\n",
              "      border-radius: 50%;\n",
              "      cursor: pointer;\n",
              "      display: none;\n",
              "      fill: #1967D2;\n",
              "      height: 32px;\n",
              "      padding: 0 0 0 0;\n",
              "      width: 32px;\n",
              "    }\n",
              "\n",
              "    .colab-df-convert:hover {\n",
              "      background-color: #E2EBFA;\n",
              "      box-shadow: 0px 1px 2px rgba(60, 64, 67, 0.3), 0px 1px 3px 1px rgba(60, 64, 67, 0.15);\n",
              "      fill: #174EA6;\n",
              "    }\n",
              "\n",
              "    [theme=dark] .colab-df-convert {\n",
              "      background-color: #3B4455;\n",
              "      fill: #D2E3FC;\n",
              "    }\n",
              "\n",
              "    [theme=dark] .colab-df-convert:hover {\n",
              "      background-color: #434B5C;\n",
              "      box-shadow: 0px 1px 3px 1px rgba(0, 0, 0, 0.15);\n",
              "      filter: drop-shadow(0px 1px 2px rgba(0, 0, 0, 0.3));\n",
              "      fill: #FFFFFF;\n",
              "    }\n",
              "  </style>\n",
              "\n",
              "      <script>\n",
              "        const buttonEl =\n",
              "          document.querySelector('#df-8aad832a-a968-4ecf-b7dd-5ca05b070974 button.colab-df-convert');\n",
              "        buttonEl.style.display =\n",
              "          google.colab.kernel.accessAllowed ? 'block' : 'none';\n",
              "\n",
              "        async function convertToInteractive(key) {\n",
              "          const element = document.querySelector('#df-8aad832a-a968-4ecf-b7dd-5ca05b070974');\n",
              "          const dataTable =\n",
              "            await google.colab.kernel.invokeFunction('convertToInteractive',\n",
              "                                                     [key], {});\n",
              "          if (!dataTable) return;\n",
              "\n",
              "          const docLinkHtml = 'Like what you see? Visit the ' +\n",
              "            '<a target=\"_blank\" href=https://colab.research.google.com/notebooks/data_table.ipynb>data table notebook</a>'\n",
              "            + ' to learn more about interactive tables.';\n",
              "          element.innerHTML = '';\n",
              "          dataTable['output_type'] = 'display_data';\n",
              "          await google.colab.output.renderOutput(dataTable, element);\n",
              "          const docLink = document.createElement('div');\n",
              "          docLink.innerHTML = docLinkHtml;\n",
              "          element.appendChild(docLink);\n",
              "        }\n",
              "      </script>\n",
              "    </div>\n",
              "  </div>\n",
              "  "
            ]
          },
          "metadata": {},
          "execution_count": 4
        }
      ],
      "source": [
        "dataset.head()"
      ]
    },
    {
      "cell_type": "markdown",
      "metadata": {
        "id": "1JOPsCnKAyDY"
      },
      "source": [
        "### Dataset Rows & Columns count"
      ]
    },
    {
      "cell_type": "code",
      "execution_count": 5,
      "metadata": {
        "colab": {
          "base_uri": "https://localhost:8080/"
        },
        "id": "Rnc94mXfA0ot",
        "outputId": "9a423f5d-2868-48c5-e589-af6ad9cfee72"
      },
      "outputs": [
        {
          "output_type": "execute_result",
          "data": {
            "text/plain": [
              "(7787, 12)"
            ]
          },
          "metadata": {},
          "execution_count": 5
        }
      ],
      "source": [
        "# For finding how many rows & columns in our dataset\n",
        "dataset.shape"
      ]
    },
    {
      "cell_type": "markdown",
      "metadata": {
        "id": "6HsUWZmzBLkh"
      },
      "source": [
        "### Dataset Information"
      ]
    },
    {
      "cell_type": "code",
      "execution_count": 6,
      "metadata": {
        "colab": {
          "base_uri": "https://localhost:8080/"
        },
        "id": "_DqYAX4KBPzj",
        "outputId": "c7ca2a7c-d4f4-4834-cf81-ad94f1547cfd"
      },
      "outputs": [
        {
          "output_type": "stream",
          "name": "stdout",
          "text": [
            "<class 'pandas.core.frame.DataFrame'>\n",
            "RangeIndex: 7787 entries, 0 to 7786\n",
            "Data columns (total 12 columns):\n",
            " #   Column        Non-Null Count  Dtype \n",
            "---  ------        --------------  ----- \n",
            " 0   show_id       7787 non-null   object\n",
            " 1   type          7787 non-null   object\n",
            " 2   title         7787 non-null   object\n",
            " 3   director      5398 non-null   object\n",
            " 4   cast          7069 non-null   object\n",
            " 5   country       7280 non-null   object\n",
            " 6   date_added    7777 non-null   object\n",
            " 7   release_year  7787 non-null   int64 \n",
            " 8   rating        7780 non-null   object\n",
            " 9   duration      7787 non-null   object\n",
            " 10  listed_in     7787 non-null   object\n",
            " 11  description   7787 non-null   object\n",
            "dtypes: int64(1), object(11)\n",
            "memory usage: 730.2+ KB\n"
          ]
        }
      ],
      "source": [
        "# For finding information about our dataset\n",
        "dataset.info()"
      ]
    },
    {
      "cell_type": "markdown",
      "metadata": {
        "id": "bW3TeiK8G637"
      },
      "source": [
        "### Duplicate Values"
      ]
    },
    {
      "cell_type": "code",
      "execution_count": 7,
      "metadata": {
        "colab": {
          "base_uri": "https://localhost:8080/"
        },
        "id": "MfagmVsMG-I5",
        "outputId": "c2beb869-842e-4349-d8f6-91bbc25c46f7"
      },
      "outputs": [
        {
          "output_type": "execute_result",
          "data": {
            "text/plain": [
              "0"
            ]
          },
          "metadata": {},
          "execution_count": 7
        }
      ],
      "source": [
        "# Here we checking duplicate values in our dataset\n",
        "len(dataset[dataset.duplicated()])"
      ]
    },
    {
      "cell_type": "markdown",
      "metadata": {
        "id": "Czshou9lHYdy"
      },
      "source": [
        "### Missing Values/Null Values"
      ]
    },
    {
      "cell_type": "code",
      "execution_count": 8,
      "metadata": {
        "colab": {
          "base_uri": "https://localhost:8080/"
        },
        "id": "jScq7LgdF5h3",
        "outputId": "60a81d0d-2f61-40e6-d0c5-7206eea6e148"
      },
      "outputs": [
        {
          "output_type": "stream",
          "name": "stdout",
          "text": [
            "show_id            0\n",
            "type               0\n",
            "title              0\n",
            "director        2389\n",
            "cast             718\n",
            "country          507\n",
            "date_added        10\n",
            "release_year       0\n",
            "rating             7\n",
            "duration           0\n",
            "listed_in          0\n",
            "description        0\n",
            "dtype: int64\n"
          ]
        }
      ],
      "source": [
        "# For checking NAN or Misssing/Null values in our dataset\n",
        "print(dataset.isnull().sum())"
      ]
    },
    {
      "cell_type": "code",
      "execution_count": 9,
      "metadata": {
        "colab": {
          "base_uri": "https://localhost:8080/",
          "height": 396
        },
        "id": "7amD_sxQIDhx",
        "outputId": "2d5a8566-1584-4d2a-a478-5dcb86a3418b"
      },
      "outputs": [
        {
          "output_type": "execute_result",
          "data": {
            "text/plain": [
              "<matplotlib.axes._subplots.AxesSubplot at 0x7f195a1c6d90>"
            ]
          },
          "metadata": {},
          "execution_count": 9
        },
        {
          "output_type": "display_data",
          "data": {
            "text/plain": [
              "<Figure size 720x360 with 1 Axes>"
            ],
            "image/png": "[encoded data removed]"
          },
          "metadata": {
            "needs_background": "light"
          }
        }
      ],
      "source": [
        "# Visualizing the missing values\n",
        "# Checking Null Value by plotting Heatmap\n",
        "plt.figure(figsize=(10,5))\n",
        "sns.heatmap(dataset.isnull(), cbar=False)"
      ]
    },
    {
      "cell_type": "code",
      "source": [
        "# Handling the missing values\n",
        "\n",
        "# The missing values in the director, cast, and country attributes can be replaced with 'Unknown'\n",
        "dataset[['director','cast','country']] = dataset[['director','cast','country']].fillna('Unknown')\n",
        "\n",
        "# The missing values in rating can be imputed with its mode, since this attribute is discrete.\n",
        "dataset['rating'] = dataset['rating'].fillna(dataset['rating'].mode()[0])\n",
        "\n",
        "# Drop missing value in date_added column.\n",
        "dataset.dropna(axis=0, inplace = True)"
      ],
      "metadata": {
        "id": "KbOtDZe-LpZ4"
      },
      "execution_count": 10,
      "outputs": []
    },
    {
      "cell_type": "markdown",
      "metadata": {
        "id": "NZBrocZ_Bp-z"
      },
      "source": [
        "### Understanding and Found some information about our dataset"
      ]
    },
    {
      "cell_type": "markdown",
      "source": [
        "*   This dataset consists of tv shows and movies available on Netflix as of 2019. The dataset is collected from Flixable which is a third-party Netflix search.\n",
        "*   The dataset contains 7787 records(Rows) and 12 attributes(Columns).\n",
        "*   There are no duplicated records in the dataset.\n",
        "*   There are many missing values in director, cast, country, date_added, and rating columns.\n",
        "\n",
        "*   Hence The missing values in the director, cast, and country attributes can be replaced with 'Unknown' & The missing values in rating can be imputed with its mode, since this attribute is discrete & 10 records with missing values in the date_added column can be dropped.\n",
        "\n",
        "\n",
        "\n",
        "\n",
        "\n"
      ],
      "metadata": {
        "id": "O5cbxgqrD9v3"
      }
    },
    {
      "cell_type": "code",
      "source": [
        "# View new dataset\n",
        "dataset.shape"
      ],
      "metadata": {
        "colab": {
          "base_uri": "https://localhost:8080/"
        },
        "id": "XstuJqhKNWeV",
        "outputId": "4830601a-d7f4-4794-e5e3-0966a18c7719"
      },
      "execution_count": 11,
      "outputs": [
        {
          "output_type": "execute_result",
          "data": {
            "text/plain": [
              "(7777, 12)"
            ]
          },
          "metadata": {},
          "execution_count": 11
        }
      ]
    },
    {
      "cell_type": "markdown",
      "metadata": {
        "id": "El2K22RPoK5Y"
      },
      "source": [
        "## **2. Now understanding the variables available in dataset** "
      ]
    },
    {
      "cell_type": "code",
      "execution_count": 12,
      "metadata": {
        "colab": {
          "base_uri": "https://localhost:8080/"
        },
        "id": "GLlQ89DUosao",
        "outputId": "d05b5cc0-3a11-4674-fe31-91944e393674"
      },
      "outputs": [
        {
          "output_type": "execute_result",
          "data": {
            "text/plain": [
              "Index(['show_id', 'type', 'title', 'director', 'cast', 'country', 'date_added',\n",
              "       'release_year', 'rating', 'duration', 'listed_in', 'description'],\n",
              "      dtype='object')"
            ]
          },
          "metadata": {},
          "execution_count": 12
        }
      ],
      "source": [
        "# Dataset column name\n",
        "dataset.columns"
      ]
    },
    {
      "cell_type": "code",
      "execution_count": 13,
      "metadata": {
        "colab": {
          "base_uri": "https://localhost:8080/",
          "height": 394
        },
        "id": "LyH5Kxlao7Rw",
        "outputId": "7eca10a9-9902-4049-e758-17a61299c499"
      },
      "outputs": [
        {
          "output_type": "execute_result",
          "data": {
            "text/plain": [
              "       show_id   type title director     cast        country       date_added  \\\n",
              "count     7777   7777  7777     7777     7777           7777             7777   \n",
              "unique    7777      2  7777     4050     6822            682             1565   \n",
              "top         s1  Movie    3%  Unknown  Unknown  United States  January 1, 2020   \n",
              "freq         1   5377     1     2379      718           2549              118   \n",
              "mean       NaN    NaN   NaN      NaN      NaN            NaN              NaN   \n",
              "std        NaN    NaN   NaN      NaN      NaN            NaN              NaN   \n",
              "min        NaN    NaN   NaN      NaN      NaN            NaN              NaN   \n",
              "25%        NaN    NaN   NaN      NaN      NaN            NaN              NaN   \n",
              "50%        NaN    NaN   NaN      NaN      NaN            NaN              NaN   \n",
              "75%        NaN    NaN   NaN      NaN      NaN            NaN              NaN   \n",
              "max        NaN    NaN   NaN      NaN      NaN            NaN              NaN   \n",
              "\n",
              "        release_year rating  duration      listed_in  \\\n",
              "count    7777.000000   7777      7777           7777   \n",
              "unique           NaN     14       216            491   \n",
              "top              NaN  TV-MA  1 Season  Documentaries   \n",
              "freq             NaN   2868      1608            334   \n",
              "mean     2013.935965    NaN       NaN            NaN   \n",
              "std         8.760694    NaN       NaN            NaN   \n",
              "min      1925.000000    NaN       NaN            NaN   \n",
              "25%      2013.000000    NaN       NaN            NaN   \n",
              "50%      2017.000000    NaN       NaN            NaN   \n",
              "75%      2018.000000    NaN       NaN            NaN   \n",
              "max      2021.000000    NaN       NaN            NaN   \n",
              "\n",
              "                                              description  \n",
              "count                                                7777  \n",
              "unique                                               7759  \n",
              "top     Multiple women report their husbands as missin...  \n",
              "freq                                                    3  \n",
              "mean                                                  NaN  \n",
              "std                                                   NaN  \n",
              "min                                                   NaN  \n",
              "25%                                                   NaN  \n",
              "50%                                                   NaN  \n",
              "75%                                                   NaN  \n",
              "max                                                   NaN  "
            ],
            "text/html": [
              "\n",
              "  <div id=\"df-80ef4670-b0bf-47d7-b90c-d680556edc18\">\n",
              "    <div class=\"colab-df-container\">\n",
              "      <div>\n",
              "<style scoped>\n",
              "    .dataframe tbody tr th:only-of-type {\n",
              "        vertical-align: middle;\n",
              "    }\n",
              "\n",
              "    .dataframe tbody tr th {\n",
              "        vertical-align: top;\n",
              "    }\n",
              "\n",
              "    .dataframe thead th {\n",
              "        text-align: right;\n",
              "    }\n",
              "</style>\n",
              "<table border=\"1\" class=\"dataframe\">\n",
              "  <thead>\n",
              "    <tr style=\"text-align: right;\">\n",
              "      <th></th>\n",
              "      <th>show_id</th>\n",
              "      <th>type</th>\n",
              "      <th>title</th>\n",
              "      <th>director</th>\n",
              "      <th>cast</th>\n",
              "      <th>country</th>\n",
              "      <th>date_added</th>\n",
              "      <th>release_year</th>\n",
              "      <th>rating</th>\n",
              "      <th>duration</th>\n",
              "      <th>listed_in</th>\n",
              "      <th>description</th>\n",
              "    </tr>\n",
              "  </thead>\n",
              "  <tbody>\n",
              "    <tr>\n",
              "      <th>count</th>\n",
              "      <td>7777</td>\n",
              "      <td>7777</td>\n",
              "      <td>7777</td>\n",
              "      <td>7777</td>\n",
              "      <td>7777</td>\n",
              "      <td>7777</td>\n",
              "      <td>7777</td>\n",
              "      <td>7777.000000</td>\n",
              "      <td>7777</td>\n",
              "      <td>7777</td>\n",
              "      <td>7777</td>\n",
              "      <td>7777</td>\n",
              "    </tr>\n",
              "    <tr>\n",
              "      <th>unique</th>\n",
              "      <td>7777</td>\n",
              "      <td>2</td>\n",
              "      <td>7777</td>\n",
              "      <td>4050</td>\n",
              "      <td>6822</td>\n",
              "      <td>682</td>\n",
              "      <td>1565</td>\n",
              "      <td>NaN</td>\n",
              "      <td>14</td>\n",
              "      <td>216</td>\n",
              "      <td>491</td>\n",
              "      <td>7759</td>\n",
              "    </tr>\n",
              "    <tr>\n",
              "      <th>top</th>\n",
              "      <td>s1</td>\n",
              "      <td>Movie</td>\n",
              "      <td>3%</td>\n",
              "      <td>Unknown</td>\n",
              "      <td>Unknown</td>\n",
              "      <td>United States</td>\n",
              "      <td>January 1, 2020</td>\n",
              "      <td>NaN</td>\n",
              "      <td>TV-MA</td>\n",
              "      <td>1 Season</td>\n",
              "      <td>Documentaries</td>\n",
              "      <td>Multiple women report their husbands as missin...</td>\n",
              "    </tr>\n",
              "    <tr>\n",
              "      <th>freq</th>\n",
              "      <td>1</td>\n",
              "      <td>5377</td>\n",
              "      <td>1</td>\n",
              "      <td>2379</td>\n",
              "      <td>718</td>\n",
              "      <td>2549</td>\n",
              "      <td>118</td>\n",
              "      <td>NaN</td>\n",
              "      <td>2868</td>\n",
              "      <td>1608</td>\n",
              "      <td>334</td>\n",
              "      <td>3</td>\n",
              "    </tr>\n",
              "    <tr>\n",
              "      <th>mean</th>\n",
              "      <td>NaN</td>\n",
              "      <td>NaN</td>\n",
              "      <td>NaN</td>\n",
              "      <td>NaN</td>\n",
              "      <td>NaN</td>\n",
              "      <td>NaN</td>\n",
              "      <td>NaN</td>\n",
              "      <td>2013.935965</td>\n",
              "      <td>NaN</td>\n",
              "      <td>NaN</td>\n",
              "      <td>NaN</td>\n",
              "      <td>NaN</td>\n",
              "    </tr>\n",
              "    <tr>\n",
              "      <th>std</th>\n",
              "      <td>NaN</td>\n",
              "      <td>NaN</td>\n",
              "      <td>NaN</td>\n",
              "      <td>NaN</td>\n",
              "      <td>NaN</td>\n",
              "      <td>NaN</td>\n",
              "      <td>NaN</td>\n",
              "      <td>8.760694</td>\n",
              "      <td>NaN</td>\n",
              "      <td>NaN</td>\n",
              "      <td>NaN</td>\n",
              "      <td>NaN</td>\n",
              "    </tr>\n",
              "    <tr>\n",
              "      <th>min</th>\n",
              "      <td>NaN</td>\n",
              "      <td>NaN</td>\n",
              "      <td>NaN</td>\n",
              "      <td>NaN</td>\n",
              "      <td>NaN</td>\n",
              "      <td>NaN</td>\n",
              "      <td>NaN</td>\n",
              "      <td>1925.000000</td>\n",
              "      <td>NaN</td>\n",
              "      <td>NaN</td>\n",
              "      <td>NaN</td>\n",
              "      <td>NaN</td>\n",
              "    </tr>\n",
              "    <tr>\n",
              "      <th>25%</th>\n",
              "      <td>NaN</td>\n",
              "      <td>NaN</td>\n",
              "      <td>NaN</td>\n",
              "      <td>NaN</td>\n",
              "      <td>NaN</td>\n",
              "      <td>NaN</td>\n",
              "      <td>NaN</td>\n",
              "      <td>2013.000000</td>\n",
              "      <td>NaN</td>\n",
              "      <td>NaN</td>\n",
              "      <td>NaN</td>\n",
              "      <td>NaN</td>\n",
              "    </tr>\n",
              "    <tr>\n",
              "      <th>50%</th>\n",
              "      <td>NaN</td>\n",
              "      <td>NaN</td>\n",
              "      <td>NaN</td>\n",
              "      <td>NaN</td>\n",
              "      <td>NaN</td>\n",
              "      <td>NaN</td>\n",
              "      <td>NaN</td>\n",
              "      <td>2017.000000</td>\n",
              "      <td>NaN</td>\n",
              "      <td>NaN</td>\n",
              "      <td>NaN</td>\n",
              "      <td>NaN</td>\n",
              "    </tr>\n",
              "    <tr>\n",
              "      <th>75%</th>\n",
              "      <td>NaN</td>\n",
              "      <td>NaN</td>\n",
              "      <td>NaN</td>\n",
              "      <td>NaN</td>\n",
              "      <td>NaN</td>\n",
              "      <td>NaN</td>\n",
              "      <td>NaN</td>\n",
              "      <td>2018.000000</td>\n",
              "      <td>NaN</td>\n",
              "      <td>NaN</td>\n",
              "      <td>NaN</td>\n",
              "      <td>NaN</td>\n",
              "    </tr>\n",
              "    <tr>\n",
              "      <th>max</th>\n",
              "      <td>NaN</td>\n",
              "      <td>NaN</td>\n",
              "      <td>NaN</td>\n",
              "      <td>NaN</td>\n",
              "      <td>NaN</td>\n",
              "      <td>NaN</td>\n",
              "      <td>NaN</td>\n",
              "      <td>2021.000000</td>\n",
              "      <td>NaN</td>\n",
              "      <td>NaN</td>\n",
              "      <td>NaN</td>\n",
              "      <td>NaN</td>\n",
              "    </tr>\n",
              "  </tbody>\n",
              "</table>\n",
              "</div>\n",
              "      <button class=\"colab-df-convert\" onclick=\"convertToInteractive('df-80ef4670-b0bf-47d7-b90c-d680556edc18')\"\n",
              "              title=\"Convert this dataframe to an interactive table.\"\n",
              "              style=\"display:none;\">\n",
              "        \n",
              "  <svg xmlns=\"http://www.w3.org/2000/svg\" height=\"24px\"viewBox=\"0 0 24 24\"\n",
              "       width=\"24px\">\n",
              "    <path d=\"M0 0h24v24H0V0z\" fill=\"none\"/>\n",
              "    <path d=\"M18.56 5.44l.94 2.06.94-2.06 2.06-.94-2.06-.94-.94-2.06-.94 2.06-2.06.94zm-11 1L8.5 8.5l.94-2.06 2.06-.94-2.06-.94L8.5 2.5l-.94 2.06-2.06.94zm10 10l.94 2.06.94-2.06 2.06-.94-2.06-.94-.94-2.06-.94 2.06-2.06.94z\"/><path d=\"M17.41 7.96l-1.37-1.37c-.4-.4-.92-.59-1.43-.59-.52 0-1.04.2-1.43.59L10.3 9.45l-7.72 7.72c-.78.78-.78 2.05 0 2.83L4 21.41c.39.39.9.59 1.41.59.51 0 1.02-.2 1.41-.59l7.78-7.78 2.81-2.81c.8-.78.8-2.07 0-2.86zM5.41 20L4 18.59l7.72-7.72 1.47 1.35L5.41 20z\"/>\n",
              "  </svg>\n",
              "      </button>\n",
              "      \n",
              "  <style>\n",
              "    .colab-df-container {\n",
              "      display:flex;\n",
              "      flex-wrap:wrap;\n",
              "      gap: 12px;\n",
              "    }\n",
              "\n",
              "    .colab-df-convert {\n",
              "      background-color: #E8F0FE;\n",
              "      border: none;\n",
              "      border-radius: 50%;\n",
              "      cursor: pointer;\n",
              "      display: none;\n",
              "      fill: #1967D2;\n",
              "      height: 32px;\n",
              "      padding: 0 0 0 0;\n",
              "      width: 32px;\n",
              "    }\n",
              "\n",
              "    .colab-df-convert:hover {\n",
              "      background-color: #E2EBFA;\n",
              "      box-shadow: 0px 1px 2px rgba(60, 64, 67, 0.3), 0px 1px 3px 1px rgba(60, 64, 67, 0.15);\n",
              "      fill: #174EA6;\n",
              "    }\n",
              "\n",
              "    [theme=dark] .colab-df-convert {\n",
              "      background-color: #3B4455;\n",
              "      fill: #D2E3FC;\n",
              "    }\n",
              "\n",
              "    [theme=dark] .colab-df-convert:hover {\n",
              "      background-color: #434B5C;\n",
              "      box-shadow: 0px 1px 3px 1px rgba(0, 0, 0, 0.15);\n",
              "      filter: drop-shadow(0px 1px 2px rgba(0, 0, 0, 0.3));\n",
              "      fill: #FFFFFF;\n",
              "    }\n",
              "  </style>\n",
              "\n",
              "      <script>\n",
              "        const buttonEl =\n",
              "          document.querySelector('#df-80ef4670-b0bf-47d7-b90c-d680556edc18 button.colab-df-convert');\n",
              "        buttonEl.style.display =\n",
              "          google.colab.kernel.accessAllowed ? 'block' : 'none';\n",
              "\n",
              "        async function convertToInteractive(key) {\n",
              "          const element = document.querySelector('#df-80ef4670-b0bf-47d7-b90c-d680556edc18');\n",
              "          const dataTable =\n",
              "            await google.colab.kernel.invokeFunction('convertToInteractive',\n",
              "                                                     [key], {});\n",
              "          if (!dataTable) return;\n",
              "\n",
              "          const docLinkHtml = 'Like what you see? Visit the ' +\n",
              "            '<a target=\"_blank\" href=https://colab.research.google.com/notebooks/data_table.ipynb>data table notebook</a>'\n",
              "            + ' to learn more about interactive tables.';\n",
              "          element.innerHTML = '';\n",
              "          dataTable['output_type'] = 'display_data';\n",
              "          await google.colab.output.renderOutput(dataTable, element);\n",
              "          const docLink = document.createElement('div');\n",
              "          docLink.innerHTML = docLinkHtml;\n",
              "          element.appendChild(docLink);\n",
              "        }\n",
              "      </script>\n",
              "    </div>\n",
              "  </div>\n",
              "  "
            ]
          },
          "metadata": {},
          "execution_count": 13
        }
      ],
      "source": [
        "# Dataset description\n",
        "dataset.describe(include='all')"
      ]
    },
    {
      "cell_type": "markdown",
      "metadata": {
        "id": "U9lm3B9TslE9"
      },
      "source": [
        "### Checking Unique Values for each variable in dataset"
      ]
    },
    {
      "cell_type": "code",
      "execution_count": 14,
      "metadata": {
        "colab": {
          "base_uri": "https://localhost:8080/"
        },
        "id": "hN6hdAoir7XX",
        "outputId": "c52c9414-b985-4806-d858-a978a8e24e0f"
      },
      "outputs": [
        {
          "output_type": "stream",
          "name": "stdout",
          "text": [
            "No. of unique values in  show_id is 7777\n",
            "No. of unique values in  type is 2\n",
            "No. of unique values in  title is 7777\n",
            "No. of unique values in  director is 4050\n",
            "No. of unique values in  cast is 6822\n",
            "No. of unique values in  country is 682\n",
            "No. of unique values in  date_added is 1565\n",
            "No. of unique values in  release_year is 73\n",
            "No. of unique values in  rating is 14\n",
            "No. of unique values in  duration is 216\n",
            "No. of unique values in  listed_in is 491\n",
            "No. of unique values in  description is 7759\n"
          ]
        }
      ],
      "source": [
        "# For checking unique values in each column\n",
        "for i in dataset.columns.tolist():\n",
        "  print('No. of unique values in ',i,'is',dataset[i].nunique())"
      ]
    },
    {
      "cell_type": "markdown",
      "metadata": {
        "id": "iXAgCECUuD4e"
      },
      "source": [
        "## **3. Data Wrangling**"
      ]
    },
    {
      "cell_type": "markdown",
      "source": [
        "### Country & listed_in column"
      ],
      "metadata": {
        "id": "2yMsJvwc7-0h"
      }
    },
    {
      "cell_type": "code",
      "source": [
        "# Top countries\n",
        "dataset.country.value_counts()"
      ],
      "metadata": {
        "id": "dUuPZwJFV9dM",
        "colab": {
          "base_uri": "https://localhost:8080/"
        },
        "outputId": "37f44e1c-2a88-4e57-d1f5-02de5cd785c6"
      },
      "execution_count": 15,
      "outputs": [
        {
          "output_type": "execute_result",
          "data": {
            "text/plain": [
              "United States                                                   2549\n",
              "India                                                            923\n",
              "Unknown                                                          506\n",
              "United Kingdom                                                   396\n",
              "Japan                                                            225\n",
              "                                                                ... \n",
              "Russia, United States, China                                       1\n",
              "Italy, Switzerland, France, Germany                                1\n",
              "United States, United Kingdom, Canada                              1\n",
              "United States, United Kingdom, Japan                               1\n",
              "Sweden, Czech Republic, United Kingdom, Denmark, Netherlands       1\n",
              "Name: country, Length: 682, dtype: int64"
            ]
          },
          "metadata": {},
          "execution_count": 15
        }
      ]
    },
    {
      "cell_type": "code",
      "source": [
        "# Genre of shows\n",
        "dataset.listed_in.value_counts()"
      ],
      "metadata": {
        "colab": {
          "base_uri": "https://localhost:8080/"
        },
        "id": "Gsj-pYJg1TOw",
        "outputId": "1f5986c6-059b-4af7-964c-6985d81fc42a"
      },
      "execution_count": 16,
      "outputs": [
        {
          "output_type": "execute_result",
          "data": {
            "text/plain": [
              "Documentaries                                                                      334\n",
              "Stand-Up Comedy                                                                    321\n",
              "Dramas, International Movies                                                       320\n",
              "Comedies, Dramas, International Movies                                             243\n",
              "Dramas, Independent Movies, International Movies                                   215\n",
              "                                                                                  ... \n",
              "Anime Series, Crime TV Shows, TV Thrillers                                           1\n",
              "Crime TV Shows, Romantic TV Shows, Spanish-Language TV Shows                         1\n",
              "Crime TV Shows, International TV Shows, Reality TV                                   1\n",
              "International Movies, Romantic Movies, Sci-Fi & Fantasy                              1\n",
              "International TV Shows, Spanish-Language TV Shows, Stand-Up Comedy & Talk Shows      1\n",
              "Name: listed_in, Length: 491, dtype: int64"
            ]
          },
          "metadata": {},
          "execution_count": 16
        }
      ]
    },
    {
      "cell_type": "markdown",
      "source": [
        "From above country and listed_in column:-\n",
        "\n",
        "*   There are some movies / TV shows that were filmed in multiple countries, have multiple genres associated with it.\n",
        "*   To simplify the analysis, let's consider only the primary country where that respective movie / TV show was filmed. Also, let's consider only the primary genre of the respective movie / TV show.\n",
        "\n"
      ],
      "metadata": {
        "id": "Asf-U0rT2Hul"
      }
    },
    {
      "cell_type": "code",
      "source": [
        "# Choosing the primary country and primary genre to simplify the analysis\n",
        "dataset['country'] = dataset['country'].apply(lambda x: x.split(',')[0])\n",
        "dataset['listed_in'] = dataset['listed_in'].apply(lambda x: x.split(',')[0])"
      ],
      "metadata": {
        "id": "PoL0Py1h1TF0"
      },
      "execution_count": 17,
      "outputs": []
    },
    {
      "cell_type": "code",
      "source": [
        "# contry in which a movie was produced\n",
        "dataset.country.value_counts()"
      ],
      "metadata": {
        "colab": {
          "base_uri": "https://localhost:8080/"
        },
        "id": "zw8D92yU1TCs",
        "outputId": "f13efea9-0462-4b35-bc15-818d7f902e1c"
      },
      "execution_count": 18,
      "outputs": [
        {
          "output_type": "execute_result",
          "data": {
            "text/plain": [
              "United States     2877\n",
              "India              956\n",
              "United Kingdom     576\n",
              "Unknown            506\n",
              "Canada             259\n",
              "                  ... \n",
              "Zimbabwe             1\n",
              "Namibia              1\n",
              "Soviet Union         1\n",
              "Iran                 1\n",
              "Somalia              1\n",
              "Name: country, Length: 82, dtype: int64"
            ]
          },
          "metadata": {},
          "execution_count": 18
        }
      ]
    },
    {
      "cell_type": "code",
      "source": [
        "# genre of shows\n",
        "dataset.listed_in.value_counts()"
      ],
      "metadata": {
        "colab": {
          "base_uri": "https://localhost:8080/"
        },
        "id": "h-825iws1S-Y",
        "outputId": "79a0e5bc-f464-43ad-9c1a-e65ef6022139"
      },
      "execution_count": 19,
      "outputs": [
        {
          "output_type": "execute_result",
          "data": {
            "text/plain": [
              "Dramas                          1384\n",
              "Comedies                        1074\n",
              "Documentaries                    751\n",
              "Action & Adventure               721\n",
              "International TV Shows           689\n",
              "Children & Family Movies         502\n",
              "Crime TV Shows                   369\n",
              "Kids' TV                         357\n",
              "Stand-Up Comedy                  321\n",
              "Horror Movies                    244\n",
              "British TV Shows                 231\n",
              "Docuseries                       193\n",
              "Anime Series                     147\n",
              "International Movies             114\n",
              "TV Comedies                      109\n",
              "Reality TV                       102\n",
              "Classic Movies                    77\n",
              "TV Dramas                         62\n",
              "Movies                            56\n",
              "Thrillers                         49\n",
              "TV Action & Adventure             36\n",
              "Stand-Up Comedy & Talk Shows      33\n",
              "Romantic TV Shows                 28\n",
              "Independent Movies                20\n",
              "Anime Features                    19\n",
              "Classic & Cult TV                 19\n",
              "Music & Musicals                  17\n",
              "TV Shows                          12\n",
              "Cult Movies                       12\n",
              "Sci-Fi & Fantasy                  11\n",
              "TV Horror                         10\n",
              "Romantic Movies                    3\n",
              "Spanish-Language TV Shows          2\n",
              "Sports Movies                      1\n",
              "TV Sci-Fi & Fantasy                1\n",
              "LGBTQ Movies                       1\n",
              "Name: listed_in, dtype: int64"
            ]
          },
          "metadata": {},
          "execution_count": 19
        }
      ]
    },
    {
      "cell_type": "markdown",
      "source": [
        "### Converting 'duration' column datatype from string to integer"
      ],
      "metadata": {
        "id": "mSbhnClN8PZE"
      }
    },
    {
      "cell_type": "code",
      "source": [
        "# Splitting the duration column, and changing the datatype to integer\n",
        "dataset['duration'] = dataset['duration'].apply(lambda x: int(x.split()[0]))"
      ],
      "metadata": {
        "id": "otKnrUll1S73"
      },
      "execution_count": 20,
      "outputs": []
    },
    {
      "cell_type": "code",
      "source": [
        "# Number of seasons for tv shows\n",
        "dataset[dataset['type']=='TV Show'].duration.value_counts()"
      ],
      "metadata": {
        "colab": {
          "base_uri": "https://localhost:8080/"
        },
        "id": "oD8J5-Kg6G8q",
        "outputId": "c554ec3f-2db4-4fae-c7ec-b84457b8d59a"
      },
      "execution_count": 21,
      "outputs": [
        {
          "output_type": "execute_result",
          "data": {
            "text/plain": [
              "1     1608\n",
              "2      378\n",
              "3      183\n",
              "4       86\n",
              "5       57\n",
              "6       30\n",
              "7       19\n",
              "8       18\n",
              "9        8\n",
              "10       5\n",
              "11       2\n",
              "12       2\n",
              "15       2\n",
              "13       1\n",
              "16       1\n",
              "Name: duration, dtype: int64"
            ]
          },
          "metadata": {},
          "execution_count": 21
        }
      ]
    },
    {
      "cell_type": "code",
      "source": [
        "# Movie length in minutes\n",
        "dataset[dataset['type']=='Movie'].duration.unique()"
      ],
      "metadata": {
        "colab": {
          "base_uri": "https://localhost:8080/"
        },
        "id": "cdlT8ml66G6S",
        "outputId": "8e97d233-9bf6-4bf5-fe12-1ef1ca57fda2"
      },
      "execution_count": 22,
      "outputs": [
        {
          "output_type": "execute_result",
          "data": {
            "text/plain": [
              "array([ 93,  78,  80, 123,  95, 119, 118, 143, 103,  89,  91, 149, 144,\n",
              "       124,  87, 110, 128, 117, 100,  84,  99,  90, 102, 104, 105,  56,\n",
              "       125,  81,  97, 106, 107, 109,  44,  75, 101,  37, 113, 114, 130,\n",
              "        94, 140, 135,  82,  70, 121,  92, 164,  53,  83, 116,  86, 120,\n",
              "        96, 126, 129,  77, 137, 148,  28, 122, 176,  85,  22,  68, 111,\n",
              "        29, 142, 168,  21,  59,  20,  98, 108,  76,  26, 156,  30,  57,\n",
              "       150, 133, 115, 154, 127, 146, 136,  88, 131,  24, 112,  74,  63,\n",
              "        38,  25, 174,  60, 153, 158, 151, 162,  54,  51,  69,  64, 147,\n",
              "        42,  79,  40,  45, 172,  10, 163,  55,  72,  61,  71, 160, 171,\n",
              "        48, 139, 157,  15,  65, 134, 161,  62, 186,  49,  73,  58, 165,\n",
              "       166, 138, 159, 141, 132,  52,  67,  34,  66, 312, 180,  47, 155,\n",
              "        14, 177,  11,   9,  46, 145,   8,  12,  43,  50,  23, 185, 200,\n",
              "       169,  27, 170, 196,  33, 181, 204,  32,  35, 167, 179, 193,  13,\n",
              "       214,  17, 173, 192, 209, 187,  41, 182, 224, 233, 189, 152,  19,\n",
              "       208, 237,  31, 178, 230, 194, 228, 195,   3,  16,   5,  18, 205,\n",
              "       190,  36, 201, 253, 203, 191])"
            ]
          },
          "metadata": {},
          "execution_count": 22
        }
      ]
    },
    {
      "cell_type": "code",
      "source": [
        "# datatype of duration\n",
        "dataset.duration.dtype"
      ],
      "metadata": {
        "colab": {
          "base_uri": "https://localhost:8080/"
        },
        "id": "L5J8SN0w6G4H",
        "outputId": "405f0317-2b9a-4bf0-b94a-e8959e681255"
      },
      "execution_count": 23,
      "outputs": [
        {
          "output_type": "execute_result",
          "data": {
            "text/plain": [
              "dtype('int64')"
            ]
          },
          "metadata": {},
          "execution_count": 23
        }
      ]
    },
    {
      "cell_type": "markdown",
      "source": [
        "### Converting 'date_added' column from string to datetime format"
      ],
      "metadata": {
        "id": "rMDXBtB-8mii"
      }
    },
    {
      "cell_type": "code",
      "source": [
        "# Converting 'date_added' from string to datetime\n",
        "dataset[\"date_added\"] = pd.to_datetime(dataset['date_added'])"
      ],
      "metadata": {
        "id": "A2YIRxIA6G1p"
      },
      "execution_count": 24,
      "outputs": []
    },
    {
      "cell_type": "code",
      "source": [
        "# first and last date on which a show was added on Netflix\n",
        "dataset.date_added.min(),dataset.date_added.max()"
      ],
      "metadata": {
        "colab": {
          "base_uri": "https://localhost:8080/"
        },
        "id": "RUw8tfYS6Gy3",
        "outputId": "587e8e04-5d78-4eea-8e5f-7cd960043c04"
      },
      "execution_count": 25,
      "outputs": [
        {
          "output_type": "execute_result",
          "data": {
            "text/plain": [
              "(Timestamp('2008-01-01 00:00:00'), Timestamp('2021-01-16 00:00:00'))"
            ]
          },
          "metadata": {},
          "execution_count": 25
        }
      ]
    },
    {
      "cell_type": "markdown",
      "source": [
        "From above\n",
        "\n",
        "*   The shows were added on Netflix between 1st January 2008 and 16th January 2021.\n",
        "\n"
      ],
      "metadata": {
        "id": "xx6wRB7E-U09"
      }
    },
    {
      "cell_type": "code",
      "source": [
        "# Adding new attributes month_added & year_added from date_added column\n",
        "dataset['month_added'] = dataset['date_added'].dt.month\n",
        "dataset['year_added'] = dataset['date_added'].dt.year\n",
        "\n",
        "# Drop date_added column\n",
        "dataset.drop('date_added', axis=1, inplace=True)"
      ],
      "metadata": {
        "id": "lnKtRHUe6GwN"
      },
      "execution_count": 26,
      "outputs": []
    },
    {
      "cell_type": "code",
      "source": [
        "# New Dataset Rows & Columns \n",
        "dataset.shape"
      ],
      "metadata": {
        "colab": {
          "base_uri": "https://localhost:8080/"
        },
        "id": "37w7eVZJ6Gqs",
        "outputId": "414fd7bc-dc4c-4f30-9aff-5967e32fdea9"
      },
      "execution_count": 27,
      "outputs": [
        {
          "output_type": "execute_result",
          "data": {
            "text/plain": [
              "(7777, 13)"
            ]
          },
          "metadata": {},
          "execution_count": 27
        }
      ]
    },
    {
      "cell_type": "markdown",
      "source": [
        "### Changing the values name in the rating column for better understanding and insights"
      ],
      "metadata": {
        "id": "81DFWfDdfWb7"
      }
    },
    {
      "cell_type": "code",
      "source": [
        "# Changing the values in the rating column\n",
        "rating_map = {'TV-MA':'Adults',\n",
        "              'R':'Adults',\n",
        "              'PG-13':'Teens',\n",
        "              'TV-14':'Young Adults',\n",
        "              'TV-PG':'Older Kids',\n",
        "              'NR':'Adults',\n",
        "              'TV-G':'Kids',\n",
        "              'TV-Y':'Kids',\n",
        "              'TV-Y7':'Older Kids',\n",
        "              'PG':'Older Kids',\n",
        "              'G':'Kids',\n",
        "              'NC-17':'Adults',\n",
        "              'TV-Y7-FV':'Older Kids',\n",
        "              'UR':'Adults'}\n",
        "\n",
        "dataset['rating'].replace(rating_map, inplace = True)\n",
        "dataset['rating'].unique()\n",
        "     "
      ],
      "metadata": {
        "colab": {
          "base_uri": "https://localhost:8080/"
        },
        "id": "qQlC-D5VfOH1",
        "outputId": "f406f9ca-6cd8-408e-9a23-7c75753dbd83"
      },
      "execution_count": 28,
      "outputs": [
        {
          "output_type": "execute_result",
          "data": {
            "text/plain": [
              "array(['Adults', 'Teens', 'Young Adults', 'Older Kids', 'Kids'],\n",
              "      dtype=object)"
            ]
          },
          "metadata": {},
          "execution_count": 28
        }
      ]
    },
    {
      "cell_type": "code",
      "source": [
        "# Dataset Info\n",
        "dataset.info()"
      ],
      "metadata": {
        "colab": {
          "base_uri": "https://localhost:8080/"
        },
        "id": "7sC7HV5J6GoH",
        "outputId": "a052527a-e410-43c7-bddf-de07792af9f0"
      },
      "execution_count": 29,
      "outputs": [
        {
          "output_type": "stream",
          "name": "stdout",
          "text": [
            "<class 'pandas.core.frame.DataFrame'>\n",
            "Int64Index: 7777 entries, 0 to 7786\n",
            "Data columns (total 13 columns):\n",
            " #   Column        Non-Null Count  Dtype \n",
            "---  ------        --------------  ----- \n",
            " 0   show_id       7777 non-null   object\n",
            " 1   type          7777 non-null   object\n",
            " 2   title         7777 non-null   object\n",
            " 3   director      7777 non-null   object\n",
            " 4   cast          7777 non-null   object\n",
            " 5   country       7777 non-null   object\n",
            " 6   release_year  7777 non-null   int64 \n",
            " 7   rating        7777 non-null   object\n",
            " 8   duration      7777 non-null   int64 \n",
            " 9   listed_in     7777 non-null   object\n",
            " 10  description   7777 non-null   object\n",
            " 11  month_added   7777 non-null   int64 \n",
            " 12  year_added    7777 non-null   int64 \n",
            "dtypes: int64(4), object(9)\n",
            "memory usage: 850.6+ KB\n"
          ]
        }
      ]
    },
    {
      "cell_type": "markdown",
      "source": [
        "Hurry, now our dataset is complately ready for EDA "
      ],
      "metadata": {
        "id": "uzaetHRM_nVi"
      }
    },
    {
      "cell_type": "markdown",
      "metadata": {
        "id": "fIqzaiHp3dSs"
      },
      "source": [
        "## **4. EDA, Data Vizualization, Storytelling & Experimenting with charts : Understand the relationships between variables**"
      ]
    },
    {
      "cell_type": "markdown",
      "metadata": {
        "id": "6MhQ51pTAvVt"
      },
      "source": [
        "### **1. Univariate Analysis**"
      ]
    },
    {
      "cell_type": "markdown",
      "metadata": {
        "id": "Pqvch0vmBlUI"
      },
      "source": [
        "Univariate analysis explores each variable in a data set, separately. \n",
        "\n",
        "Uni means one, so in other words the data has only one variable. Univariate data requires to analyze each variable separately. \n",
        "\n",
        "It looks at the range of values, as well as the central tendency of the values. It describes the pattern of response to the variable. It describes each variable on its own.\n",
        "\n",
        "Now Below is some variables which we doing analysis over them:- "
      ]
    },
    {
      "cell_type": "markdown",
      "metadata": {
        "id": "rgUt9MgNFL3L"
      },
      "source": [
        "#### Chart-1"
      ]
    },
    {
      "cell_type": "markdown",
      "source": [
        "Here we use pie chart\n",
        "\n",
        "A pie chart, sometimes called a circle chart, is a way of summarizing a set of nominal data or displaying the different values of a given variable."
      ],
      "metadata": {
        "id": "XIwlgQZ_HkKQ"
      }
    },
    {
      "cell_type": "code",
      "source": [
        "# Number of Movies and TV Shows in the dataset\n",
        "plt.figure(figsize=(10,7))\n",
        "y = dataset.type.value_counts()\n",
        "mylabels = ['Movies', 'TV Shows']\n",
        "myexplode = [0.05, 0.05]\n",
        "plt.pie(y,labels = mylabels, explode = myexplode,autopct='%1.2f%%', shadow = True)\n",
        "plt.title('Movies and TV Shows in the dataset')\n",
        "plt.show() "
      ],
      "metadata": {
        "id": "uADgqbH0oMTl",
        "colab": {
          "base_uri": "https://localhost:8080/",
          "height": 0
        },
        "outputId": "9f71d830-599f-4603-b10f-50bb19bcc81c"
      },
      "execution_count": 30,
      "outputs": [
        {
          "output_type": "display_data",
          "data": {
            "text/plain": [
              "<Figure size 720x504 with 1 Axes>"
            ],
            "image/png": "[encoded data removed]"
          },
          "metadata": {}
        }
      ]
    },
    {
      "cell_type": "markdown",
      "source": [
        "From above pie chart:-\n",
        "\n",
        "*   There are higher movies 69.14% in datset as compare to TV shows 30.86% in the dataset.\n",
        "\n"
      ],
      "metadata": {
        "id": "bXhUxMd3IC45"
      }
    },
    {
      "cell_type": "markdown",
      "source": [
        "#### Chart-2"
      ],
      "metadata": {
        "id": "NvMnsduKIr4K"
      }
    },
    {
      "cell_type": "markdown",
      "source": [
        "Here we use bar plot\n",
        "\n",
        "A barplot (or barchart) is one of the most common types of graphic. It shows the relationship between a numeric and a categoric variable. Each entity of the categoric variable is represented as a bar. The size of the bar represents its numeric value."
      ],
      "metadata": {
        "id": "6kT40Y7MJDgR"
      }
    },
    {
      "cell_type": "code",
      "source": [
        "# Top 10 directors in the dataset\n",
        "plt.figure(figsize=(15,6))\n",
        "dataset[~(dataset['director']=='Unknown')].director.value_counts().nlargest(10).plot(kind='bar')\n",
        "plt.title('Top 10 directors by number of shows directed')"
      ],
      "metadata": {
        "colab": {
          "base_uri": "https://localhost:8080/",
          "height": 515
        },
        "id": "AvMORBE-K6ML",
        "outputId": "a4c58dfa-6f5e-4949-fd80-b5164d2d4f9b"
      },
      "execution_count": 31,
      "outputs": [
        {
          "output_type": "execute_result",
          "data": {
            "text/plain": [
              "Text(0.5, 1.0, 'Top 10 directors by number of shows directed')"
            ]
          },
          "metadata": {},
          "execution_count": 31
        },
        {
          "output_type": "display_data",
          "data": {
            "text/plain": [
              "<Figure size 1080x432 with 1 Axes>"
            ],
            "image/png": "[encoded data removed]"
          },
          "metadata": {
            "needs_background": "light"
          }
        }
      ]
    },
    {
      "cell_type": "markdown",
      "source": [
        "From above bar plot there are showing Top 10 directors by number of shows directed:-\n",
        "\n",
        "*   Raul Campos and Jan Suter together have directed 18 movies / TV shows, which is higher than anyone in the top 10 director in dataset.\n",
        "*   Ryan polito & david dhawan have lowest no of directed movies / TV shows which is 8 & 9 respectively in top 10 director dataset.\n",
        "\n"
      ],
      "metadata": {
        "id": "oN5lf5ikL7Z4"
      }
    },
    {
      "cell_type": "markdown",
      "source": [
        "#### Chart-3"
      ],
      "metadata": {
        "id": "Hb3hcAirIwYK"
      }
    },
    {
      "cell_type": "markdown",
      "source": [
        "Here we use bar plot"
      ],
      "metadata": {
        "id": "OsP6hWj2NNuI"
      }
    },
    {
      "cell_type": "code",
      "source": [
        "# Top 10 countries with the highest number movies / TV shows in the dataset\n",
        "plt.figure(figsize=(15,5))\n",
        "dataset[~(dataset['country']=='Unknown')].country.value_counts().nlargest(10).plot(kind='barh')\n",
        "plt.title(' Top 10 countries with the highest number of shows')"
      ],
      "metadata": {
        "colab": {
          "base_uri": "https://localhost:8080/",
          "height": 0
        },
        "id": "niEZ8q89ONt_",
        "outputId": "167dc96e-284a-494d-e50e-425c53458080"
      },
      "execution_count": 32,
      "outputs": [
        {
          "output_type": "execute_result",
          "data": {
            "text/plain": [
              "Text(0.5, 1.0, ' Top 10 countries with the highest number of shows')"
            ]
          },
          "metadata": {},
          "execution_count": 32
        },
        {
          "output_type": "display_data",
          "data": {
            "text/plain": [
              "<Figure size 1080x360 with 1 Axes>"
            ],
            "image/png": "[encoded data removed]"
          },
          "metadata": {
            "needs_background": "light"
          }
        }
      ]
    },
    {
      "cell_type": "code",
      "source": [
        "# % share of movies / tv shows by top 3 countries\n",
        "dataset.country.value_counts().nlargest(3).sum()/len(dataset)*100"
      ],
      "metadata": {
        "colab": {
          "base_uri": "https://localhost:8080/"
        },
        "id": "AcHprn4QZ_7k",
        "outputId": "e4ba3439-cdba-478a-92f5-8597e4d0cfa2"
      },
      "execution_count": 33,
      "outputs": [
        {
          "output_type": "execute_result",
          "data": {
            "text/plain": [
              "56.69281213835669"
            ]
          },
          "metadata": {},
          "execution_count": 33
        }
      ]
    },
    {
      "cell_type": "code",
      "source": [
        "# % share of movies / tv shows by top 10 countries\n",
        "dataset.country.value_counts().nlargest(10).sum()/len(dataset)*100"
      ],
      "metadata": {
        "colab": {
          "base_uri": "https://localhost:8080/"
        },
        "id": "wTbV2Sw0aG2r",
        "outputId": "0b13761d-575e-4290-b456-09942d84d87a"
      },
      "execution_count": 34,
      "outputs": [
        {
          "output_type": "execute_result",
          "data": {
            "text/plain": [
              "78.32068921177832"
            ]
          },
          "metadata": {},
          "execution_count": 34
        }
      ]
    },
    {
      "cell_type": "markdown",
      "source": [
        "From above bar plot showing Top 10 countries with the highest number of movies / TV shows in the dataset:-\n",
        "\n",
        "*   United States are the top one country of highest number of movies / TV shows in the dataset and then after India & United Kingdom are 2 & 3 Number in dataset\n",
        "*   Mexico & Australia have 9 & 10 position in Top 10 countries with the highest number of movies / TV shows in the dataset.\n",
        "\n",
        "*   The top 3 countries together account for about 56% of all movies and TV shows in the dataset.\n",
        "*   Where the top ten countries together account for about 78% of all movies and TV shows in the dataset.\n",
        "\n",
        "\n",
        "\n"
      ],
      "metadata": {
        "id": "o9BY3XExOpwm"
      }
    },
    {
      "cell_type": "markdown",
      "source": [
        "#### Chart-4"
      ],
      "metadata": {
        "id": "JZ8ydoJwIzts"
      }
    },
    {
      "cell_type": "markdown",
      "source": [
        "Here we use Histogram\n",
        "\n",
        "In statistics, a histogram is a graphical representation of the distribution of data. The histogram is represented by a set of rectangles, adjacent to each other, where each bar represent a kind of data."
      ],
      "metadata": {
        "id": "JSbhGFH_Qnav"
      }
    },
    {
      "cell_type": "code",
      "source": [
        "# Visualizing the year in which the movie / tv show was released\n",
        "plt.figure(figsize=(13,7))\n",
        "sns.histplot(dataset['release_year'])\n",
        "plt.title('Distribution by Released Year')"
      ],
      "metadata": {
        "colab": {
          "base_uri": "https://localhost:8080/",
          "height": 0
        },
        "id": "qsBFcivZZxOz",
        "outputId": "b0214b71-f8ad-49b7-fca1-8bea2ddd1f56"
      },
      "execution_count": 35,
      "outputs": [
        {
          "output_type": "execute_result",
          "data": {
            "text/plain": [
              "Text(0.5, 1.0, 'Distribution by Released Year')"
            ]
          },
          "metadata": {},
          "execution_count": 35
        },
        {
          "output_type": "display_data",
          "data": {
            "text/plain": [
              "<Figure size 936x504 with 1 Axes>"
            ],
            "image/png": "[encoded data removed]"
          },
          "metadata": {
            "needs_background": "light"
          }
        }
      ]
    },
    {
      "cell_type": "markdown",
      "source": [
        "from above histogram\n",
        "\n",
        "*   Most number of movies / TV shows are released between 2000 to 2020 years where it goes high in recently years which between 2015 to 2020.\n"
      ],
      "metadata": {
        "id": "xi65yuEjbHSv"
      }
    },
    {
      "cell_type": "markdown",
      "source": [
        "#### Chart-5"
      ],
      "metadata": {
        "id": "rcg7oR4DI3dF"
      }
    },
    {
      "cell_type": "markdown",
      "source": [
        "Here we use countplot\n",
        "\n",
        "countplot() method is used to Show the counts of observations in each categorical bin using bars."
      ],
      "metadata": {
        "id": "ysUEgcq-mV7L"
      }
    },
    {
      "cell_type": "code",
      "source": [
        "# Number of shows added over the years\n",
        "plt.figure(figsize = (13,5)) \n",
        "sns.countplot(dataset['year_added'])\n",
        "plt.xlabel('Number of Year',fontsize=12)\n",
        "plt.ylabel('Number of Shows',fontsize=12)\n",
        "plt.title('Number of shows added each year')"
      ],
      "metadata": {
        "colab": {
          "base_uri": "https://localhost:8080/",
          "height": 0
        },
        "id": "5NX88tOZlLBn",
        "outputId": "0cf9b294-4e06-4065-e96d-9f3ba5ec3c02"
      },
      "execution_count": 36,
      "outputs": [
        {
          "output_type": "execute_result",
          "data": {
            "text/plain": [
              "Text(0.5, 1.0, 'Number of shows added each year')"
            ]
          },
          "metadata": {},
          "execution_count": 36
        },
        {
          "output_type": "display_data",
          "data": {
            "text/plain": [
              "<Figure size 936x360 with 1 Axes>"
            ],
            "image/png": "[encoded data removed]"
          },
          "metadata": {
            "needs_background": "light"
          }
        }
      ]
    },
    {
      "cell_type": "markdown",
      "source": [
        "From above countplot:-\n",
        "\n",
        "*   Netflix continuous to add more shows on its platform over the few years.\n",
        "*   There is a decrease in the number of shows added in the year 2020, which might be attributed to the covid-19-induced lockdowns, which halted the creation of shows.\n",
        "\n",
        "*   We have Netflix data only up to 16th January 2021, hence there are less movies added in this year.\n",
        "\n",
        "\n",
        "\n"
      ],
      "metadata": {
        "id": "NQVQxuJhl2fR"
      }
    },
    {
      "cell_type": "markdown",
      "source": [
        "#### Chart-6"
      ],
      "metadata": {
        "id": "OV2moiVrI2JI"
      }
    },
    {
      "cell_type": "markdown",
      "source": [
        "Here we use countplot\n",
        "\n",
        "countplot() method is used to Show the counts of observations in each categorical bin using bars."
      ],
      "metadata": {
        "id": "MCCLWjDrhNfX"
      }
    },
    {
      "cell_type": "code",
      "source": [
        "# Number of shows added on different months\n",
        "plt.figure(figsize = (13,5)) \n",
        "sns.countplot(dataset['month_added'])\n",
        "plt.xlabel('Month in Year',fontsize=12)\n",
        "plt.ylabel('Number of Shows',fontsize=12)\n",
        "plt.title('Shows added each month over the years')"
      ],
      "metadata": {
        "colab": {
          "base_uri": "https://localhost:8080/",
          "height": 0
        },
        "id": "l9g99wn4hOub",
        "outputId": "54fb6938-da4b-4e9e-ed5c-01bd1885dcad"
      },
      "execution_count": 37,
      "outputs": [
        {
          "output_type": "execute_result",
          "data": {
            "text/plain": [
              "Text(0.5, 1.0, 'Shows added each month over the years')"
            ]
          },
          "metadata": {},
          "execution_count": 37
        },
        {
          "output_type": "display_data",
          "data": {
            "text/plain": [
              "<Figure size 936x360 with 1 Axes>"
            ],
            "image/png": "[encoded data removed]"
          },
          "metadata": {
            "needs_background": "light"
          }
        }
      ]
    },
    {
      "cell_type": "markdown",
      "source": [
        "From above countplot:-\n",
        "\n",
        "*   Over the years a greater number of shows were added in the months of October, November, December, and January.\n",
        "*   February, May, June were less number of shows added Over the years.\n",
        "\n"
      ],
      "metadata": {
        "id": "RR1NXWYai_4u"
      }
    },
    {
      "cell_type": "markdown",
      "source": [
        "#### Chart-7"
      ],
      "metadata": {
        "id": "AAowYUwkI0y1"
      }
    },
    {
      "cell_type": "markdown",
      "source": [
        "Here we use countplot\n",
        "\n",
        "countplot() method is used to Show the counts of observations in each categorical bin using bars."
      ],
      "metadata": {
        "id": "G38erRRNeIqb"
      }
    },
    {
      "cell_type": "code",
      "source": [
        "# Age ratings for shows in the dataset\n",
        "plt.figure(figsize=(13,5))\n",
        "sns.countplot(x='rating',data=dataset)\n",
        "plt.xlabel('Different Age Groups',fontsize=12)\n",
        "plt.ylabel('Number of Shows',fontsize=12)\n",
        "plt.title('Number of shows on Netflix for different age groups')"
      ],
      "metadata": {
        "colab": {
          "base_uri": "https://localhost:8080/",
          "height": 371
        },
        "id": "s29pxWbSeHei",
        "outputId": "51087fdb-fa7b-4369-85b4-3d0c7cdc1106"
      },
      "execution_count": 38,
      "outputs": [
        {
          "output_type": "execute_result",
          "data": {
            "text/plain": [
              "Text(0.5, 1.0, 'Number of shows on Netflix for different age groups')"
            ]
          },
          "metadata": {},
          "execution_count": 38
        },
        {
          "output_type": "display_data",
          "data": {
            "text/plain": [
              "<Figure size 936x360 with 1 Axes>"
            ],
            "image/png": "[encoded data removed]"
          },
          "metadata": {
            "needs_background": "light"
          }
        }
      ]
    },
    {
      "cell_type": "markdown",
      "source": [
        "From above countplot:-\n",
        "\n",
        "*   Adults are the highest number of shows and second highest is Young Adults and third highest is older Kids shows.\n",
        "*   Teens and kids are less number of shows on netflix as compare to other.\n",
        "\n"
      ],
      "metadata": {
        "id": "wMQu-ElCf9CS"
      }
    },
    {
      "cell_type": "markdown",
      "source": [
        "#### Chart-8"
      ],
      "metadata": {
        "id": "f2pHq2avI4mq"
      }
    },
    {
      "cell_type": "markdown",
      "source": [
        "Here we use barplot\n",
        "\n",
        "A bar graph is a graphical representation of data in which we can highlight the category with particular shapes like a rectangle. The length and heights of the bar chart represent the data distributed in the dataset. In a bar chart, we have one axis representing a particular category of a column in the dataset and another axis representing the values or counts associated with it. Bar charts can be plotted vertically or horizontally. A vertical bar chart is often called a column chart."
      ],
      "metadata": {
        "id": "TtUn7yJPnNK6"
      }
    },
    {
      "cell_type": "markdown",
      "source": [
        "hhhjjj"
      ],
      "metadata": {
        "id": "u9NWG5IpMs20"
      }
    },
    {
      "cell_type": "code",
      "source": [
        "# Top 10 genres \n",
        "plt.figure(figsize=(13,5))\n",
        "dataset.listed_in.value_counts().nlargest(10).plot(kind='bar')\n",
        "plt.ylabel('Number of Shows',fontsize=12)\n",
        "plt.title('Top 10 genres')"
      ],
      "metadata": {
        "colab": {
          "base_uri": "https://localhost:8080/",
          "height": 470
        },
        "id": "JSlykRNAnMD-",
        "outputId": "bee59516-6121-47f5-ea02-03621d79741b"
      },
      "execution_count": 39,
      "outputs": [
        {
          "output_type": "execute_result",
          "data": {
            "text/plain": [
              "Text(0.5, 1.0, 'Top 10 genres')"
            ]
          },
          "metadata": {},
          "execution_count": 39
        },
        {
          "output_type": "display_data",
          "data": {
            "text/plain": [
              "<Figure size 936x360 with 1 Axes>"
            ],
            "image/png": "[encoded data removed]"
          },
          "metadata": {
            "needs_background": "light"
          }
        }
      ]
    },
    {
      "cell_type": "code",
      "source": [
        "# % of top 10 genres\n",
        "dataset.listed_in.value_counts().nlargest(10).sum()/len(dataset)*100"
      ],
      "metadata": {
        "colab": {
          "base_uri": "https://localhost:8080/"
        },
        "id": "FZraMZe6oFMB",
        "outputId": "1f0c1c0e-d878-4881-93d7-53c473c581e2"
      },
      "execution_count": 40,
      "outputs": [
        {
          "output_type": "execute_result",
          "data": {
            "text/plain": [
              "82.44824482448246"
            ]
          },
          "metadata": {},
          "execution_count": 40
        }
      ]
    },
    {
      "cell_type": "markdown",
      "source": [
        "From above bar plot there are showing Top 10 genres by number of shows:-\n",
        "\n",
        "*   There are top ten genres account for about 82% of all movies and TV shows.\n",
        "*   The dramas is the most popular genres then comedies genres is second highest and documentries is third highest.\n",
        "\n",
        "*   Genres of stand up comedy and horror movies are ninth and tenth highest in dataset."
      ],
      "metadata": {
        "id": "XTsYfDxlov-_"
      }
    },
    {
      "cell_type": "markdown",
      "source": [
        "#### Chart-9"
      ],
      "metadata": {
        "id": "ICveI-ehI5vp"
      }
    },
    {
      "cell_type": "code",
      "source": [
        "# seperating actor from cast column\n",
        "cast =dataset[~(dataset['cast']=='Unknown')].cast.str.split(', ', expand=True).stack().reset_index(level=1, drop=True)\n",
        "\n",
        "# top actors name who play highest role in movie/show.\n",
        "cast.value_counts()"
      ],
      "metadata": {
        "colab": {
          "base_uri": "https://localhost:8080/"
        },
        "id": "Z33SdGnstK4y",
        "outputId": "2017af47-d28a-4c5d-ca0f-1e1824df0470"
      },
      "execution_count": 50,
      "outputs": [
        {
          "output_type": "execute_result",
          "data": {
            "text/plain": [
              "Anupam Kher         42\n",
              "Shah Rukh Khan      35\n",
              "Om Puri             30\n",
              "Naseeruddin Shah    30\n",
              "Akshay Kumar        29\n",
              "                    ..\n",
              "Lorenz Martinez      1\n",
              "Art Acuña            1\n",
              "Archie Alemania      1\n",
              "Demore Barnes        1\n",
              "Rachel Khoo          1\n",
              "Length: 32847, dtype: int64"
            ]
          },
          "metadata": {},
          "execution_count": 50
        }
      ]
    },
    {
      "cell_type": "code",
      "source": [
        "plt.figure(figsize=(13,5))\n",
        "cast.value_counts().nlargest(10).plot(kind='bar')\n",
        "plt.ylabel('Number of Shows',fontsize=12)\n",
        "plt.title('Top 10 Actors')"
      ],
      "metadata": {
        "colab": {
          "base_uri": "https://localhost:8080/",
          "height": 438
        },
        "id": "kV1j2VMjQyUC",
        "outputId": "24226203-4e6a-46eb-bd23-bbada4adff26"
      },
      "execution_count": 49,
      "outputs": [
        {
          "output_type": "execute_result",
          "data": {
            "text/plain": [
              "Text(0.5, 1.0, 'Top 10 Actors')"
            ]
          },
          "metadata": {},
          "execution_count": 49
        },
        {
          "output_type": "display_data",
          "data": {
            "text/plain": [
              "<Figure size 936x360 with 1 Axes>"
            ],
            "image/png": "[encoded data removed]"
          },
          "metadata": {
            "needs_background": "light"
          }
        }
      ]
    },
    {
      "cell_type": "markdown",
      "source": [
        "From above bar plot of top ten actors name who play highest role in movie/show.\n",
        "\n",
        "*   Anupam kher play highest role in movie/show where shah rukh khan play secong highest role in movie/show. \n",
        "*   Paresh rawal, yuki kaji play ninth & tenth highest role in movie/show."
      ],
      "metadata": {
        "id": "_9kf_kaXRBnz"
      }
    },
    {
      "cell_type": "markdown",
      "metadata": {
        "id": "xMxnvFNFBFPp"
      },
      "source": [
        "### **2. Bivariate Analysis**"
      ]
    },
    {
      "cell_type": "markdown",
      "metadata": {
        "id": "FjTnMRDiDQWr"
      },
      "source": [
        "Bivariate analysis is one of the statistical analysis where two variables are observed. \n",
        "\n",
        "One variable here is dependent while the other is independent.\n",
        "\n",
        "here we analyse the changes occured between the two variables and to what extent.\n",
        "\n",
        "Now Below is some variables which we doing analysis over them:-"
      ]
    },
    {
      "cell_type": "markdown",
      "source": [
        "#### Chart-1"
      ],
      "metadata": {
        "id": "KVAP7L-yTiR4"
      }
    },
    {
      "cell_type": "markdown",
      "source": [
        "Here we use countplot\n",
        "\n",
        "countplot() method is used to Show the counts of observations in each categorical bin using bars."
      ],
      "metadata": {
        "id": "z8uAI-BeUjkX"
      }
    },
    {
      "cell_type": "code",
      "source": [
        "# Number of movies and TV shows added over the years\n",
        "plt.figure(figsize=(20,6))\n",
        "p = sns.countplot(x='year_added',data=dataset, hue='type')\n",
        "plt.xlabel('Adding Years',fontsize=12)\n",
        "plt.ylabel('Number of Shows',fontsize=12)\n",
        "plt.title('Number of movies and TV shows added over the years')\n",
        "for i in p.patches:\n",
        "  p.annotate(format(i.get_height(), '.0f'), (i.get_x() + i.get_width() / 2., i.get_height()), ha = 'center', va = 'center', xytext = (0, 10), textcoords = 'offset points')\n"
      ],
      "metadata": {
        "colab": {
          "base_uri": "https://localhost:8080/",
          "height": 407
        },
        "id": "pD7HRKNSWNJO",
        "outputId": "b752e0df-3301-40b5-b23c-2ff3a52bd518"
      },
      "execution_count": 66,
      "outputs": [
        {
          "output_type": "display_data",
          "data": {
            "text/plain": [
              "<Figure size 1440x432 with 1 Axes>"
            ],
            "image/png": "[encoded data removed]"
          },
          "metadata": {
            "needs_background": "light"
          }
        }
      ]
    },
    {
      "cell_type": "markdown",
      "source": [
        "From above countplot\n",
        "\n",
        "*   Most of the years have more movies adding as compare to TV shows in Netflix.\n",
        "*   Also Over the last few years from 2015 to 2021 Netflix has consistently focused on adding more shows in its platform.\n",
        "\n"
      ],
      "metadata": {
        "id": "M-yrXO9EWZWk"
      }
    },
    {
      "cell_type": "markdown",
      "source": [
        "#### Chart-2"
      ],
      "metadata": {
        "id": "UCgrVCYRS33R"
      }
    },
    {
      "cell_type": "markdown",
      "source": [
        "Here we use countplot\n",
        "\n",
        "countplot() method is used to Show the counts of observations in each categorical bin using bars."
      ],
      "metadata": {
        "id": "Kx-q8l6zZGpY"
      }
    },
    {
      "cell_type": "code",
      "source": [
        "# Number of shows released each year since 2008\n",
        "order = range(2008,2022)\n",
        "plt.figure(figsize=(15,7))\n",
        "p = sns.countplot(x='release_year',data=dataset, hue='type',\n",
        "                  order = order)\n",
        "plt.xlabel('Release Years',fontsize=12)\n",
        "plt.ylabel('Number of Shows',fontsize=12)\n",
        "plt.title('Number of shows released each year since 2008 that are on Netflix')\n",
        "\n",
        "for i in p.patches:\n",
        "  p.annotate(format(i.get_height(), '.0f'), (i.get_x() + i.get_width() / 2., i.get_height()), ha = 'center', va = 'center', xytext = (0, 10), textcoords = 'offset points')"
      ],
      "metadata": {
        "colab": {
          "base_uri": "https://localhost:8080/",
          "height": 461
        },
        "id": "Dv-GxjyXYaH7",
        "outputId": "b2c47c72-a3d0-4f57-c641-da36e0fa913d"
      },
      "execution_count": 70,
      "outputs": [
        {
          "output_type": "display_data",
          "data": {
            "text/plain": [
              "<Figure size 1080x504 with 1 Axes>"
            ],
            "image/png": "[encoded data removed]"
          },
          "metadata": {
            "needs_background": "light"
          }
        }
      ]
    },
    {
      "cell_type": "markdown",
      "source": [
        "From above countplot:-\n",
        "\n",
        "*   From 2008 to 2018 Number of releaing Movies & TV Shows gradually increasing in each year.\n",
        "\n",
        "*   from year 2008 to 2019 movies releasing is higher compare to TV shows.\n",
        "\n",
        "\n",
        "*   Where year of 2017 & 2018 have highest number of releasing movies which is 744 & 734 respectively.\n",
        "\n",
        "*   Where year of 2019 & 2020 have highest number of releasing TV Show which is 414 and 457 respectively\n",
        "\n",
        "\n",
        "\n"
      ],
      "metadata": {
        "id": "Ci88c61AZUeZ"
      }
    },
    {
      "cell_type": "markdown",
      "source": [
        "#### Chart-3"
      ],
      "metadata": {
        "id": "N09ZlM2BS4zN"
      }
    },
    {
      "cell_type": "markdown",
      "source": [
        "here we use countplot\n",
        "\n",
        "A count plot can be thought of as a histogram across a categorical, instead of quantitative, variable. The basic API and options are identical to those for barplot() , so you can compare counts across nested variables."
      ],
      "metadata": {
        "id": "dZy7foiBc8vn"
      }
    },
    {
      "cell_type": "code",
      "source": [
        "# Seasons in each TV show\n",
        "plt.figure(figsize=(15,7))\n",
        "p = sns.countplot(x='duration',data=dataset[dataset['type']=='TV Show'])\n",
        "plt.xlabel('Number of Seasons',fontsize=12)\n",
        "plt.ylabel('Number of Shows',fontsize=12)\n",
        "plt.title('Number of seasons per TV show distribution')\n",
        "\n",
        "for i in p.patches:\n",
        "  p.annotate(format(i.get_height(), '.0f'), (i.get_x() + i.get_width() / 2., i.get_height()), ha = 'center', va = 'center', xytext = (0, 10), textcoords = 'offset points')"
      ],
      "metadata": {
        "colab": {
          "base_uri": "https://localhost:8080/",
          "height": 461
        },
        "id": "t0IhJlnHcyZG",
        "outputId": "c3e18dec-57b8-4d1c-c3db-1e872241b4b0"
      },
      "execution_count": 75,
      "outputs": [
        {
          "output_type": "display_data",
          "data": {
            "text/plain": [
              "<Figure size 1080x504 with 1 Axes>"
            ],
            "image/png": "[encoded data removed]"
          },
          "metadata": {
            "needs_background": "light"
          }
        }
      ]
    },
    {
      "cell_type": "markdown",
      "source": [
        "From above countplot:-\n",
        "\n",
        "*   Total season of tv shows is upto 16.\n",
        "*   Most of the season of tv shows is one This might mean that the majority of TV shows has only recently begun, and that further seasons are on the way.\n",
        "\n",
        "*   There are very few TV shows that have more than 8 seasons."
      ],
      "metadata": {
        "id": "yhAAgu5qeDbl"
      }
    },
    {
      "cell_type": "markdown",
      "source": [
        "#### Chart-4"
      ],
      "metadata": {
        "id": "VntZ9KOOS4qZ"
      }
    },
    {
      "cell_type": "markdown",
      "source": [
        "Here we use distplot\n",
        "\n",
        "We use a displot (also known as a distribution plot) to represent data in histogram form. It is a univariant set of collected data, which means the data distribution of one variable will be shown against another variable and it represents the overall distribution of continuous data variables."
      ],
      "metadata": {
        "id": "UbNV4x43g4Ty"
      }
    },
    {
      "cell_type": "code",
      "source": [
        "# Length distribution of movies\n",
        "movie_df = dataset[dataset['type']=='Movie']\n",
        "\n",
        "plt.figure(figsize=(15, 7))\n",
        "\n",
        "sns.distplot(movie_df['duration'], bins=30,color='Blue').set(ylabel=None)\n",
        "\n",
        "plt.title('Length distribution of movies', fontsize=16,fontweight=\"bold\")\n",
        "plt.xlabel('Duration', fontsize=14)\n",
        "plt.show()"
      ],
      "metadata": {
        "colab": {
          "base_uri": "https://localhost:8080/",
          "height": 464
        },
        "id": "FkZHWdsdf221",
        "outputId": "8ef8b5aa-41f6-4ee0-a3f4-99324e507b00"
      },
      "execution_count": 78,
      "outputs": [
        {
          "output_type": "display_data",
          "data": {
            "text/plain": [
              "<Figure size 1080x504 with 1 Axes>"
            ],
            "image/png": "[encoded data removed]"
          },
          "metadata": {
            "needs_background": "light"
          }
        }
      ]
    },
    {
      "cell_type": "code",
      "source": [
        "# Movie statistics\n",
        "dataset[dataset['type']== 'Movie'].duration.describe()"
      ],
      "metadata": {
        "colab": {
          "base_uri": "https://localhost:8080/"
        },
        "id": "6fbehxwXgYsK",
        "outputId": "cb816ea0-371f-4a2e-c05f-541264344e48"
      },
      "execution_count": 77,
      "outputs": [
        {
          "output_type": "execute_result",
          "data": {
            "text/plain": [
              "count    5377.000000\n",
              "mean       99.307978\n",
              "std        28.530881\n",
              "min         3.000000\n",
              "25%        86.000000\n",
              "50%        98.000000\n",
              "75%       114.000000\n",
              "max       312.000000\n",
              "Name: duration, dtype: float64"
            ]
          },
          "metadata": {},
          "execution_count": 77
        }
      ]
    },
    {
      "cell_type": "markdown",
      "source": [
        "From above distplot:-\n",
        "\n",
        "*   The length of a movie may range from 3 min to 312 minutes.\n",
        "*   Most of the movie length between 50 to 150 min and there are very less movies hows length is above 200 min hence the distribution is almost normally distributed."
      ],
      "metadata": {
        "id": "VsP54Vi8hOZD"
      }
    },
    {
      "cell_type": "markdown",
      "source": [
        "#### Chart-5"
      ],
      "metadata": {
        "id": "SMY52zRXTGv3"
      }
    },
    {
      "cell_type": "markdown",
      "source": [
        "#### Chart-6"
      ],
      "metadata": {
        "id": "1JV5YuRYTIwT"
      }
    },
    {
      "cell_type": "markdown",
      "source": [
        "#### Chart-7"
      ],
      "metadata": {
        "id": "WhPqZJ9ATJ9V"
      }
    },
    {
      "cell_type": "markdown",
      "source": [
        "#### Chart-8"
      ],
      "metadata": {
        "id": "U6N63B5PTLEK"
      }
    },
    {
      "cell_type": "markdown",
      "source": [
        "#### Chart-9"
      ],
      "metadata": {
        "id": "8bzrTe-LTMlc"
      }
    },
    {
      "cell_type": "markdown",
      "metadata": {
        "id": "1e2_U_7qjLLO"
      },
      "source": [
        "### **3. Multivariate Analysis**"
      ]
    },
    {
      "cell_type": "markdown",
      "metadata": {
        "id": "3pQuO3HqjoDB"
      },
      "source": [
        "Multivariate analysis (MVA) involves evaluating multiple variables (more than two) to identify any possible association among them. \n",
        "\n"
      ]
    },
    {
      "cell_type": "markdown",
      "metadata": {
        "id": "CDcqutC-kMkj"
      },
      "source": [
        "#### 1. Heatmap\n",
        "\n"
      ]
    },
    {
      "cell_type": "markdown",
      "metadata": {
        "id": "k4pnZbTlky6Z"
      },
      "source": [
        "What is Heatmap\n",
        "\n",
        "A heat map is a two-dimensional representation of data in which values are represented by colors. A simple heat map provides an immediate visual summary of information. More elaborate heat maps allow the viewer to understand complex data sets."
      ]
    },
    {
      "cell_type": "markdown",
      "metadata": {
        "id": "vDKNHycLk7LG"
      },
      "source": [
        "From above Heatmap we can see that:-\n",
        "\n"
      ]
    },
    {
      "cell_type": "markdown",
      "metadata": {
        "id": "z5rQ_OO5EqJp"
      },
      "source": [
        "## **5. Feature Engineering & Data Pre-processing**"
      ]
    },
    {
      "cell_type": "markdown",
      "metadata": {
        "id": "pHpBddAjgaoR"
      },
      "source": [
        "Feature engineering is the pre-processing step of machine learning, which is used to transform raw data into features that can be used for creating a predictive model using Machine learning or statistical Modelling. Feature engineering in machine learning aims to improve the performance of models.\n",
        "\n",
        "Since our dataset do not contain very large number of dimensions. We will first try to use feature selection instead of the feature extraction technique."
      ]
    },
    {
      "cell_type": "markdown",
      "metadata": {
        "id": "fUQJF-xbhYX1"
      },
      "source": [
        "### 1. Difference between Feature selection and Feature extraction"
      ]
    },
    {
      "cell_type": "markdown",
      "metadata": {
        "id": "TaUA9xRphsa-"
      },
      "source": [
        "**Feature selection:-**\n",
        "\n",
        "Feature Selection on the other hand is a machine learning technique applied on these (numerical) features.\n",
        "\n",
        "we select a subset of the original feature set based on the statistical significance of different parameters.\n",
        "\n",
        "Example: Backward elimination, Forward selection, Recursive feature elimination\n",
        "\n",
        "**Feature extraction:-**\n",
        "\n",
        "Feature Extraction transforms an arbitrary data, such as text or images, into numerical features that is understood by machine learning algorithms.\n",
        "\n",
        "we build a new set of features from the original feature set.\n",
        "\n",
        "Example: PCA, LDA, Kernel PCA"
      ]
    },
    {
      "cell_type": "markdown",
      "metadata": {
        "id": "eAvkYNrMipXf"
      },
      "source": [
        "### 2. Feature selection"
      ]
    },
    {
      "cell_type": "markdown",
      "metadata": {
        "id": "W4YLrpmeTvJW"
      },
      "source": [
        "#### 3. Split Data"
      ]
    },
    {
      "cell_type": "markdown",
      "metadata": {
        "id": "T1r22pbsT4en"
      },
      "source": [
        "So here we divide our data in two divison:-\n",
        "\n",
        "1. train split\n",
        "2. test split\n",
        "\n",
        "The train-test split is used to estimate the performance of machine learning algorithms that are applicable for prediction-based Algorithms/Applications. This method is a fast and easy procedure to perform such that we can compare our own machine learning model results to machine results.\n",
        "\n",
        "Before training our model on the dataset, we need to split the dataset into training and testing datasets. This is required to train our model on the major part of our dataset and test the accuracy of the model on the minor part. Let's split it."
      ]
    },
    {
      "cell_type": "markdown",
      "metadata": {
        "id": "zOzeFbLgZVRL"
      },
      "source": [
        "### 3. Feature Extraction"
      ]
    },
    {
      "cell_type": "markdown",
      "metadata": {
        "id": "aAtDVs7ZZeOd"
      },
      "source": [
        "We will use PCA for feature extraction i.e. Principal Component Analysis. It is a statistical procedure that uses an orthogonal transformation to convert a set of observations of possibly correlated variables into a set of values of linearly uncorrelated variables called principal components."
      ]
    },
    {
      "cell_type": "markdown",
      "metadata": {
        "id": "DMvt3Ys-aPqv"
      },
      "source": [
        "#### 1. Split Data"
      ]
    },
    {
      "cell_type": "code",
      "execution_count": 44,
      "metadata": {
        "id": "kX0Lpie_aWwA",
        "colab": {
          "base_uri": "https://localhost:8080/",
          "height": 189
        },
        "outputId": "1f32e7f8-67df-4ae7-8fdb-4df6625e7def"
      },
      "outputs": [
        {
          "output_type": "error",
          "ename": "NameError",
          "evalue": "ignored",
          "traceback": [
            "\u001b[0;31m---------------------------------------------------------------------------\u001b[0m",
            "\u001b[0;31mNameError\u001b[0m                                 Traceback (most recent call last)",
            "\u001b[0;32m<ipython-input-44-ccf09faa4d98>\u001b[0m in \u001b[0;36m<module>\u001b[0;34m\u001b[0m\n\u001b[1;32m      1\u001b[0m \u001b[0;31m# Lets split our data first before scaling the features\u001b[0m\u001b[0;34m\u001b[0m\u001b[0;34m\u001b[0m\u001b[0;34m\u001b[0m\u001b[0m\n\u001b[0;32m----> 2\u001b[0;31m \u001b[0mX_train_pca\u001b[0m\u001b[0;34m,\u001b[0m \u001b[0mX_test_pca\u001b[0m\u001b[0;34m,\u001b[0m \u001b[0my_train_pca\u001b[0m\u001b[0;34m,\u001b[0m \u001b[0my_test_pca\u001b[0m \u001b[0;34m=\u001b[0m \u001b[0mtrain_test_split\u001b[0m\u001b[0;34m(\u001b[0m\u001b[0mX\u001b[0m\u001b[0;34m,\u001b[0m\u001b[0mY\u001b[0m\u001b[0;34m,\u001b[0m\u001b[0mtest_size\u001b[0m\u001b[0;34m=\u001b[0m\u001b[0;36m0.2\u001b[0m\u001b[0;34m,\u001b[0m \u001b[0mrandom_state\u001b[0m\u001b[0;34m=\u001b[0m\u001b[0;36m4\u001b[0m\u001b[0;34m)\u001b[0m\u001b[0;34m\u001b[0m\u001b[0;34m\u001b[0m\u001b[0m\n\u001b[0m",
            "\u001b[0;31mNameError\u001b[0m: name 'train_test_split' is not defined"
          ]
        }
      ],
      "source": [
        "# Lets split our data first before scaling the features\n",
        "X_train_pca, X_test_pca, y_train_pca, y_test_pca = train_test_split(X,Y,test_size=0.2, random_state=4)"
      ]
    },
    {
      "cell_type": "markdown",
      "metadata": {
        "id": "5eVqx_P0a3S3"
      },
      "source": [
        "#### 2. Scale Data"
      ]
    },
    {
      "cell_type": "markdown",
      "metadata": {
        "id": "Jc-5lD5Ua__4"
      },
      "source": [
        "So here we scale the input varibles first before applying PCA to standardise the variance and avoid the bias. Lets Scale the data using StandardScaler.\n",
        "\n",
        "Why we use scaler:-\n",
        "\n",
        "So if the data in any conditions has data points far from each other, scaling is a technique to make them closer to each other or in simpler words, we can say that the scaling is used for making data points generalized so that the distance between them will be lower."
      ]
    },
    {
      "cell_type": "code",
      "execution_count": null,
      "metadata": {
        "id": "p6L44Xn8a58S"
      },
      "outputs": [],
      "source": [
        "# Applying Standard scaler\n",
        "scaler = StandardScaler()\n",
        "X_train_pca = scaler.fit_transform(X_train_pca)\n",
        "X_test_pca = scaler.transform(X_test_pca)"
      ]
    },
    {
      "cell_type": "markdown",
      "metadata": {
        "id": "WamIor0HbpK9"
      },
      "source": [
        "#### 3. PCA Application"
      ]
    },
    {
      "cell_type": "markdown",
      "metadata": {
        "id": "LbmdDIRmb0nN"
      },
      "source": [
        "Let's apply PCA technique on the training features to understand how many principal components should we select for our model to capture atleast 90% variance. For that we will take help of plot and cumsum function of numpy package."
      ]
    },
    {
      "cell_type": "markdown",
      "metadata": {
        "id": "gpN1AjZ1fA86"
      },
      "source": [
        "From above we can see that almost 40 variables are needed for capturing atleast 99% of the variance in the training dataset. Hence we will use the same set of variables."
      ]
    },
    {
      "cell_type": "markdown",
      "metadata": {
        "id": "68yMNBaMEwS5"
      },
      "source": [
        "## **6. ML Model Implementation**"
      ]
    },
    {
      "cell_type": "markdown",
      "metadata": {
        "id": "HGZXDxlRpCxL"
      },
      "source": [
        "What is model in machine learning:-\n",
        "\n",
        "*   A machine learning model is a file that has been trained to recognize certain types of patterns. You train a model over a set of data, providing it an algorithm that it can use to reason over and learn from those data.\n",
        "\n",
        "*   We need a model to train on our dataset to serve our purpose of prediciting the NYC taxi trip duration given the other features as training and test set. Since our dependent variable contains continous values so we will use regression technique to predict our output.\n",
        "\n",
        "While in every machine learning problem, it’s a good rule of thumb to try a variety of algorithms, it can be especially beneficial with imbalanced datasets.\n",
        "\n",
        "\n",
        "\n"
      ]
    },
    {
      "cell_type": "markdown",
      "metadata": {
        "id": "3j1eNiJ6FDVk"
      },
      "source": [
        "## **Conclusion**"
      ]
    },
    {
      "cell_type": "markdown",
      "metadata": {
        "id": "qkgiyHBnFIZs"
      },
      "source": []
    }
  ],
  "metadata": {
    "colab": {
      "collapsed_sections": [
        "iXAgCECUuD4e",
        "rgUt9MgNFL3L",
        "Hb3hcAirIwYK",
        "JZ8ydoJwIzts",
        "rcg7oR4DI3dF",
        "OV2moiVrI2JI",
        "KVAP7L-yTiR4",
        "1e2_U_7qjLLO",
        "CDcqutC-kMkj",
        "z5rQ_OO5EqJp",
        "fUQJF-xbhYX1",
        "eAvkYNrMipXf",
        "zOzeFbLgZVRL",
        "68yMNBaMEwS5"
      ],
      "provenance": [],
      "authorship_tag": "ABX9TyM3rNzIDkqhsHKnDswSJ40N",
      "include_colab_link": true
    },
    "kernelspec": {
      "display_name": "Python 3",
      "name": "python3"
    },
    "language_info": {
      "name": "python"
    }
  },
  "nbformat": 4,
  "nbformat_minor": 0
}