{
  "cells": [
    {
      "cell_type": "markdown",
      "metadata": {
        "id": "view-in-github",
        "colab_type": "text"
      },
      "source": [
        "<a href=\"https://colab.research.google.com/github/KrushnaChaure/Netflix-Movies-and-TV-Shows-Clustering/blob/main/Krushna_Chaure_Netflix_Movies_and_TV_Shows_Clustering_Capstone_Project.ipynb\" target=\"_parent\"><img src=\"https://colab.research.google.com/assets/colab-badge.svg\" alt=\"Open In Colab\"/></a>"
      ]
    },
    {
      "cell_type": "markdown",
      "metadata": {
        "id": "OAkyMYkJVIIC"
      },
      "source": [
        "# **Project Name - Netflix Movies and TV Shows Clustering**"
      ]
    },
    {
      "cell_type": "markdown",
      "metadata": {
        "id": "r068Q4Yea75z"
      },
      "source": [
        "**Project Type** - Unsupervised Machine Learning\n",
        "\n",
        "**Contribution** - Individual "
      ]
    },
    {
      "cell_type": "markdown",
      "metadata": {
        "id": "vJ85Ws9sb1qq"
      },
      "source": [
        "# **Problem Statement**"
      ]
    },
    {
      "cell_type": "markdown",
      "source": [
        "Netflix is the world's largest online streaming service provider, with over 220 million subscribers as of 2022-Q2. It is crucial that they effectively cluster the shows that are hosted on their platform in order to enhance the user experience, thereby preventing subscriber churn.\n",
        "\n",
        "In 2018, they released an interesting report which shows that the number of TV shows on Netflix has nearly tripled since 2010. The streaming service’s number of movies has decreased by more than 2,000 titles since 2010, while its number of TV shows has nearly tripled. It will be interesting to explore what all other insights can be obtained from the same dataset.\n",
        "\n",
        "We will be able to understand the shows that are similar to and different from one another by creating clusters, which may be leveraged to offer the consumers personalized show suggestions depending on their preferences.\n",
        "\n",
        "The goal of this project is to classify/group the Netflix shows into certain clusters such that the shows within a cluster are similar to each other and the shows in different clusters are dissimilar to each other."
      ],
      "metadata": {
        "id": "7ezZMaNpCHH7"
      }
    },
    {
      "cell_type": "markdown",
      "source": [
        "## **What is our Business Objective?**"
      ],
      "metadata": {
        "id": "CW7YynUBJalI"
      }
    },
    {
      "cell_type": "markdown",
      "source": [
        "\n",
        "\n",
        "\n",
        "*   Exploratory Data Analysis.\n",
        "\n",
        "*   Understanding what type content is available in different countries.\n",
        "*   Is Netflix has increasingly focusing on TV rather than movies in recent years.\n",
        "\n",
        "\n",
        "*   Clustering similar content by matching text-based features.\n",
        "\n"
      ],
      "metadata": {
        "id": "Qy97pmAcJtg8"
      }
    },
    {
      "cell_type": "markdown",
      "metadata": {
        "id": "HXzNjy-Nk0hK"
      },
      "source": [
        "# **Lets Begin & Kick start our journy**"
      ]
    },
    {
      "cell_type": "markdown",
      "metadata": {
        "id": "xzbG15viIhJN"
      },
      "source": [
        "## **1. Know Our Data**"
      ]
    },
    {
      "cell_type": "markdown",
      "metadata": {
        "id": "QzwuDAoI2Ryo"
      },
      "source": [
        "### Import Libraries"
      ]
    },
    {
      "cell_type": "code",
      "source": [
        "import numpy as np\n",
        "import pandas as pd\n",
        "from numpy import math\n",
        "import seaborn as sns\n",
        "import matplotlib.pyplot as plt\n",
        "import matplotlib.ticker as mtick\n",
        "from matplotlib.pyplot import figure\n",
        "import plotly.graph_objects as go\n",
        "import plotly.offline as py\n",
        "import plotly.express as px\n",
        "from datetime import datetime as dt\n",
        "\n",
        "from wordcloud import WordCloud, STOPWORDS\n",
        "import re, string, unicodedata\n",
        "\n",
        "import nltk\n",
        "from bs4 import BeautifulSoup\n",
        "from nltk import word_tokenize, sent_tokenize\n",
        "from nltk.corpus import stopwords\n",
        "from nltk.stem import LancasterStemmer, WordNetLemmatizer\n",
        "from nltk.stem import WordNetLemmatizer\n",
        "from sklearn.feature_extraction.text import TfidfVectorizer\n",
        "from sklearn.decomposition import PCA\n",
        "\n",
        "from nltk.stem import WordNetLemmatizer\n",
        "nltk.download('wordnet')\n",
        "import nltk\n",
        "nltk.download('stopwords')\n",
        "from nltk.corpus import stopwords\n",
        "import string\n",
        "string.punctuation\n",
        "nltk.download('omw-1.4')\n",
        "from nltk.tokenize import TweetTokenizer\n",
        "\n",
        "from sklearn.cluster import KMeans\n",
        "from sklearn.metrics import silhouette_score\n",
        "from sklearn.cluster import AgglomerativeClustering\n",
        "import scipy.cluster.hierarchy as shc\n",
        "\n",
        "from sklearn.feature_extraction.text import CountVectorizer\n",
        "from sklearn.metrics.pairwise import cosine_similarity\n",
        "\n",
        "import warnings\n",
        "warnings.filterwarnings('ignore')"
      ],
      "metadata": {
        "id": "nYZMwDIIoUb6",
        "colab": {
          "base_uri": "https://localhost:8080/"
        },
        "outputId": "d1249e70-dde8-4955-844d-448690f39440"
      },
      "execution_count": 1,
      "outputs": [
        {
          "output_type": "stream",
          "name": "stderr",
          "text": [
            "[nltk_data] Downloading package wordnet to /root/nltk_data...\n",
            "[nltk_data] Downloading package stopwords to /root/nltk_data...\n",
            "[nltk_data]   Unzipping corpora/stopwords.zip.\n",
            "[nltk_data] Downloading package omw-1.4 to /root/nltk_data...\n"
          ]
        }
      ]
    },
    {
      "cell_type": "markdown",
      "metadata": {
        "id": "NgzcutYB6_BP"
      },
      "source": [
        "### Dataset Loading\n"
      ]
    },
    {
      "cell_type": "code",
      "execution_count": 2,
      "metadata": {
        "colab": {
          "base_uri": "https://localhost:8080/"
        },
        "id": "3M4-5fij7-UF",
        "outputId": "cf009f18-b47a-4565-d2a9-2dc64e4f001a"
      },
      "outputs": [
        {
          "output_type": "stream",
          "name": "stdout",
          "text": [
            "Mounted at /content/drive\n"
          ]
        }
      ],
      "source": [
        "# Firstly we mount the drive over this colab notebook\n",
        "from google.colab import drive\n",
        "drive.mount('/content/drive')"
      ]
    },
    {
      "cell_type": "code",
      "execution_count": 3,
      "metadata": {
        "id": "7SIvrc9P7Zdc"
      },
      "outputs": [],
      "source": [
        "# Here we connecting & importing the dataset over this colab notebook\n",
        "dataset= pd.read_csv('/content/drive/MyDrive/Almabetter/Module 4/Netflix Movies and TV Shows Clustering/NETFLIX MOVIES AND TV SHOWS CLUSTERING.csv')"
      ]
    },
    {
      "cell_type": "markdown",
      "metadata": {
        "id": "whftLfKXsZA7"
      },
      "source": [
        "### Attribute Information:"
      ]
    },
    {
      "cell_type": "markdown",
      "source": [
        "**1. show_id :** Unique ID for every Movie / Tv Show\n",
        "\n",
        "**2. type :** Identifier - A Movie or TV Show\n",
        "\n",
        "**3. title :** Title of the Movie / Tv Show\n",
        "\n",
        "**4. director :** Director of the Movie\n",
        "\n",
        "**5. cast :** Actors involved in the movie / show\n",
        "\n",
        "**6. country :** Country where the movie / show was produced\n",
        "\n",
        "**7. date_added :** Date it was added on Netflix\n",
        "\n",
        "**8. release_year :** Actual Releaseyear of the movie / show\n",
        "\n",
        "**9. rating :** TV Rating of the movie / show\n",
        "\n",
        "**10. duration :** Total Duration - in minutes or number of seasons\n",
        "\n",
        "**11. listed_in :** Genere\n",
        "\n",
        "**12. description:** The Summary description"
      ],
      "metadata": {
        "id": "TMype0keGZPE"
      }
    },
    {
      "cell_type": "markdown",
      "metadata": {
        "id": "sWHSarVq-nOU"
      },
      "source": [
        "### Dataset First View"
      ]
    },
    {
      "cell_type": "code",
      "execution_count": 4,
      "metadata": {
        "colab": {
          "base_uri": "https://localhost:8080/",
          "height": 337
        },
        "id": "E5EuPpgq-s7T",
        "outputId": "e28c505d-f02b-4db4-fbc7-e9888091b58b"
      },
      "outputs": [
        {
          "output_type": "execute_result",
          "data": {
            "text/plain": [
              "  show_id     type  title           director  \\\n",
              "0      s1  TV Show     3%                NaN   \n",
              "1      s2    Movie   7:19  Jorge Michel Grau   \n",
              "2      s3    Movie  23:59       Gilbert Chan   \n",
              "3      s4    Movie      9        Shane Acker   \n",
              "4      s5    Movie     21     Robert Luketic   \n",
              "\n",
              "                                                cast        country  \\\n",
              "0  João Miguel, Bianca Comparato, Michel Gomes, R...         Brazil   \n",
              "1  Demián Bichir, Héctor Bonilla, Oscar Serrano, ...         Mexico   \n",
              "2  Tedd Chan, Stella Chung, Henley Hii, Lawrence ...      Singapore   \n",
              "3  Elijah Wood, John C. Reilly, Jennifer Connelly...  United States   \n",
              "4  Jim Sturgess, Kevin Spacey, Kate Bosworth, Aar...  United States   \n",
              "\n",
              "          date_added  release_year rating   duration  \\\n",
              "0    August 14, 2020          2020  TV-MA  4 Seasons   \n",
              "1  December 23, 2016          2016  TV-MA     93 min   \n",
              "2  December 20, 2018          2011      R     78 min   \n",
              "3  November 16, 2017          2009  PG-13     80 min   \n",
              "4    January 1, 2020          2008  PG-13    123 min   \n",
              "\n",
              "                                           listed_in  \\\n",
              "0  International TV Shows, TV Dramas, TV Sci-Fi &...   \n",
              "1                       Dramas, International Movies   \n",
              "2                Horror Movies, International Movies   \n",
              "3  Action & Adventure, Independent Movies, Sci-Fi...   \n",
              "4                                             Dramas   \n",
              "\n",
              "                                         description  \n",
              "0  In a future where the elite inhabit an island ...  \n",
              "1  After a devastating earthquake hits Mexico Cit...  \n",
              "2  When an army recruit is found dead, his fellow...  \n",
              "3  In a postapocalyptic world, rag-doll robots hi...  \n",
              "4  A brilliant group of students become card-coun...  "
            ],
            "text/html": [
              "\n",
              "  <div id=\"df-9aeb7a4f-cc7c-486e-b838-31633a7b96b5\">\n",
              "    <div class=\"colab-df-container\">\n",
              "      <div>\n",
              "<style scoped>\n",
              "    .dataframe tbody tr th:only-of-type {\n",
              "        vertical-align: middle;\n",
              "    }\n",
              "\n",
              "    .dataframe tbody tr th {\n",
              "        vertical-align: top;\n",
              "    }\n",
              "\n",
              "    .dataframe thead th {\n",
              "        text-align: right;\n",
              "    }\n",
              "</style>\n",
              "<table border=\"1\" class=\"dataframe\">\n",
              "  <thead>\n",
              "    <tr style=\"text-align: right;\">\n",
              "      <th></th>\n",
              "      <th>show_id</th>\n",
              "      <th>type</th>\n",
              "      <th>title</th>\n",
              "      <th>director</th>\n",
              "      <th>cast</th>\n",
              "      <th>country</th>\n",
              "      <th>date_added</th>\n",
              "      <th>release_year</th>\n",
              "      <th>rating</th>\n",
              "      <th>duration</th>\n",
              "      <th>listed_in</th>\n",
              "      <th>description</th>\n",
              "    </tr>\n",
              "  </thead>\n",
              "  <tbody>\n",
              "    <tr>\n",
              "      <th>0</th>\n",
              "      <td>s1</td>\n",
              "      <td>TV Show</td>\n",
              "      <td>3%</td>\n",
              "      <td>NaN</td>\n",
              "      <td>João Miguel, Bianca Comparato, Michel Gomes, R...</td>\n",
              "      <td>Brazil</td>\n",
              "      <td>August 14, 2020</td>\n",
              "      <td>2020</td>\n",
              "      <td>TV-MA</td>\n",
              "      <td>4 Seasons</td>\n",
              "      <td>International TV Shows, TV Dramas, TV Sci-Fi &amp;...</td>\n",
              "      <td>In a future where the elite inhabit an island ...</td>\n",
              "    </tr>\n",
              "    <tr>\n",
              "      <th>1</th>\n",
              "      <td>s2</td>\n",
              "      <td>Movie</td>\n",
              "      <td>7:19</td>\n",
              "      <td>Jorge Michel Grau</td>\n",
              "      <td>Demián Bichir, Héctor Bonilla, Oscar Serrano, ...</td>\n",
              "      <td>Mexico</td>\n",
              "      <td>December 23, 2016</td>\n",
              "      <td>2016</td>\n",
              "      <td>TV-MA</td>\n",
              "      <td>93 min</td>\n",
              "      <td>Dramas, International Movies</td>\n",
              "      <td>After a devastating earthquake hits Mexico Cit...</td>\n",
              "    </tr>\n",
              "    <tr>\n",
              "      <th>2</th>\n",
              "      <td>s3</td>\n",
              "      <td>Movie</td>\n",
              "      <td>23:59</td>\n",
              "      <td>Gilbert Chan</td>\n",
              "      <td>Tedd Chan, Stella Chung, Henley Hii, Lawrence ...</td>\n",
              "      <td>Singapore</td>\n",
              "      <td>December 20, 2018</td>\n",
              "      <td>2011</td>\n",
              "      <td>R</td>\n",
              "      <td>78 min</td>\n",
              "      <td>Horror Movies, International Movies</td>\n",
              "      <td>When an army recruit is found dead, his fellow...</td>\n",
              "    </tr>\n",
              "    <tr>\n",
              "      <th>3</th>\n",
              "      <td>s4</td>\n",
              "      <td>Movie</td>\n",
              "      <td>9</td>\n",
              "      <td>Shane Acker</td>\n",
              "      <td>Elijah Wood, John C. Reilly, Jennifer Connelly...</td>\n",
              "      <td>United States</td>\n",
              "      <td>November 16, 2017</td>\n",
              "      <td>2009</td>\n",
              "      <td>PG-13</td>\n",
              "      <td>80 min</td>\n",
              "      <td>Action &amp; Adventure, Independent Movies, Sci-Fi...</td>\n",
              "      <td>In a postapocalyptic world, rag-doll robots hi...</td>\n",
              "    </tr>\n",
              "    <tr>\n",
              "      <th>4</th>\n",
              "      <td>s5</td>\n",
              "      <td>Movie</td>\n",
              "      <td>21</td>\n",
              "      <td>Robert Luketic</td>\n",
              "      <td>Jim Sturgess, Kevin Spacey, Kate Bosworth, Aar...</td>\n",
              "      <td>United States</td>\n",
              "      <td>January 1, 2020</td>\n",
              "      <td>2008</td>\n",
              "      <td>PG-13</td>\n",
              "      <td>123 min</td>\n",
              "      <td>Dramas</td>\n",
              "      <td>A brilliant group of students become card-coun...</td>\n",
              "    </tr>\n",
              "  </tbody>\n",
              "</table>\n",
              "</div>\n",
              "      <button class=\"colab-df-convert\" onclick=\"convertToInteractive('df-9aeb7a4f-cc7c-486e-b838-31633a7b96b5')\"\n",
              "              title=\"Convert this dataframe to an interactive table.\"\n",
              "              style=\"display:none;\">\n",
              "        \n",
              "  <svg xmlns=\"http://www.w3.org/2000/svg\" height=\"24px\"viewBox=\"0 0 24 24\"\n",
              "       width=\"24px\">\n",
              "    <path d=\"M0 0h24v24H0V0z\" fill=\"none\"/>\n",
              "    <path d=\"M18.56 5.44l.94 2.06.94-2.06 2.06-.94-2.06-.94-.94-2.06-.94 2.06-2.06.94zm-11 1L8.5 8.5l.94-2.06 2.06-.94-2.06-.94L8.5 2.5l-.94 2.06-2.06.94zm10 10l.94 2.06.94-2.06 2.06-.94-2.06-.94-.94-2.06-.94 2.06-2.06.94z\"/><path d=\"M17.41 7.96l-1.37-1.37c-.4-.4-.92-.59-1.43-.59-.52 0-1.04.2-1.43.59L10.3 9.45l-7.72 7.72c-.78.78-.78 2.05 0 2.83L4 21.41c.39.39.9.59 1.41.59.51 0 1.02-.2 1.41-.59l7.78-7.78 2.81-2.81c.8-.78.8-2.07 0-2.86zM5.41 20L4 18.59l7.72-7.72 1.47 1.35L5.41 20z\"/>\n",
              "  </svg>\n",
              "      </button>\n",
              "      \n",
              "  <style>\n",
              "    .colab-df-container {\n",
              "      display:flex;\n",
              "      flex-wrap:wrap;\n",
              "      gap: 12px;\n",
              "    }\n",
              "\n",
              "    .colab-df-convert {\n",
              "      background-color: #E8F0FE;\n",
              "      border: none;\n",
              "      border-radius: 50%;\n",
              "      cursor: pointer;\n",
              "      display: none;\n",
              "      fill: #1967D2;\n",
              "      height: 32px;\n",
              "      padding: 0 0 0 0;\n",
              "      width: 32px;\n",
              "    }\n",
              "\n",
              "    .colab-df-convert:hover {\n",
              "      background-color: #E2EBFA;\n",
              "      box-shadow: 0px 1px 2px rgba(60, 64, 67, 0.3), 0px 1px 3px 1px rgba(60, 64, 67, 0.15);\n",
              "      fill: #174EA6;\n",
              "    }\n",
              "\n",
              "    [theme=dark] .colab-df-convert {\n",
              "      background-color: #3B4455;\n",
              "      fill: #D2E3FC;\n",
              "    }\n",
              "\n",
              "    [theme=dark] .colab-df-convert:hover {\n",
              "      background-color: #434B5C;\n",
              "      box-shadow: 0px 1px 3px 1px rgba(0, 0, 0, 0.15);\n",
              "      filter: drop-shadow(0px 1px 2px rgba(0, 0, 0, 0.3));\n",
              "      fill: #FFFFFF;\n",
              "    }\n",
              "  </style>\n",
              "\n",
              "      <script>\n",
              "        const buttonEl =\n",
              "          document.querySelector('#df-9aeb7a4f-cc7c-486e-b838-31633a7b96b5 button.colab-df-convert');\n",
              "        buttonEl.style.display =\n",
              "          google.colab.kernel.accessAllowed ? 'block' : 'none';\n",
              "\n",
              "        async function convertToInteractive(key) {\n",
              "          const element = document.querySelector('#df-9aeb7a4f-cc7c-486e-b838-31633a7b96b5');\n",
              "          const dataTable =\n",
              "            await google.colab.kernel.invokeFunction('convertToInteractive',\n",
              "                                                     [key], {});\n",
              "          if (!dataTable) return;\n",
              "\n",
              "          const docLinkHtml = 'Like what you see? Visit the ' +\n",
              "            '<a target=\"_blank\" href=https://colab.research.google.com/notebooks/data_table.ipynb>data table notebook</a>'\n",
              "            + ' to learn more about interactive tables.';\n",
              "          element.innerHTML = '';\n",
              "          dataTable['output_type'] = 'display_data';\n",
              "          await google.colab.output.renderOutput(dataTable, element);\n",
              "          const docLink = document.createElement('div');\n",
              "          docLink.innerHTML = docLinkHtml;\n",
              "          element.appendChild(docLink);\n",
              "        }\n",
              "      </script>\n",
              "    </div>\n",
              "  </div>\n",
              "  "
            ]
          },
          "metadata": {},
          "execution_count": 4
        }
      ],
      "source": [
        "dataset.head()"
      ]
    },
    {
      "cell_type": "markdown",
      "metadata": {
        "id": "1JOPsCnKAyDY"
      },
      "source": [
        "### Dataset Rows & Columns count"
      ]
    },
    {
      "cell_type": "code",
      "execution_count": 5,
      "metadata": {
        "colab": {
          "base_uri": "https://localhost:8080/"
        },
        "id": "Rnc94mXfA0ot",
        "outputId": "b054a055-4c84-4379-b703-c851b459b40f"
      },
      "outputs": [
        {
          "output_type": "execute_result",
          "data": {
            "text/plain": [
              "(7787, 12)"
            ]
          },
          "metadata": {},
          "execution_count": 5
        }
      ],
      "source": [
        "# For finding how many rows & columns in our dataset\n",
        "dataset.shape"
      ]
    },
    {
      "cell_type": "markdown",
      "metadata": {
        "id": "6HsUWZmzBLkh"
      },
      "source": [
        "### Dataset Information"
      ]
    },
    {
      "cell_type": "code",
      "execution_count": 6,
      "metadata": {
        "colab": {
          "base_uri": "https://localhost:8080/"
        },
        "id": "_DqYAX4KBPzj",
        "outputId": "4397f10c-0b50-4e5c-ddf9-31933670de6c"
      },
      "outputs": [
        {
          "output_type": "stream",
          "name": "stdout",
          "text": [
            "<class 'pandas.core.frame.DataFrame'>\n",
            "RangeIndex: 7787 entries, 0 to 7786\n",
            "Data columns (total 12 columns):\n",
            " #   Column        Non-Null Count  Dtype \n",
            "---  ------        --------------  ----- \n",
            " 0   show_id       7787 non-null   object\n",
            " 1   type          7787 non-null   object\n",
            " 2   title         7787 non-null   object\n",
            " 3   director      5398 non-null   object\n",
            " 4   cast          7069 non-null   object\n",
            " 5   country       7280 non-null   object\n",
            " 6   date_added    7777 non-null   object\n",
            " 7   release_year  7787 non-null   int64 \n",
            " 8   rating        7780 non-null   object\n",
            " 9   duration      7787 non-null   object\n",
            " 10  listed_in     7787 non-null   object\n",
            " 11  description   7787 non-null   object\n",
            "dtypes: int64(1), object(11)\n",
            "memory usage: 730.2+ KB\n"
          ]
        }
      ],
      "source": [
        "# For finding information about our dataset\n",
        "dataset.info()"
      ]
    },
    {
      "cell_type": "markdown",
      "metadata": {
        "id": "bW3TeiK8G637"
      },
      "source": [
        "### Duplicate Values"
      ]
    },
    {
      "cell_type": "code",
      "execution_count": 7,
      "metadata": {
        "colab": {
          "base_uri": "https://localhost:8080/"
        },
        "id": "MfagmVsMG-I5",
        "outputId": "1a9116d2-355a-4744-98aa-fd5d79e98a52"
      },
      "outputs": [
        {
          "output_type": "execute_result",
          "data": {
            "text/plain": [
              "0"
            ]
          },
          "metadata": {},
          "execution_count": 7
        }
      ],
      "source": [
        "# Here we checking duplicate values in our dataset\n",
        "len(dataset[dataset.duplicated()])"
      ]
    },
    {
      "cell_type": "markdown",
      "metadata": {
        "id": "Czshou9lHYdy"
      },
      "source": [
        "### Missing Values/Null Values"
      ]
    },
    {
      "cell_type": "code",
      "execution_count": 8,
      "metadata": {
        "colab": {
          "base_uri": "https://localhost:8080/"
        },
        "id": "jScq7LgdF5h3",
        "outputId": "889cb940-b556-4ba6-9b17-98b577f70d72"
      },
      "outputs": [
        {
          "output_type": "stream",
          "name": "stdout",
          "text": [
            "show_id            0\n",
            "type               0\n",
            "title              0\n",
            "director        2389\n",
            "cast             718\n",
            "country          507\n",
            "date_added        10\n",
            "release_year       0\n",
            "rating             7\n",
            "duration           0\n",
            "listed_in          0\n",
            "description        0\n",
            "dtype: int64\n"
          ]
        }
      ],
      "source": [
        "# For checking NAN or Misssing/Null values in our dataset\n",
        "print(dataset.isnull().sum())"
      ]
    },
    {
      "cell_type": "code",
      "execution_count": 9,
      "metadata": {
        "colab": {
          "base_uri": "https://localhost:8080/",
          "height": 396
        },
        "id": "7amD_sxQIDhx",
        "outputId": "0373ab91-2693-4653-8471-a90b838fda14"
      },
      "outputs": [
        {
          "output_type": "execute_result",
          "data": {
            "text/plain": [
              "<matplotlib.axes._subplots.AxesSubplot at 0x7faea01c4550>"
            ]
          },
          "metadata": {},
          "execution_count": 9
        },
        {
          "output_type": "display_data",
          "data": {
            "text/plain": [
              "<Figure size 720x360 with 1 Axes>"
            ],
            "image/png": "[encoded data removed]"
          },
          "metadata": {
            "needs_background": "light"
          }
        }
      ],
      "source": [
        "# Visualizing the missing values\n",
        "# Checking Null Value by plotting Heatmap\n",
        "plt.figure(figsize=(10,5))\n",
        "sns.heatmap(dataset.isnull(), cbar=False)"
      ]
    },
    {
      "cell_type": "code",
      "source": [
        "# Handling the missing values\n",
        "\n",
        "# The missing values in the director, cast, and country attributes can be replaced with 'Unknown'\n",
        "dataset[['director','cast','country']] = dataset[['director','cast','country']].fillna('Unknown')\n",
        "\n",
        "# The missing values in rating can be imputed with its mode, since this attribute is discrete.\n",
        "dataset['rating'] = dataset['rating'].fillna(dataset['rating'].mode()[0])\n",
        "\n",
        "# Drop missing value in date_added column.\n",
        "dataset.dropna(axis=0, inplace = True)"
      ],
      "metadata": {
        "id": "KbOtDZe-LpZ4"
      },
      "execution_count": 10,
      "outputs": []
    },
    {
      "cell_type": "markdown",
      "metadata": {
        "id": "NZBrocZ_Bp-z"
      },
      "source": [
        "### Understanding and Found some information about our dataset"
      ]
    },
    {
      "cell_type": "markdown",
      "source": [
        "*   This dataset consists of tv shows and movies available on Netflix as of 2019. The dataset is collected from Flixable which is a third-party Netflix search.\n",
        "*   The dataset contains 7787 records(Rows) and 12 attributes(Columns).\n",
        "*   There are no duplicated records in the dataset.\n",
        "*   There are many missing values in director, cast, country, date_added, and rating columns.\n",
        "\n",
        "*   Hence The missing values in the director, cast, and country attributes can be replaced with 'Unknown' & The missing values in rating can be imputed with its mode, since this attribute is discrete & 10 records with missing values in the date_added column can be dropped.\n",
        "\n",
        "\n",
        "\n",
        "\n",
        "\n"
      ],
      "metadata": {
        "id": "O5cbxgqrD9v3"
      }
    },
    {
      "cell_type": "code",
      "source": [
        "# View new dataset\n",
        "dataset.shape"
      ],
      "metadata": {
        "colab": {
          "base_uri": "https://localhost:8080/"
        },
        "id": "XstuJqhKNWeV",
        "outputId": "38355e4a-9a63-48a5-aede-5cc9aa21feaa"
      },
      "execution_count": 11,
      "outputs": [
        {
          "output_type": "execute_result",
          "data": {
            "text/plain": [
              "(7777, 12)"
            ]
          },
          "metadata": {},
          "execution_count": 11
        }
      ]
    },
    {
      "cell_type": "markdown",
      "metadata": {
        "id": "El2K22RPoK5Y"
      },
      "source": [
        "## **2. Now understanding the variables available in dataset** "
      ]
    },
    {
      "cell_type": "code",
      "execution_count": 12,
      "metadata": {
        "colab": {
          "base_uri": "https://localhost:8080/"
        },
        "id": "GLlQ89DUosao",
        "outputId": "99e2922c-abe5-4933-e8f2-e297f93bbca6"
      },
      "outputs": [
        {
          "output_type": "execute_result",
          "data": {
            "text/plain": [
              "Index(['show_id', 'type', 'title', 'director', 'cast', 'country', 'date_added',\n",
              "       'release_year', 'rating', 'duration', 'listed_in', 'description'],\n",
              "      dtype='object')"
            ]
          },
          "metadata": {},
          "execution_count": 12
        }
      ],
      "source": [
        "# Dataset column name\n",
        "dataset.columns"
      ]
    },
    {
      "cell_type": "code",
      "execution_count": 13,
      "metadata": {
        "colab": {
          "base_uri": "https://localhost:8080/",
          "height": 394
        },
        "id": "LyH5Kxlao7Rw",
        "outputId": "057b3739-2a05-47e4-f4af-64871ebc62e0"
      },
      "outputs": [
        {
          "output_type": "execute_result",
          "data": {
            "text/plain": [
              "       show_id   type title director     cast        country       date_added  \\\n",
              "count     7777   7777  7777     7777     7777           7777             7777   \n",
              "unique    7777      2  7777     4050     6822            682             1565   \n",
              "top         s1  Movie    3%  Unknown  Unknown  United States  January 1, 2020   \n",
              "freq         1   5377     1     2379      718           2549              118   \n",
              "mean       NaN    NaN   NaN      NaN      NaN            NaN              NaN   \n",
              "std        NaN    NaN   NaN      NaN      NaN            NaN              NaN   \n",
              "min        NaN    NaN   NaN      NaN      NaN            NaN              NaN   \n",
              "25%        NaN    NaN   NaN      NaN      NaN            NaN              NaN   \n",
              "50%        NaN    NaN   NaN      NaN      NaN            NaN              NaN   \n",
              "75%        NaN    NaN   NaN      NaN      NaN            NaN              NaN   \n",
              "max        NaN    NaN   NaN      NaN      NaN            NaN              NaN   \n",
              "\n",
              "        release_year rating  duration      listed_in  \\\n",
              "count    7777.000000   7777      7777           7777   \n",
              "unique           NaN     14       216            491   \n",
              "top              NaN  TV-MA  1 Season  Documentaries   \n",
              "freq             NaN   2868      1608            334   \n",
              "mean     2013.935965    NaN       NaN            NaN   \n",
              "std         8.760694    NaN       NaN            NaN   \n",
              "min      1925.000000    NaN       NaN            NaN   \n",
              "25%      2013.000000    NaN       NaN            NaN   \n",
              "50%      2017.000000    NaN       NaN            NaN   \n",
              "75%      2018.000000    NaN       NaN            NaN   \n",
              "max      2021.000000    NaN       NaN            NaN   \n",
              "\n",
              "                                              description  \n",
              "count                                                7777  \n",
              "unique                                               7759  \n",
              "top     Multiple women report their husbands as missin...  \n",
              "freq                                                    3  \n",
              "mean                                                  NaN  \n",
              "std                                                   NaN  \n",
              "min                                                   NaN  \n",
              "25%                                                   NaN  \n",
              "50%                                                   NaN  \n",
              "75%                                                   NaN  \n",
              "max                                                   NaN  "
            ],
            "text/html": [
              "\n",
              "  <div id=\"df-3ecfb43e-be7d-4ffa-b3d4-baf470c943b7\">\n",
              "    <div class=\"colab-df-container\">\n",
              "      <div>\n",
              "<style scoped>\n",
              "    .dataframe tbody tr th:only-of-type {\n",
              "        vertical-align: middle;\n",
              "    }\n",
              "\n",
              "    .dataframe tbody tr th {\n",
              "        vertical-align: top;\n",
              "    }\n",
              "\n",
              "    .dataframe thead th {\n",
              "        text-align: right;\n",
              "    }\n",
              "</style>\n",
              "<table border=\"1\" class=\"dataframe\">\n",
              "  <thead>\n",
              "    <tr style=\"text-align: right;\">\n",
              "      <th></th>\n",
              "      <th>show_id</th>\n",
              "      <th>type</th>\n",
              "      <th>title</th>\n",
              "      <th>director</th>\n",
              "      <th>cast</th>\n",
              "      <th>country</th>\n",
              "      <th>date_added</th>\n",
              "      <th>release_year</th>\n",
              "      <th>rating</th>\n",
              "      <th>duration</th>\n",
              "      <th>listed_in</th>\n",
              "      <th>description</th>\n",
              "    </tr>\n",
              "  </thead>\n",
              "  <tbody>\n",
              "    <tr>\n",
              "      <th>count</th>\n",
              "      <td>7777</td>\n",
              "      <td>7777</td>\n",
              "      <td>7777</td>\n",
              "      <td>7777</td>\n",
              "      <td>7777</td>\n",
              "      <td>7777</td>\n",
              "      <td>7777</td>\n",
              "      <td>7777.000000</td>\n",
              "      <td>7777</td>\n",
              "      <td>7777</td>\n",
              "      <td>7777</td>\n",
              "      <td>7777</td>\n",
              "    </tr>\n",
              "    <tr>\n",
              "      <th>unique</th>\n",
              "      <td>7777</td>\n",
              "      <td>2</td>\n",
              "      <td>7777</td>\n",
              "      <td>4050</td>\n",
              "      <td>6822</td>\n",
              "      <td>682</td>\n",
              "      <td>1565</td>\n",
              "      <td>NaN</td>\n",
              "      <td>14</td>\n",
              "      <td>216</td>\n",
              "      <td>491</td>\n",
              "      <td>7759</td>\n",
              "    </tr>\n",
              "    <tr>\n",
              "      <th>top</th>\n",
              "      <td>s1</td>\n",
              "      <td>Movie</td>\n",
              "      <td>3%</td>\n",
              "      <td>Unknown</td>\n",
              "      <td>Unknown</td>\n",
              "      <td>United States</td>\n",
              "      <td>January 1, 2020</td>\n",
              "      <td>NaN</td>\n",
              "      <td>TV-MA</td>\n",
              "      <td>1 Season</td>\n",
              "      <td>Documentaries</td>\n",
              "      <td>Multiple women report their husbands as missin...</td>\n",
              "    </tr>\n",
              "    <tr>\n",
              "      <th>freq</th>\n",
              "      <td>1</td>\n",
              "      <td>5377</td>\n",
              "      <td>1</td>\n",
              "      <td>2379</td>\n",
              "      <td>718</td>\n",
              "      <td>2549</td>\n",
              "      <td>118</td>\n",
              "      <td>NaN</td>\n",
              "      <td>2868</td>\n",
              "      <td>1608</td>\n",
              "      <td>334</td>\n",
              "      <td>3</td>\n",
              "    </tr>\n",
              "    <tr>\n",
              "      <th>mean</th>\n",
              "      <td>NaN</td>\n",
              "      <td>NaN</td>\n",
              "      <td>NaN</td>\n",
              "      <td>NaN</td>\n",
              "      <td>NaN</td>\n",
              "      <td>NaN</td>\n",
              "      <td>NaN</td>\n",
              "      <td>2013.935965</td>\n",
              "      <td>NaN</td>\n",
              "      <td>NaN</td>\n",
              "      <td>NaN</td>\n",
              "      <td>NaN</td>\n",
              "    </tr>\n",
              "    <tr>\n",
              "      <th>std</th>\n",
              "      <td>NaN</td>\n",
              "      <td>NaN</td>\n",
              "      <td>NaN</td>\n",
              "      <td>NaN</td>\n",
              "      <td>NaN</td>\n",
              "      <td>NaN</td>\n",
              "      <td>NaN</td>\n",
              "      <td>8.760694</td>\n",
              "      <td>NaN</td>\n",
              "      <td>NaN</td>\n",
              "      <td>NaN</td>\n",
              "      <td>NaN</td>\n",
              "    </tr>\n",
              "    <tr>\n",
              "      <th>min</th>\n",
              "      <td>NaN</td>\n",
              "      <td>NaN</td>\n",
              "      <td>NaN</td>\n",
              "      <td>NaN</td>\n",
              "      <td>NaN</td>\n",
              "      <td>NaN</td>\n",
              "      <td>NaN</td>\n",
              "      <td>1925.000000</td>\n",
              "      <td>NaN</td>\n",
              "      <td>NaN</td>\n",
              "      <td>NaN</td>\n",
              "      <td>NaN</td>\n",
              "    </tr>\n",
              "    <tr>\n",
              "      <th>25%</th>\n",
              "      <td>NaN</td>\n",
              "      <td>NaN</td>\n",
              "      <td>NaN</td>\n",
              "      <td>NaN</td>\n",
              "      <td>NaN</td>\n",
              "      <td>NaN</td>\n",
              "      <td>NaN</td>\n",
              "      <td>2013.000000</td>\n",
              "      <td>NaN</td>\n",
              "      <td>NaN</td>\n",
              "      <td>NaN</td>\n",
              "      <td>NaN</td>\n",
              "    </tr>\n",
              "    <tr>\n",
              "      <th>50%</th>\n",
              "      <td>NaN</td>\n",
              "      <td>NaN</td>\n",
              "      <td>NaN</td>\n",
              "      <td>NaN</td>\n",
              "      <td>NaN</td>\n",
              "      <td>NaN</td>\n",
              "      <td>NaN</td>\n",
              "      <td>2017.000000</td>\n",
              "      <td>NaN</td>\n",
              "      <td>NaN</td>\n",
              "      <td>NaN</td>\n",
              "      <td>NaN</td>\n",
              "    </tr>\n",
              "    <tr>\n",
              "      <th>75%</th>\n",
              "      <td>NaN</td>\n",
              "      <td>NaN</td>\n",
              "      <td>NaN</td>\n",
              "      <td>NaN</td>\n",
              "      <td>NaN</td>\n",
              "      <td>NaN</td>\n",
              "      <td>NaN</td>\n",
              "      <td>2018.000000</td>\n",
              "      <td>NaN</td>\n",
              "      <td>NaN</td>\n",
              "      <td>NaN</td>\n",
              "      <td>NaN</td>\n",
              "    </tr>\n",
              "    <tr>\n",
              "      <th>max</th>\n",
              "      <td>NaN</td>\n",
              "      <td>NaN</td>\n",
              "      <td>NaN</td>\n",
              "      <td>NaN</td>\n",
              "      <td>NaN</td>\n",
              "      <td>NaN</td>\n",
              "      <td>NaN</td>\n",
              "      <td>2021.000000</td>\n",
              "      <td>NaN</td>\n",
              "      <td>NaN</td>\n",
              "      <td>NaN</td>\n",
              "      <td>NaN</td>\n",
              "    </tr>\n",
              "  </tbody>\n",
              "</table>\n",
              "</div>\n",
              "      <button class=\"colab-df-convert\" onclick=\"convertToInteractive('df-3ecfb43e-be7d-4ffa-b3d4-baf470c943b7')\"\n",
              "              title=\"Convert this dataframe to an interactive table.\"\n",
              "              style=\"display:none;\">\n",
              "        \n",
              "  <svg xmlns=\"http://www.w3.org/2000/svg\" height=\"24px\"viewBox=\"0 0 24 24\"\n",
              "       width=\"24px\">\n",
              "    <path d=\"M0 0h24v24H0V0z\" fill=\"none\"/>\n",
              "    <path d=\"M18.56 5.44l.94 2.06.94-2.06 2.06-.94-2.06-.94-.94-2.06-.94 2.06-2.06.94zm-11 1L8.5 8.5l.94-2.06 2.06-.94-2.06-.94L8.5 2.5l-.94 2.06-2.06.94zm10 10l.94 2.06.94-2.06 2.06-.94-2.06-.94-.94-2.06-.94 2.06-2.06.94z\"/><path d=\"M17.41 7.96l-1.37-1.37c-.4-.4-.92-.59-1.43-.59-.52 0-1.04.2-1.43.59L10.3 9.45l-7.72 7.72c-.78.78-.78 2.05 0 2.83L4 21.41c.39.39.9.59 1.41.59.51 0 1.02-.2 1.41-.59l7.78-7.78 2.81-2.81c.8-.78.8-2.07 0-2.86zM5.41 20L4 18.59l7.72-7.72 1.47 1.35L5.41 20z\"/>\n",
              "  </svg>\n",
              "      </button>\n",
              "      \n",
              "  <style>\n",
              "    .colab-df-container {\n",
              "      display:flex;\n",
              "      flex-wrap:wrap;\n",
              "      gap: 12px;\n",
              "    }\n",
              "\n",
              "    .colab-df-convert {\n",
              "      background-color: #E8F0FE;\n",
              "      border: none;\n",
              "      border-radius: 50%;\n",
              "      cursor: pointer;\n",
              "      display: none;\n",
              "      fill: #1967D2;\n",
              "      height: 32px;\n",
              "      padding: 0 0 0 0;\n",
              "      width: 32px;\n",
              "    }\n",
              "\n",
              "    .colab-df-convert:hover {\n",
              "      background-color: #E2EBFA;\n",
              "      box-shadow: 0px 1px 2px rgba(60, 64, 67, 0.3), 0px 1px 3px 1px rgba(60, 64, 67, 0.15);\n",
              "      fill: #174EA6;\n",
              "    }\n",
              "\n",
              "    [theme=dark] .colab-df-convert {\n",
              "      background-color: #3B4455;\n",
              "      fill: #D2E3FC;\n",
              "    }\n",
              "\n",
              "    [theme=dark] .colab-df-convert:hover {\n",
              "      background-color: #434B5C;\n",
              "      box-shadow: 0px 1px 3px 1px rgba(0, 0, 0, 0.15);\n",
              "      filter: drop-shadow(0px 1px 2px rgba(0, 0, 0, 0.3));\n",
              "      fill: #FFFFFF;\n",
              "    }\n",
              "  </style>\n",
              "\n",
              "      <script>\n",
              "        const buttonEl =\n",
              "          document.querySelector('#df-3ecfb43e-be7d-4ffa-b3d4-baf470c943b7 button.colab-df-convert');\n",
              "        buttonEl.style.display =\n",
              "          google.colab.kernel.accessAllowed ? 'block' : 'none';\n",
              "\n",
              "        async function convertToInteractive(key) {\n",
              "          const element = document.querySelector('#df-3ecfb43e-be7d-4ffa-b3d4-baf470c943b7');\n",
              "          const dataTable =\n",
              "            await google.colab.kernel.invokeFunction('convertToInteractive',\n",
              "                                                     [key], {});\n",
              "          if (!dataTable) return;\n",
              "\n",
              "          const docLinkHtml = 'Like what you see? Visit the ' +\n",
              "            '<a target=\"_blank\" href=https://colab.research.google.com/notebooks/data_table.ipynb>data table notebook</a>'\n",
              "            + ' to learn more about interactive tables.';\n",
              "          element.innerHTML = '';\n",
              "          dataTable['output_type'] = 'display_data';\n",
              "          await google.colab.output.renderOutput(dataTable, element);\n",
              "          const docLink = document.createElement('div');\n",
              "          docLink.innerHTML = docLinkHtml;\n",
              "          element.appendChild(docLink);\n",
              "        }\n",
              "      </script>\n",
              "    </div>\n",
              "  </div>\n",
              "  "
            ]
          },
          "metadata": {},
          "execution_count": 13
        }
      ],
      "source": [
        "# Dataset description\n",
        "dataset.describe(include='all')"
      ]
    },
    {
      "cell_type": "markdown",
      "metadata": {
        "id": "U9lm3B9TslE9"
      },
      "source": [
        "### Checking Unique Values for each variable in dataset"
      ]
    },
    {
      "cell_type": "code",
      "execution_count": 14,
      "metadata": {
        "colab": {
          "base_uri": "https://localhost:8080/"
        },
        "id": "hN6hdAoir7XX",
        "outputId": "df794089-cbaf-4ea5-8de5-69f2acabb093"
      },
      "outputs": [
        {
          "output_type": "stream",
          "name": "stdout",
          "text": [
            "No. of unique values in  show_id is 7777\n",
            "No. of unique values in  type is 2\n",
            "No. of unique values in  title is 7777\n",
            "No. of unique values in  director is 4050\n",
            "No. of unique values in  cast is 6822\n",
            "No. of unique values in  country is 682\n",
            "No. of unique values in  date_added is 1565\n",
            "No. of unique values in  release_year is 73\n",
            "No. of unique values in  rating is 14\n",
            "No. of unique values in  duration is 216\n",
            "No. of unique values in  listed_in is 491\n",
            "No. of unique values in  description is 7759\n"
          ]
        }
      ],
      "source": [
        "# For checking unique values in each column\n",
        "for i in dataset.columns.tolist():\n",
        "  print('No. of unique values in ',i,'is',dataset[i].nunique())"
      ]
    },
    {
      "cell_type": "markdown",
      "metadata": {
        "id": "iXAgCECUuD4e"
      },
      "source": [
        "## **3. Data Wrangling**"
      ]
    },
    {
      "cell_type": "markdown",
      "source": [
        "### Country & listed_in column"
      ],
      "metadata": {
        "id": "2yMsJvwc7-0h"
      }
    },
    {
      "cell_type": "code",
      "source": [
        "# Top countries\n",
        "dataset.country.value_counts()"
      ],
      "metadata": {
        "id": "dUuPZwJFV9dM",
        "colab": {
          "base_uri": "https://localhost:8080/"
        },
        "outputId": "f6715ef5-d3f3-4180-a41e-c8edd8df0299"
      },
      "execution_count": 15,
      "outputs": [
        {
          "output_type": "execute_result",
          "data": {
            "text/plain": [
              "United States                                                   2549\n",
              "India                                                            923\n",
              "Unknown                                                          506\n",
              "United Kingdom                                                   396\n",
              "Japan                                                            225\n",
              "                                                                ... \n",
              "Russia, United States, China                                       1\n",
              "Italy, Switzerland, France, Germany                                1\n",
              "United States, United Kingdom, Canada                              1\n",
              "United States, United Kingdom, Japan                               1\n",
              "Sweden, Czech Republic, United Kingdom, Denmark, Netherlands       1\n",
              "Name: country, Length: 682, dtype: int64"
            ]
          },
          "metadata": {},
          "execution_count": 15
        }
      ]
    },
    {
      "cell_type": "code",
      "source": [
        "# Genre of shows\n",
        "dataset.listed_in.value_counts()"
      ],
      "metadata": {
        "colab": {
          "base_uri": "https://localhost:8080/"
        },
        "id": "Gsj-pYJg1TOw",
        "outputId": "dd562afc-ce5e-4951-aed6-a9b042316d9b"
      },
      "execution_count": 16,
      "outputs": [
        {
          "output_type": "execute_result",
          "data": {
            "text/plain": [
              "Documentaries                                                                      334\n",
              "Stand-Up Comedy                                                                    321\n",
              "Dramas, International Movies                                                       320\n",
              "Comedies, Dramas, International Movies                                             243\n",
              "Dramas, Independent Movies, International Movies                                   215\n",
              "                                                                                  ... \n",
              "Anime Series, Crime TV Shows, TV Thrillers                                           1\n",
              "Crime TV Shows, Romantic TV Shows, Spanish-Language TV Shows                         1\n",
              "Crime TV Shows, International TV Shows, Reality TV                                   1\n",
              "International Movies, Romantic Movies, Sci-Fi & Fantasy                              1\n",
              "International TV Shows, Spanish-Language TV Shows, Stand-Up Comedy & Talk Shows      1\n",
              "Name: listed_in, Length: 491, dtype: int64"
            ]
          },
          "metadata": {},
          "execution_count": 16
        }
      ]
    },
    {
      "cell_type": "markdown",
      "source": [
        "From above country and listed_in column:-\n",
        "\n",
        "*   There are some movies / TV shows that were filmed in multiple countries, have multiple genres associated with it.\n",
        "*   To simplify the analysis, let's consider only the primary country where that respective movie / TV show was filmed. Also, let's consider only the primary genre of the respective movie / TV show.\n",
        "\n"
      ],
      "metadata": {
        "id": "Asf-U0rT2Hul"
      }
    },
    {
      "cell_type": "code",
      "source": [
        "# Choosing the primary country and primary genre to simplify the analysis\n",
        "dataset['country'] = dataset['country'].apply(lambda x: x.split(',')[0])\n",
        "dataset['listed_in'] = dataset['listed_in'].apply(lambda x: x.split(',')[0])"
      ],
      "metadata": {
        "id": "PoL0Py1h1TF0"
      },
      "execution_count": 17,
      "outputs": []
    },
    {
      "cell_type": "code",
      "source": [
        "# contry in which a movie was produced\n",
        "dataset.country.value_counts()"
      ],
      "metadata": {
        "colab": {
          "base_uri": "https://localhost:8080/"
        },
        "id": "zw8D92yU1TCs",
        "outputId": "f8708d3f-1833-4c09-a578-9394d0b559fa"
      },
      "execution_count": 18,
      "outputs": [
        {
          "output_type": "execute_result",
          "data": {
            "text/plain": [
              "United States     2877\n",
              "India              956\n",
              "United Kingdom     576\n",
              "Unknown            506\n",
              "Canada             259\n",
              "                  ... \n",
              "Zimbabwe             1\n",
              "Namibia              1\n",
              "Soviet Union         1\n",
              "Iran                 1\n",
              "Somalia              1\n",
              "Name: country, Length: 82, dtype: int64"
            ]
          },
          "metadata": {},
          "execution_count": 18
        }
      ]
    },
    {
      "cell_type": "code",
      "source": [
        "# genre of shows\n",
        "dataset.listed_in.value_counts()"
      ],
      "metadata": {
        "colab": {
          "base_uri": "https://localhost:8080/"
        },
        "id": "h-825iws1S-Y",
        "outputId": "21669308-fdba-4d40-c65b-4d8995c1cf50"
      },
      "execution_count": 19,
      "outputs": [
        {
          "output_type": "execute_result",
          "data": {
            "text/plain": [
              "Dramas                          1384\n",
              "Comedies                        1074\n",
              "Documentaries                    751\n",
              "Action & Adventure               721\n",
              "International TV Shows           689\n",
              "Children & Family Movies         502\n",
              "Crime TV Shows                   369\n",
              "Kids' TV                         357\n",
              "Stand-Up Comedy                  321\n",
              "Horror Movies                    244\n",
              "British TV Shows                 231\n",
              "Docuseries                       193\n",
              "Anime Series                     147\n",
              "International Movies             114\n",
              "TV Comedies                      109\n",
              "Reality TV                       102\n",
              "Classic Movies                    77\n",
              "TV Dramas                         62\n",
              "Movies                            56\n",
              "Thrillers                         49\n",
              "TV Action & Adventure             36\n",
              "Stand-Up Comedy & Talk Shows      33\n",
              "Romantic TV Shows                 28\n",
              "Independent Movies                20\n",
              "Anime Features                    19\n",
              "Classic & Cult TV                 19\n",
              "Music & Musicals                  17\n",
              "TV Shows                          12\n",
              "Cult Movies                       12\n",
              "Sci-Fi & Fantasy                  11\n",
              "TV Horror                         10\n",
              "Romantic Movies                    3\n",
              "Spanish-Language TV Shows          2\n",
              "Sports Movies                      1\n",
              "TV Sci-Fi & Fantasy                1\n",
              "LGBTQ Movies                       1\n",
              "Name: listed_in, dtype: int64"
            ]
          },
          "metadata": {},
          "execution_count": 19
        }
      ]
    },
    {
      "cell_type": "markdown",
      "source": [
        "### Converting 'duration' column datatype from string to integer"
      ],
      "metadata": {
        "id": "mSbhnClN8PZE"
      }
    },
    {
      "cell_type": "code",
      "source": [
        "# Splitting the duration column, and changing the datatype to integer\n",
        "dataset['duration'] = dataset['duration'].apply(lambda x: int(x.split()[0]))"
      ],
      "metadata": {
        "id": "otKnrUll1S73"
      },
      "execution_count": 20,
      "outputs": []
    },
    {
      "cell_type": "code",
      "source": [
        "# Number of seasons for tv shows\n",
        "dataset[dataset['type']=='TV Show'].duration.value_counts()"
      ],
      "metadata": {
        "colab": {
          "base_uri": "https://localhost:8080/"
        },
        "id": "oD8J5-Kg6G8q",
        "outputId": "4f917de9-984f-4c55-ec3d-0e404f2214c1"
      },
      "execution_count": 21,
      "outputs": [
        {
          "output_type": "execute_result",
          "data": {
            "text/plain": [
              "1     1608\n",
              "2      378\n",
              "3      183\n",
              "4       86\n",
              "5       57\n",
              "6       30\n",
              "7       19\n",
              "8       18\n",
              "9        8\n",
              "10       5\n",
              "11       2\n",
              "12       2\n",
              "15       2\n",
              "13       1\n",
              "16       1\n",
              "Name: duration, dtype: int64"
            ]
          },
          "metadata": {},
          "execution_count": 21
        }
      ]
    },
    {
      "cell_type": "code",
      "source": [
        "# Movie length in minutes\n",
        "dataset[dataset['type']=='Movie'].duration.unique()"
      ],
      "metadata": {
        "colab": {
          "base_uri": "https://localhost:8080/"
        },
        "id": "cdlT8ml66G6S",
        "outputId": "461a0e6a-71b3-411d-fc50-47e79f5cfcaa"
      },
      "execution_count": 22,
      "outputs": [
        {
          "output_type": "execute_result",
          "data": {
            "text/plain": [
              "array([ 93,  78,  80, 123,  95, 119, 118, 143, 103,  89,  91, 149, 144,\n",
              "       124,  87, 110, 128, 117, 100,  84,  99,  90, 102, 104, 105,  56,\n",
              "       125,  81,  97, 106, 107, 109,  44,  75, 101,  37, 113, 114, 130,\n",
              "        94, 140, 135,  82,  70, 121,  92, 164,  53,  83, 116,  86, 120,\n",
              "        96, 126, 129,  77, 137, 148,  28, 122, 176,  85,  22,  68, 111,\n",
              "        29, 142, 168,  21,  59,  20,  98, 108,  76,  26, 156,  30,  57,\n",
              "       150, 133, 115, 154, 127, 146, 136,  88, 131,  24, 112,  74,  63,\n",
              "        38,  25, 174,  60, 153, 158, 151, 162,  54,  51,  69,  64, 147,\n",
              "        42,  79,  40,  45, 172,  10, 163,  55,  72,  61,  71, 160, 171,\n",
              "        48, 139, 157,  15,  65, 134, 161,  62, 186,  49,  73,  58, 165,\n",
              "       166, 138, 159, 141, 132,  52,  67,  34,  66, 312, 180,  47, 155,\n",
              "        14, 177,  11,   9,  46, 145,   8,  12,  43,  50,  23, 185, 200,\n",
              "       169,  27, 170, 196,  33, 181, 204,  32,  35, 167, 179, 193,  13,\n",
              "       214,  17, 173, 192, 209, 187,  41, 182, 224, 233, 189, 152,  19,\n",
              "       208, 237,  31, 178, 230, 194, 228, 195,   3,  16,   5,  18, 205,\n",
              "       190,  36, 201, 253, 203, 191])"
            ]
          },
          "metadata": {},
          "execution_count": 22
        }
      ]
    },
    {
      "cell_type": "code",
      "source": [
        "# datatype of duration\n",
        "dataset.duration.dtype"
      ],
      "metadata": {
        "colab": {
          "base_uri": "https://localhost:8080/"
        },
        "id": "L5J8SN0w6G4H",
        "outputId": "8fa3c515-c8f0-43a4-ac4f-5efe595f4340"
      },
      "execution_count": 23,
      "outputs": [
        {
          "output_type": "execute_result",
          "data": {
            "text/plain": [
              "dtype('int64')"
            ]
          },
          "metadata": {},
          "execution_count": 23
        }
      ]
    },
    {
      "cell_type": "markdown",
      "source": [
        "### Converting 'date_added' column from string to datetime format"
      ],
      "metadata": {
        "id": "rMDXBtB-8mii"
      }
    },
    {
      "cell_type": "code",
      "source": [
        "# Converting 'date_added' from string to datetime\n",
        "dataset[\"date_added\"] = pd.to_datetime(dataset['date_added'])"
      ],
      "metadata": {
        "id": "A2YIRxIA6G1p"
      },
      "execution_count": 24,
      "outputs": []
    },
    {
      "cell_type": "code",
      "source": [
        "# first and last date on which a show was added on Netflix\n",
        "dataset.date_added.min(),dataset.date_added.max()"
      ],
      "metadata": {
        "colab": {
          "base_uri": "https://localhost:8080/"
        },
        "id": "RUw8tfYS6Gy3",
        "outputId": "307d3245-6281-4db6-cc12-794e3701791a"
      },
      "execution_count": 25,
      "outputs": [
        {
          "output_type": "execute_result",
          "data": {
            "text/plain": [
              "(Timestamp('2008-01-01 00:00:00'), Timestamp('2021-01-16 00:00:00'))"
            ]
          },
          "metadata": {},
          "execution_count": 25
        }
      ]
    },
    {
      "cell_type": "markdown",
      "source": [
        "From above\n",
        "\n",
        "*   The shows were added on Netflix between 1st January 2008 and 16th January 2021.\n",
        "\n"
      ],
      "metadata": {
        "id": "xx6wRB7E-U09"
      }
    },
    {
      "cell_type": "code",
      "source": [
        "# Adding new attributes month_added & year_added from date_added column\n",
        "dataset['month_added'] = dataset['date_added'].dt.month\n",
        "dataset['year_added'] = dataset['date_added'].dt.year\n",
        "\n",
        "# Drop date_added column\n",
        "dataset.drop('date_added', axis=1, inplace=True)"
      ],
      "metadata": {
        "id": "lnKtRHUe6GwN"
      },
      "execution_count": 26,
      "outputs": []
    },
    {
      "cell_type": "code",
      "source": [
        "# New Dataset Rows & Columns \n",
        "dataset.shape"
      ],
      "metadata": {
        "colab": {
          "base_uri": "https://localhost:8080/"
        },
        "id": "37w7eVZJ6Gqs",
        "outputId": "bdefa167-4a3a-46f9-988b-3bc0214537e7"
      },
      "execution_count": 27,
      "outputs": [
        {
          "output_type": "execute_result",
          "data": {
            "text/plain": [
              "(7777, 13)"
            ]
          },
          "metadata": {},
          "execution_count": 27
        }
      ]
    },
    {
      "cell_type": "markdown",
      "source": [
        "### Changing the values name in the rating column for better understanding and insights"
      ],
      "metadata": {
        "id": "81DFWfDdfWb7"
      }
    },
    {
      "cell_type": "code",
      "source": [
        "# Changing the values in the rating column\n",
        "rating_map = {'TV-MA':'Adults',\n",
        "              'R':'Adults',\n",
        "              'PG-13':'Teens',\n",
        "              'TV-14':'Young Adults',\n",
        "              'TV-PG':'Older Kids',\n",
        "              'NR':'Adults',\n",
        "              'TV-G':'Kids',\n",
        "              'TV-Y':'Kids',\n",
        "              'TV-Y7':'Older Kids',\n",
        "              'PG':'Older Kids',\n",
        "              'G':'Kids',\n",
        "              'NC-17':'Adults',\n",
        "              'TV-Y7-FV':'Older Kids',\n",
        "              'UR':'Adults'}\n",
        "\n",
        "dataset['rating'].replace(rating_map, inplace = True)\n",
        "dataset['rating'].unique()\n",
        "     "
      ],
      "metadata": {
        "colab": {
          "base_uri": "https://localhost:8080/"
        },
        "id": "qQlC-D5VfOH1",
        "outputId": "12897df8-677f-4d12-9573-024e7015e6c0"
      },
      "execution_count": 28,
      "outputs": [
        {
          "output_type": "execute_result",
          "data": {
            "text/plain": [
              "array(['Adults', 'Teens', 'Young Adults', 'Older Kids', 'Kids'],\n",
              "      dtype=object)"
            ]
          },
          "metadata": {},
          "execution_count": 28
        }
      ]
    },
    {
      "cell_type": "code",
      "source": [
        "# Dataset Info\n",
        "dataset.info()"
      ],
      "metadata": {
        "colab": {
          "base_uri": "https://localhost:8080/"
        },
        "id": "7sC7HV5J6GoH",
        "outputId": "3a308dd7-e698-42d5-80b2-60732bb0a22a"
      },
      "execution_count": 29,
      "outputs": [
        {
          "output_type": "stream",
          "name": "stdout",
          "text": [
            "<class 'pandas.core.frame.DataFrame'>\n",
            "Int64Index: 7777 entries, 0 to 7786\n",
            "Data columns (total 13 columns):\n",
            " #   Column        Non-Null Count  Dtype \n",
            "---  ------        --------------  ----- \n",
            " 0   show_id       7777 non-null   object\n",
            " 1   type          7777 non-null   object\n",
            " 2   title         7777 non-null   object\n",
            " 3   director      7777 non-null   object\n",
            " 4   cast          7777 non-null   object\n",
            " 5   country       7777 non-null   object\n",
            " 6   release_year  7777 non-null   int64 \n",
            " 7   rating        7777 non-null   object\n",
            " 8   duration      7777 non-null   int64 \n",
            " 9   listed_in     7777 non-null   object\n",
            " 10  description   7777 non-null   object\n",
            " 11  month_added   7777 non-null   int64 \n",
            " 12  year_added    7777 non-null   int64 \n",
            "dtypes: int64(4), object(9)\n",
            "memory usage: 850.6+ KB\n"
          ]
        }
      ]
    },
    {
      "cell_type": "markdown",
      "source": [
        "Hurry, now our dataset is complately ready for EDA "
      ],
      "metadata": {
        "id": "uzaetHRM_nVi"
      }
    },
    {
      "cell_type": "markdown",
      "metadata": {
        "id": "fIqzaiHp3dSs"
      },
      "source": [
        "## **4. EDA, Data Vizualization, Storytelling & Experimenting with charts : Understand the relationships between variables**"
      ]
    },
    {
      "cell_type": "markdown",
      "metadata": {
        "id": "6MhQ51pTAvVt"
      },
      "source": [
        "### **1. Univariate Analysis**"
      ]
    },
    {
      "cell_type": "markdown",
      "metadata": {
        "id": "Pqvch0vmBlUI"
      },
      "source": [
        "Univariate analysis explores each variable in a data set, separately. \n",
        "\n",
        "Uni means one, so in other words the data has only one variable. Univariate data requires to analyze each variable separately. \n",
        "\n",
        "It looks at the range of values, as well as the central tendency of the values. It describes the pattern of response to the variable. It describes each variable on its own.\n",
        "\n",
        "Now Below is some variables which we doing analysis over them:- "
      ]
    },
    {
      "cell_type": "markdown",
      "metadata": {
        "id": "rgUt9MgNFL3L"
      },
      "source": [
        "#### Chart-1"
      ]
    },
    {
      "cell_type": "markdown",
      "source": [
        "Here we use pie chart\n",
        "\n",
        "A pie chart, sometimes called a circle chart, is a way of summarizing a set of nominal data or displaying the different values of a given variable."
      ],
      "metadata": {
        "id": "XIwlgQZ_HkKQ"
      }
    },
    {
      "cell_type": "code",
      "source": [
        "# Number of Movies and TV Shows in the dataset\n",
        "plt.figure(figsize=(10,7))\n",
        "y = dataset.type.value_counts()\n",
        "mylabels = ['Movies', 'TV Shows']\n",
        "myexplode = [0.05, 0.05]\n",
        "plt.pie(y,labels = mylabels, explode = myexplode,autopct='%1.2f%%', shadow = True)\n",
        "plt.title('Movies and TV Shows in the dataset')\n",
        "plt.show() "
      ],
      "metadata": {
        "id": "uADgqbH0oMTl",
        "colab": {
          "base_uri": "https://localhost:8080/",
          "height": 0
        },
        "outputId": "68c73117-52a6-4560-e82e-5bbb42b66afd"
      },
      "execution_count": 30,
      "outputs": [
        {
          "output_type": "display_data",
          "data": {
            "text/plain": [
              "<Figure size 720x504 with 1 Axes>"
            ],
            "image/png": "[encoded data removed]"
          },
          "metadata": {}
        }
      ]
    },
    {
      "cell_type": "markdown",
      "source": [
        "From above pie chart:-\n",
        "\n",
        "*   There are higher movies 69.14% in datset as compare to TV shows 30.86% in the dataset.\n",
        "\n"
      ],
      "metadata": {
        "id": "bXhUxMd3IC45"
      }
    },
    {
      "cell_type": "markdown",
      "source": [
        "#### Chart-2"
      ],
      "metadata": {
        "id": "NvMnsduKIr4K"
      }
    },
    {
      "cell_type": "markdown",
      "source": [
        "Here we use bar plot\n",
        "\n",
        "A barplot (or barchart) is one of the most common types of graphic. It shows the relationship between a numeric and a categoric variable. Each entity of the categoric variable is represented as a bar. The size of the bar represents its numeric value."
      ],
      "metadata": {
        "id": "6kT40Y7MJDgR"
      }
    },
    {
      "cell_type": "code",
      "source": [
        "# Top 10 directors in the dataset\n",
        "plt.figure(figsize=(15,6))\n",
        "dataset[~(dataset['director']=='Unknown')].director.value_counts().nlargest(10).plot(kind='bar')\n",
        "plt.title('Top 10 directors by number of shows directed')"
      ],
      "metadata": {
        "colab": {
          "base_uri": "https://localhost:8080/",
          "height": 515
        },
        "id": "AvMORBE-K6ML",
        "outputId": "7684ffa1-0be7-458e-ca62-cfd3952429d4"
      },
      "execution_count": 31,
      "outputs": [
        {
          "output_type": "execute_result",
          "data": {
            "text/plain": [
              "Text(0.5, 1.0, 'Top 10 directors by number of shows directed')"
            ]
          },
          "metadata": {},
          "execution_count": 31
        },
        {
          "output_type": "display_data",
          "data": {
            "text/plain": [
              "<Figure size 1080x432 with 1 Axes>"
            ],
            "image/png": "[encoded data removed]"
          },
          "metadata": {
            "needs_background": "light"
          }
        }
      ]
    },
    {
      "cell_type": "markdown",
      "source": [
        "From above bar plot there are showing Top 10 directors by number of shows directed:-\n",
        "\n",
        "*   Raul Campos and Jan Suter together have directed 18 movies / TV shows, which is higher than anyone in the top 10 director in dataset.\n",
        "*   Ryan polito & david dhawan have lowest no of directed movies / TV shows which is 8 & 9 respectively in top 10 director dataset.\n",
        "\n"
      ],
      "metadata": {
        "id": "oN5lf5ikL7Z4"
      }
    },
    {
      "cell_type": "markdown",
      "source": [
        "#### Chart-3"
      ],
      "metadata": {
        "id": "Hb3hcAirIwYK"
      }
    },
    {
      "cell_type": "markdown",
      "source": [
        "Here we use bar plot"
      ],
      "metadata": {
        "id": "OsP6hWj2NNuI"
      }
    },
    {
      "cell_type": "code",
      "source": [
        "# Top 10 countries with the highest number movies / TV shows in the dataset\n",
        "plt.figure(figsize=(15,5))\n",
        "dataset[~(dataset['country']=='Unknown')].country.value_counts().nlargest(10).plot(kind='barh')\n",
        "plt.title(' Top 10 countries with the highest number of shows')"
      ],
      "metadata": {
        "colab": {
          "base_uri": "https://localhost:8080/",
          "height": 0
        },
        "id": "niEZ8q89ONt_",
        "outputId": "82ec7ffe-2021-4d16-cc95-ffbdb6a3c981"
      },
      "execution_count": 32,
      "outputs": [
        {
          "output_type": "execute_result",
          "data": {
            "text/plain": [
              "Text(0.5, 1.0, ' Top 10 countries with the highest number of shows')"
            ]
          },
          "metadata": {},
          "execution_count": 32
        },
        {
          "output_type": "display_data",
          "data": {
            "text/plain": [
              "<Figure size 1080x360 with 1 Axes>"
            ],
            "image/png": "[encoded data removed]"
          },
          "metadata": {
            "needs_background": "light"
          }
        }
      ]
    },
    {
      "cell_type": "code",
      "source": [
        "# % share of movies / tv shows by top 3 countries\n",
        "dataset.country.value_counts().nlargest(3).sum()/len(dataset)*100"
      ],
      "metadata": {
        "colab": {
          "base_uri": "https://localhost:8080/"
        },
        "id": "AcHprn4QZ_7k",
        "outputId": "136ec641-bd7c-4bf3-fc22-1a7fd7a36f05"
      },
      "execution_count": 33,
      "outputs": [
        {
          "output_type": "execute_result",
          "data": {
            "text/plain": [
              "56.69281213835669"
            ]
          },
          "metadata": {},
          "execution_count": 33
        }
      ]
    },
    {
      "cell_type": "code",
      "source": [
        "# % share of movies / tv shows by top 10 countries\n",
        "dataset.country.value_counts().nlargest(10).sum()/len(dataset)*100"
      ],
      "metadata": {
        "colab": {
          "base_uri": "https://localhost:8080/"
        },
        "id": "wTbV2Sw0aG2r",
        "outputId": "6c6a009c-b245-459e-cbdb-d80820521263"
      },
      "execution_count": 34,
      "outputs": [
        {
          "output_type": "execute_result",
          "data": {
            "text/plain": [
              "78.32068921177832"
            ]
          },
          "metadata": {},
          "execution_count": 34
        }
      ]
    },
    {
      "cell_type": "markdown",
      "source": [
        "From above bar plot showing Top 10 countries with the highest number of movies / TV shows in the dataset:-\n",
        "\n",
        "*   United States are the top one country of highest number of movies / TV shows in the dataset and then after India & United Kingdom are 2 & 3 Number in dataset\n",
        "*   Mexico & Australia have 9 & 10 position in Top 10 countries with the highest number of movies / TV shows in the dataset.\n",
        "\n",
        "*   The top 3 countries together account for about 56% of all movies and TV shows in the dataset.\n",
        "*   Where the top ten countries together account for about 78% of all movies and TV shows in the dataset.\n",
        "\n",
        "\n",
        "\n"
      ],
      "metadata": {
        "id": "o9BY3XExOpwm"
      }
    },
    {
      "cell_type": "markdown",
      "source": [
        "#### Chart-4"
      ],
      "metadata": {
        "id": "JZ8ydoJwIzts"
      }
    },
    {
      "cell_type": "markdown",
      "source": [
        "Here we use Histogram\n",
        "\n",
        "In statistics, a histogram is a graphical representation of the distribution of data. The histogram is represented by a set of rectangles, adjacent to each other, where each bar represent a kind of data."
      ],
      "metadata": {
        "id": "JSbhGFH_Qnav"
      }
    },
    {
      "cell_type": "code",
      "source": [
        "# Visualizing the year in which the movie / tv show was released\n",
        "plt.figure(figsize=(13,7))\n",
        "sns.histplot(dataset['release_year'])\n",
        "plt.title('Distribution by Released Year')"
      ],
      "metadata": {
        "colab": {
          "base_uri": "https://localhost:8080/",
          "height": 0
        },
        "id": "qsBFcivZZxOz",
        "outputId": "b2bd2454-5460-4c95-818b-ea2b1af738bb"
      },
      "execution_count": 35,
      "outputs": [
        {
          "output_type": "execute_result",
          "data": {
            "text/plain": [
              "Text(0.5, 1.0, 'Distribution by Released Year')"
            ]
          },
          "metadata": {},
          "execution_count": 35
        },
        {
          "output_type": "display_data",
          "data": {
            "text/plain": [
              "<Figure size 936x504 with 1 Axes>"
            ],
            "image/png": "[encoded data removed]"
          },
          "metadata": {
            "needs_background": "light"
          }
        }
      ]
    },
    {
      "cell_type": "markdown",
      "source": [
        "from above histogram\n",
        "\n",
        "*   Most number of movies / TV shows are released between 2000 to 2020 years where it goes high in recently years which between 2015 to 2020.\n"
      ],
      "metadata": {
        "id": "xi65yuEjbHSv"
      }
    },
    {
      "cell_type": "markdown",
      "source": [
        "#### Chart-5"
      ],
      "metadata": {
        "id": "rcg7oR4DI3dF"
      }
    },
    {
      "cell_type": "markdown",
      "source": [
        "Here we use countplot\n",
        "\n",
        "countplot() method is used to Show the counts of observations in each categorical bin using bars."
      ],
      "metadata": {
        "id": "ysUEgcq-mV7L"
      }
    },
    {
      "cell_type": "code",
      "source": [
        "# Number of shows added over the years\n",
        "plt.figure(figsize = (13,5)) \n",
        "sns.countplot(dataset['year_added'])\n",
        "plt.xlabel('Number of Year',fontsize=12)\n",
        "plt.ylabel('Number of Shows',fontsize=12)\n",
        "plt.title('Number of shows added each year')"
      ],
      "metadata": {
        "colab": {
          "base_uri": "https://localhost:8080/",
          "height": 0
        },
        "id": "5NX88tOZlLBn",
        "outputId": "8c2dc483-7cac-426d-de41-1a77478a459c"
      },
      "execution_count": 36,
      "outputs": [
        {
          "output_type": "execute_result",
          "data": {
            "text/plain": [
              "Text(0.5, 1.0, 'Number of shows added each year')"
            ]
          },
          "metadata": {},
          "execution_count": 36
        },
        {
          "output_type": "display_data",
          "data": {
            "text/plain": [
              "<Figure size 936x360 with 1 Axes>"
            ],
            "image/png": "[encoded data removed]"
          },
          "metadata": {
            "needs_background": "light"
          }
        }
      ]
    },
    {
      "cell_type": "markdown",
      "source": [
        "From above countplot:-\n",
        "\n",
        "*   Netflix continuous to add more shows on its platform over the few years.\n",
        "*   There is a decrease in the number of shows added in the year 2020, which might be attributed to the covid-19-induced lockdowns, which halted the creation of shows.\n",
        "\n",
        "*   We have Netflix data only up to 16th January 2021, hence there are less movies added in this year.\n",
        "\n",
        "\n",
        "\n"
      ],
      "metadata": {
        "id": "NQVQxuJhl2fR"
      }
    },
    {
      "cell_type": "markdown",
      "source": [
        "#### Chart-6"
      ],
      "metadata": {
        "id": "OV2moiVrI2JI"
      }
    },
    {
      "cell_type": "markdown",
      "source": [
        "Here we use countplot\n",
        "\n",
        "countplot() method is used to Show the counts of observations in each categorical bin using bars."
      ],
      "metadata": {
        "id": "MCCLWjDrhNfX"
      }
    },
    {
      "cell_type": "code",
      "source": [
        "# Number of shows added on different months\n",
        "plt.figure(figsize = (13,5)) \n",
        "sns.countplot(dataset['month_added'])\n",
        "plt.xlabel('Month in Year',fontsize=12)\n",
        "plt.ylabel('Number of Shows',fontsize=12)\n",
        "plt.title('Shows added each month over the years')"
      ],
      "metadata": {
        "colab": {
          "base_uri": "https://localhost:8080/",
          "height": 0
        },
        "id": "l9g99wn4hOub",
        "outputId": "51ef69bc-4426-4b62-959b-7d9e002af31e"
      },
      "execution_count": 37,
      "outputs": [
        {
          "output_type": "execute_result",
          "data": {
            "text/plain": [
              "Text(0.5, 1.0, 'Shows added each month over the years')"
            ]
          },
          "metadata": {},
          "execution_count": 37
        },
        {
          "output_type": "display_data",
          "data": {
            "text/plain": [
              "<Figure size 936x360 with 1 Axes>"
            ],
            "image/png": "[encoded data removed]"
          },
          "metadata": {
            "needs_background": "light"
          }
        }
      ]
    },
    {
      "cell_type": "markdown",
      "source": [
        "From above countplot:-\n",
        "\n",
        "*   Over the years a greater number of shows were added in the months of October, November, December, and January.\n",
        "*   February, May, June were less number of shows added Over the years.\n",
        "\n"
      ],
      "metadata": {
        "id": "RR1NXWYai_4u"
      }
    },
    {
      "cell_type": "markdown",
      "source": [
        "#### Chart-7"
      ],
      "metadata": {
        "id": "AAowYUwkI0y1"
      }
    },
    {
      "cell_type": "markdown",
      "source": [
        "Here we use countplot\n",
        "\n",
        "countplot() method is used to Show the counts of observations in each categorical bin using bars."
      ],
      "metadata": {
        "id": "G38erRRNeIqb"
      }
    },
    {
      "cell_type": "code",
      "source": [
        "# Age ratings for shows in the dataset\n",
        "plt.figure(figsize=(13,5))\n",
        "sns.countplot(x='rating',data=dataset)\n",
        "plt.xlabel('Different Age Groups',fontsize=12)\n",
        "plt.ylabel('Number of Shows',fontsize=12)\n",
        "plt.title('Number of shows on Netflix for different age groups')"
      ],
      "metadata": {
        "colab": {
          "base_uri": "https://localhost:8080/",
          "height": 371
        },
        "id": "s29pxWbSeHei",
        "outputId": "9affe8a4-e3ab-4f7d-90bd-d019165c4a2d"
      },
      "execution_count": 38,
      "outputs": [
        {
          "output_type": "execute_result",
          "data": {
            "text/plain": [
              "Text(0.5, 1.0, 'Number of shows on Netflix for different age groups')"
            ]
          },
          "metadata": {},
          "execution_count": 38
        },
        {
          "output_type": "display_data",
          "data": {
            "text/plain": [
              "<Figure size 936x360 with 1 Axes>"
            ],
            "image/png": "[encoded data removed]"
          },
          "metadata": {
            "needs_background": "light"
          }
        }
      ]
    },
    {
      "cell_type": "markdown",
      "source": [
        "From above countplot:-\n",
        "\n",
        "*   Adults are the highest number of shows and second highest is Young Adults and third highest is older Kids shows.\n",
        "*   Teens and kids are less number of shows on netflix as compare to other.\n",
        "\n"
      ],
      "metadata": {
        "id": "wMQu-ElCf9CS"
      }
    },
    {
      "cell_type": "markdown",
      "source": [
        "#### Chart-8"
      ],
      "metadata": {
        "id": "f2pHq2avI4mq"
      }
    },
    {
      "cell_type": "markdown",
      "source": [
        "Here we use barplot\n",
        "\n",
        "A bar graph is a graphical representation of data in which we can highlight the category with particular shapes like a rectangle. The length and heights of the bar chart represent the data distributed in the dataset. In a bar chart, we have one axis representing a particular category of a column in the dataset and another axis representing the values or counts associated with it. Bar charts can be plotted vertically or horizontally. A vertical bar chart is often called a column chart."
      ],
      "metadata": {
        "id": "TtUn7yJPnNK6"
      }
    },
    {
      "cell_type": "code",
      "source": [
        "# Top 10 genres \n",
        "plt.figure(figsize=(13,5))\n",
        "dataset.listed_in.value_counts().nlargest(10).plot(kind='bar')\n",
        "plt.ylabel('Number of Shows',fontsize=12)\n",
        "plt.title('Top 10 genres')"
      ],
      "metadata": {
        "colab": {
          "base_uri": "https://localhost:8080/",
          "height": 470
        },
        "id": "JSlykRNAnMD-",
        "outputId": "bde051bf-027b-4fdf-d6cc-7b1a642fa3ad"
      },
      "execution_count": 39,
      "outputs": [
        {
          "output_type": "execute_result",
          "data": {
            "text/plain": [
              "Text(0.5, 1.0, 'Top 10 genres')"
            ]
          },
          "metadata": {},
          "execution_count": 39
        },
        {
          "output_type": "display_data",
          "data": {
            "text/plain": [
              "<Figure size 936x360 with 1 Axes>"
            ],
            "image/png": "[encoded data removed]"
          },
          "metadata": {
            "needs_background": "light"
          }
        }
      ]
    },
    {
      "cell_type": "code",
      "source": [
        "# % of top 10 genres\n",
        "dataset.listed_in.value_counts().nlargest(10).sum()/len(dataset)*100"
      ],
      "metadata": {
        "colab": {
          "base_uri": "https://localhost:8080/"
        },
        "id": "FZraMZe6oFMB",
        "outputId": "334ff768-6723-4f32-9a80-90024c1022bd"
      },
      "execution_count": 40,
      "outputs": [
        {
          "output_type": "execute_result",
          "data": {
            "text/plain": [
              "82.44824482448246"
            ]
          },
          "metadata": {},
          "execution_count": 40
        }
      ]
    },
    {
      "cell_type": "markdown",
      "source": [
        "From above bar plot there are showing Top 10 genres by number of shows:-\n",
        "\n",
        "*   There are top ten genres account for about 82% of all movies and TV shows.\n",
        "*   The dramas is the most popular genres then comedies genres is second highest and documentries is third highest.\n",
        "\n",
        "*   Genres of stand up comedy and horror movies are ninth and tenth highest in dataset."
      ],
      "metadata": {
        "id": "XTsYfDxlov-_"
      }
    },
    {
      "cell_type": "markdown",
      "source": [
        "#### Chart-9"
      ],
      "metadata": {
        "id": "ICveI-ehI5vp"
      }
    },
    {
      "cell_type": "markdown",
      "source": [
        "Here we use bar plot\n",
        "\n",
        "A bar plot shows catergorical data as rectangular bars with the height of bars proportional to the value they represent. It is often used to compare between values of different categories in the data."
      ],
      "metadata": {
        "id": "-it1GOOVEgj8"
      }
    },
    {
      "cell_type": "code",
      "source": [
        "# seperating actor from cast column\n",
        "cast =dataset[~(dataset['cast']=='Unknown')].cast.str.split(', ', expand=True).stack().reset_index(level=1, drop=True)\n",
        "\n",
        "# top actors name who play highest role in movie/show.\n",
        "cast.value_counts()"
      ],
      "metadata": {
        "colab": {
          "base_uri": "https://localhost:8080/"
        },
        "id": "Z33SdGnstK4y",
        "outputId": "5969d993-6e53-400a-bf0f-ccf896734aaa"
      },
      "execution_count": 41,
      "outputs": [
        {
          "output_type": "execute_result",
          "data": {
            "text/plain": [
              "Anupam Kher         42\n",
              "Shah Rukh Khan      35\n",
              "Om Puri             30\n",
              "Naseeruddin Shah    30\n",
              "Akshay Kumar        29\n",
              "                    ..\n",
              "Lorenz Martinez      1\n",
              "Art Acuña            1\n",
              "Archie Alemania      1\n",
              "Demore Barnes        1\n",
              "Rachel Khoo          1\n",
              "Length: 32847, dtype: int64"
            ]
          },
          "metadata": {},
          "execution_count": 41
        }
      ]
    },
    {
      "cell_type": "code",
      "source": [
        "plt.figure(figsize=(13,5))\n",
        "cast.value_counts().nlargest(10).plot(kind='bar')\n",
        "plt.ylabel('Number of Shows',fontsize=12)\n",
        "plt.title('Top 10 Actors')"
      ],
      "metadata": {
        "colab": {
          "base_uri": "https://localhost:8080/",
          "height": 438
        },
        "id": "kV1j2VMjQyUC",
        "outputId": "a636aca5-046a-41f5-89e5-549d539121b7"
      },
      "execution_count": 42,
      "outputs": [
        {
          "output_type": "execute_result",
          "data": {
            "text/plain": [
              "Text(0.5, 1.0, 'Top 10 Actors')"
            ]
          },
          "metadata": {},
          "execution_count": 42
        },
        {
          "output_type": "display_data",
          "data": {
            "text/plain": [
              "<Figure size 936x360 with 1 Axes>"
            ],
            "image/png": "[encoded data removed]"
          },
          "metadata": {
            "needs_background": "light"
          }
        }
      ]
    },
    {
      "cell_type": "markdown",
      "source": [
        "From above bar plot of top ten actors name who play highest role in movie/show.\n",
        "\n",
        "*   Anupam kher play highest role in movie/show where shah rukh khan play secong highest role in movie/show. \n",
        "*   Paresh rawal, yuki kaji play ninth & tenth highest role in movie/show."
      ],
      "metadata": {
        "id": "_9kf_kaXRBnz"
      }
    },
    {
      "cell_type": "markdown",
      "metadata": {
        "id": "xMxnvFNFBFPp"
      },
      "source": [
        "### **2. Bivariate Analysis**"
      ]
    },
    {
      "cell_type": "markdown",
      "metadata": {
        "id": "FjTnMRDiDQWr"
      },
      "source": [
        "Bivariate analysis is one of the statistical analysis where two variables are observed. \n",
        "\n",
        "One variable here is dependent while the other is independent.\n",
        "\n",
        "here we analyse the changes occured between the two variables and to what extent.\n",
        "\n",
        "Now Below is some variables which we doing analysis over them:-"
      ]
    },
    {
      "cell_type": "markdown",
      "source": [
        "#### Chart-1"
      ],
      "metadata": {
        "id": "KVAP7L-yTiR4"
      }
    },
    {
      "cell_type": "markdown",
      "source": [
        "Here we use countplot\n",
        "\n",
        "countplot() method is used to Show the counts of observations in each categorical bin using bars."
      ],
      "metadata": {
        "id": "z8uAI-BeUjkX"
      }
    },
    {
      "cell_type": "code",
      "source": [
        "# Number of movies and TV shows added over the years\n",
        "plt.figure(figsize=(20,6))\n",
        "p = sns.countplot(x='year_added',data=dataset, hue='type')\n",
        "plt.xlabel('Adding Years',fontsize=12)\n",
        "plt.ylabel('Number of Shows',fontsize=12)\n",
        "plt.title('Number of movies and TV shows added over the years')\n",
        "for i in p.patches:\n",
        "  p.annotate(format(i.get_height(), '.0f'), (i.get_x() + i.get_width() / 2., i.get_height()), ha = 'center', va = 'center', xytext = (0, 10), textcoords = 'offset points')\n"
      ],
      "metadata": {
        "colab": {
          "base_uri": "https://localhost:8080/",
          "height": 407
        },
        "id": "pD7HRKNSWNJO",
        "outputId": "b4bb9acb-5c10-4693-b0cf-7a8848ea3ab7"
      },
      "execution_count": 43,
      "outputs": [
        {
          "output_type": "display_data",
          "data": {
            "text/plain": [
              "<Figure size 1440x432 with 1 Axes>"
            ],
            "image/png": "[encoded data removed]"
          },
          "metadata": {
            "needs_background": "light"
          }
        }
      ]
    },
    {
      "cell_type": "markdown",
      "source": [
        "From above countplot\n",
        "\n",
        "*   Most of the years have more movies adding as compare to TV shows in Netflix.\n",
        "*   Also Over the last few years from 2015 to 2021 Netflix has consistently focused on adding more shows in its platform.\n",
        "\n"
      ],
      "metadata": {
        "id": "M-yrXO9EWZWk"
      }
    },
    {
      "cell_type": "markdown",
      "source": [
        "#### Chart-2"
      ],
      "metadata": {
        "id": "UCgrVCYRS33R"
      }
    },
    {
      "cell_type": "markdown",
      "source": [
        "Here we use countplot\n",
        "\n",
        "countplot() method is used to Show the counts of observations in each categorical bin using bars."
      ],
      "metadata": {
        "id": "Kx-q8l6zZGpY"
      }
    },
    {
      "cell_type": "code",
      "source": [
        "# Number of shows released each year since 2008\n",
        "order = range(2008,2022)\n",
        "plt.figure(figsize=(15,7))\n",
        "p = sns.countplot(x='release_year',data=dataset, hue='type',\n",
        "                  order = order)\n",
        "plt.xlabel('Release Years',fontsize=12)\n",
        "plt.ylabel('Number of Shows',fontsize=12)\n",
        "plt.title('Number of shows released each year since 2008 that are on Netflix')\n",
        "\n",
        "for i in p.patches:\n",
        "  p.annotate(format(i.get_height(), '.0f'), (i.get_x() + i.get_width() / 2., i.get_height()), ha = 'center', va = 'center', xytext = (0, 10), textcoords = 'offset points')"
      ],
      "metadata": {
        "colab": {
          "base_uri": "https://localhost:8080/",
          "height": 461
        },
        "id": "Dv-GxjyXYaH7",
        "outputId": "adb0c494-7835-4de9-d3c3-80b1057a50c2"
      },
      "execution_count": 44,
      "outputs": [
        {
          "output_type": "display_data",
          "data": {
            "text/plain": [
              "<Figure size 1080x504 with 1 Axes>"
            ],
            "image/png": "[encoded data removed]"
          },
          "metadata": {
            "needs_background": "light"
          }
        }
      ]
    },
    {
      "cell_type": "markdown",
      "source": [
        "From above countplot:-\n",
        "\n",
        "*   From 2008 to 2018 Number of releaing Movies & TV Shows gradually increasing in each year.\n",
        "\n",
        "*   from year 2008 to 2019 movies releasing is higher compare to TV shows.\n",
        "\n",
        "\n",
        "*   Where year of 2017 & 2018 have highest number of releasing movies which is 744 & 734 respectively.\n",
        "\n",
        "*   Where year of 2019 & 2020 have highest number of releasing TV Show which is 414 and 457 respectively\n",
        "\n",
        "\n",
        "\n"
      ],
      "metadata": {
        "id": "Ci88c61AZUeZ"
      }
    },
    {
      "cell_type": "markdown",
      "source": [
        "#### Chart-3"
      ],
      "metadata": {
        "id": "N09ZlM2BS4zN"
      }
    },
    {
      "cell_type": "markdown",
      "source": [
        "here we use countplot\n",
        "\n",
        "A count plot can be thought of as a histogram across a categorical, instead of quantitative, variable. The basic API and options are identical to those for barplot() , so you can compare counts across nested variables."
      ],
      "metadata": {
        "id": "dZy7foiBc8vn"
      }
    },
    {
      "cell_type": "code",
      "source": [
        "# Seasons in each TV show\n",
        "plt.figure(figsize=(15,7))\n",
        "p = sns.countplot(x='duration',data=dataset[dataset['type']=='TV Show'])\n",
        "plt.xlabel('Number of Seasons',fontsize=12)\n",
        "plt.ylabel('Number of Shows',fontsize=12)\n",
        "plt.title('Number of seasons per TV show distribution')\n",
        "\n",
        "for i in p.patches:\n",
        "  p.annotate(format(i.get_height(), '.0f'), (i.get_x() + i.get_width() / 2., i.get_height()), ha = 'center', va = 'center', xytext = (0, 10), textcoords = 'offset points')"
      ],
      "metadata": {
        "colab": {
          "base_uri": "https://localhost:8080/",
          "height": 461
        },
        "id": "t0IhJlnHcyZG",
        "outputId": "869ba561-a67c-4197-fd61-3d06ce610868"
      },
      "execution_count": 45,
      "outputs": [
        {
          "output_type": "display_data",
          "data": {
            "text/plain": [
              "<Figure size 1080x504 with 1 Axes>"
            ],
            "image/png": "[encoded data removed]"
          },
          "metadata": {
            "needs_background": "light"
          }
        }
      ]
    },
    {
      "cell_type": "markdown",
      "source": [
        "From above countplot:-\n",
        "\n",
        "*   Total season of tv shows is upto 16.\n",
        "*   Most of the season of tv shows is one This might mean that the majority of TV shows has only recently begun, and that further seasons are on the way.\n",
        "\n",
        "*   There are very few TV shows that have more than 8 seasons."
      ],
      "metadata": {
        "id": "yhAAgu5qeDbl"
      }
    },
    {
      "cell_type": "markdown",
      "source": [
        "#### Chart-4"
      ],
      "metadata": {
        "id": "VntZ9KOOS4qZ"
      }
    },
    {
      "cell_type": "markdown",
      "source": [
        "Here we use distplot\n",
        "\n",
        "We use a displot (also known as a distribution plot) to represent data in histogram form. It is a univariant set of collected data, which means the data distribution of one variable will be shown against another variable and it represents the overall distribution of continuous data variables."
      ],
      "metadata": {
        "id": "UbNV4x43g4Ty"
      }
    },
    {
      "cell_type": "code",
      "source": [
        "# Length distribution of movies\n",
        "movie_df = dataset[dataset['type']=='Movie']\n",
        "\n",
        "plt.figure(figsize=(15, 7))\n",
        "\n",
        "sns.distplot(movie_df['duration'], bins=30,color='Blue').set(ylabel=None)\n",
        "\n",
        "plt.title('Length distribution of movies', fontsize=16,fontweight=\"bold\")\n",
        "plt.xlabel('Duration', fontsize=14)\n",
        "plt.show()"
      ],
      "metadata": {
        "colab": {
          "base_uri": "https://localhost:8080/",
          "height": 464
        },
        "id": "FkZHWdsdf221",
        "outputId": "c04ec02d-99e9-4237-bf3e-19956dad75a9"
      },
      "execution_count": 46,
      "outputs": [
        {
          "output_type": "display_data",
          "data": {
            "text/plain": [
              "<Figure size 1080x504 with 1 Axes>"
            ],
            "image/png": "[encoded data removed]"
          },
          "metadata": {
            "needs_background": "light"
          }
        }
      ]
    },
    {
      "cell_type": "code",
      "source": [
        "# Movie statistics\n",
        "dataset[dataset['type']== 'Movie'].duration.describe()"
      ],
      "metadata": {
        "colab": {
          "base_uri": "https://localhost:8080/"
        },
        "id": "6fbehxwXgYsK",
        "outputId": "ea9332e6-616e-4fa7-8187-ee456bc4e7c2"
      },
      "execution_count": 47,
      "outputs": [
        {
          "output_type": "execute_result",
          "data": {
            "text/plain": [
              "count    5377.000000\n",
              "mean       99.307978\n",
              "std        28.530881\n",
              "min         3.000000\n",
              "25%        86.000000\n",
              "50%        98.000000\n",
              "75%       114.000000\n",
              "max       312.000000\n",
              "Name: duration, dtype: float64"
            ]
          },
          "metadata": {},
          "execution_count": 47
        }
      ]
    },
    {
      "cell_type": "markdown",
      "source": [
        "From above distplot:-\n",
        "\n",
        "*   The length of a movie may range from 3 min to 312 minutes.\n",
        "*   Most of the movie length between 50 to 150 min and there are very less movies hows length is above 200 min hence the distribution is almost normally distributed."
      ],
      "metadata": {
        "id": "VsP54Vi8hOZD"
      }
    },
    {
      "cell_type": "markdown",
      "source": [
        "#### Chart-5"
      ],
      "metadata": {
        "id": "SMY52zRXTGv3"
      }
    },
    {
      "cell_type": "markdown",
      "source": [
        "Here we use bar plot\n",
        "\n",
        "A bar plot shows catergorical data as rectangular bars with the height of bars proportional to the value they represent. It is often used to compare between values of different categories in the data."
      ],
      "metadata": {
        "id": "3hKZhGCzEpZb"
      }
    },
    {
      "cell_type": "code",
      "source": [
        "# Top 10 genre for movies\n",
        "plt.figure(figsize=(15,6))\n",
        "dataset[dataset['type']=='Movie'].listed_in.value_counts().nlargest(10).plot(kind='bar')\n",
        "plt.xlabel('Genres For Movies',fontsize=12)\n",
        "plt.ylabel('Number of Movies',fontsize=12)\n",
        "plt.title('Top 10 genres for movies')\n",
        "     "
      ],
      "metadata": {
        "colab": {
          "base_uri": "https://localhost:8080/",
          "height": 541
        },
        "id": "-MFpAidNEWpr",
        "outputId": "8cb53c80-1b0b-4033-9baf-1a6ba356b24f"
      },
      "execution_count": 48,
      "outputs": [
        {
          "output_type": "execute_result",
          "data": {
            "text/plain": [
              "Text(0.5, 1.0, 'Top 10 genres for movies')"
            ]
          },
          "metadata": {},
          "execution_count": 48
        },
        {
          "output_type": "display_data",
          "data": {
            "text/plain": [
              "<Figure size 1080x432 with 1 Axes>"
            ],
            "image/png": "[encoded data removed]"
          },
          "metadata": {
            "needs_background": "light"
          }
        }
      ]
    },
    {
      "cell_type": "markdown",
      "source": [
        "From above bar plot of top ten genres movies:-\n",
        "\n",
        "*   Drama genre have the highest number of movies where comedies genre have second highest and documentries genre have third highest in dataset.\n",
        "*   Calssic movies genre and movie genre have ninth & tenth position respectively in dataset.\n",
        "\n"
      ],
      "metadata": {
        "id": "PcUpqERzFYLP"
      }
    },
    {
      "cell_type": "markdown",
      "source": [
        "#### Chart-6"
      ],
      "metadata": {
        "id": "1JV5YuRYTIwT"
      }
    },
    {
      "cell_type": "markdown",
      "source": [
        "Here we use bar plot\n",
        "\n",
        "A bar plot shows catergorical data as rectangular bars with the height of bars proportional to the value they represent. It is often used to compare between values of different categories in the data."
      ],
      "metadata": {
        "id": "bOKPasjSIOX4"
      }
    },
    {
      "cell_type": "code",
      "source": [
        "# Top 10 genre for movies\n",
        "plt.figure(figsize=(15,6))\n",
        "dataset[dataset['type']=='TV Show'].listed_in.value_counts().nlargest(10).plot(kind='bar')\n",
        "plt.xlabel('Genres For TV Shows',fontsize=12)\n",
        "plt.ylabel('Number of TV Shows',fontsize=12)\n",
        "plt.title('Top 10 genres for TV Shows')"
      ],
      "metadata": {
        "colab": {
          "base_uri": "https://localhost:8080/",
          "height": 530
        },
        "id": "BQHBDl55IFbd",
        "outputId": "40d71bca-35ed-44e3-9d1b-4396ead91274"
      },
      "execution_count": 49,
      "outputs": [
        {
          "output_type": "execute_result",
          "data": {
            "text/plain": [
              "Text(0.5, 1.0, 'Top 10 genres for TV Shows')"
            ]
          },
          "metadata": {},
          "execution_count": 49
        },
        {
          "output_type": "display_data",
          "data": {
            "text/plain": [
              "<Figure size 1080x432 with 1 Axes>"
            ],
            "image/png": "[encoded data removed]"
          },
          "metadata": {
            "needs_background": "light"
          }
        }
      ]
    },
    {
      "cell_type": "markdown",
      "source": [
        "From above bar plot of top ten genres of TV Shows:-\n",
        "\n",
        "*   International genre have the highest number of TV Shows where crime genre have second highest and kids genre have third highest in dataset.\n",
        "*   Dramas genre and action&adventure genre have ninth & tenth position respectively in dataset.\n",
        "\n"
      ],
      "metadata": {
        "id": "FU8XNGSgIRHO"
      }
    },
    {
      "cell_type": "markdown",
      "source": [
        "#### Chart-7"
      ],
      "metadata": {
        "id": "WhPqZJ9ATJ9V"
      }
    },
    {
      "cell_type": "markdown",
      "source": [
        "Here we use bar plot\n",
        "\n",
        "A bar plot shows catergorical data as rectangular bars with the height of bars proportional to the value they represent. It is often used to compare between values of different categories in the data."
      ],
      "metadata": {
        "id": "0rVailM8KUcU"
      }
    },
    {
      "cell_type": "code",
      "source": [
        "# Top 10 movie directors\n",
        "plt.figure(figsize=(15,6))\n",
        "dataset[~(dataset['director']=='Unknown') & (dataset['type']=='Movie')].director.value_counts().nlargest(10).plot(kind='bar')\n",
        "plt.xlabel('Director Name For Movies',fontsize=12)\n",
        "plt.ylabel('Number of Movies',fontsize=12)\n",
        "plt.title('Top 10 movie directors')"
      ],
      "metadata": {
        "colab": {
          "base_uri": "https://localhost:8080/",
          "height": 532
        },
        "id": "1xErRvphJ37o",
        "outputId": "9a899751-7fdc-4fe2-8e1f-b0c60021f62b"
      },
      "execution_count": 50,
      "outputs": [
        {
          "output_type": "execute_result",
          "data": {
            "text/plain": [
              "Text(0.5, 1.0, 'Top 10 movie directors')"
            ]
          },
          "metadata": {},
          "execution_count": 50
        },
        {
          "output_type": "display_data",
          "data": {
            "text/plain": [
              "<Figure size 1080x432 with 1 Axes>"
            ],
            "image/png": "[encoded data removed]"
          },
          "metadata": {
            "needs_background": "light"
          }
        }
      ]
    },
    {
      "cell_type": "markdown",
      "source": [
        "From above bar plot of top ten Movie directors:-\n",
        "\n",
        "*   Raul Campos and Jan Suter have togather directed in 18 movies which is have the highest number of movies where Marcus Raboy have second highest and Jay Keras have third highest in dataset.\n",
        "*   David Dhawan directed movies and Johnnie To directed movies have ninth & tenth position respectively in dataset."
      ],
      "metadata": {
        "id": "1wIb88nmLEW5"
      }
    },
    {
      "cell_type": "markdown",
      "source": [
        "#### Chart-8"
      ],
      "metadata": {
        "id": "U6N63B5PTLEK"
      }
    },
    {
      "cell_type": "markdown",
      "source": [
        "Here we use horizontal bar plot\n",
        "\n",
        "A horizontal bar plot is a plot that presents quantitative data with rectangular bars with lengths proportional to the values that they represent. A bar plot shows comparisons among discrete categories. One axis of the plot shows the specific categories being compared, and the other axis represents a measured value."
      ],
      "metadata": {
        "id": "5aH9ucQMOLZ7"
      }
    },
    {
      "cell_type": "code",
      "source": [
        "# Top 10 TV Shows directors\n",
        "plt.figure(figsize=(15,6))\n",
        "dataset[~(dataset['director']=='Unknown') & (dataset['type']=='TV Show')].director.value_counts().nlargest(10).plot(kind='barh')\n",
        "plt.xlabel('Number of TV Shows',fontsize=12)\n",
        "plt.ylabel('Director Name For TV Shows',fontsize=12)\n",
        "plt.title('Top 10 TV Show directors')"
      ],
      "metadata": {
        "colab": {
          "base_uri": "https://localhost:8080/",
          "height": 425
        },
        "id": "5axLRlseN1U3",
        "outputId": "41272ebd-76b4-4509-a3dc-056cedfd84bf"
      },
      "execution_count": 51,
      "outputs": [
        {
          "output_type": "execute_result",
          "data": {
            "text/plain": [
              "Text(0.5, 1.0, 'Top 10 TV Show directors')"
            ]
          },
          "metadata": {},
          "execution_count": 51
        },
        {
          "output_type": "display_data",
          "data": {
            "text/plain": [
              "<Figure size 1080x432 with 1 Axes>"
            ],
            "image/png": "[encoded data removed]"
          },
          "metadata": {
            "needs_background": "light"
          }
        }
      ]
    },
    {
      "cell_type": "markdown",
      "source": [
        "From above bar plot of top ten TV Show directors:-\n",
        "\n",
        "*   Alastair Fothergill has directed three TV shows, the most of any director.\n",
        "*   Only six directors have directed more than one television show, remaining all directors direct only one TV shows.\n",
        "\n"
      ],
      "metadata": {
        "id": "HQrTVdx2Oruu"
      }
    },
    {
      "cell_type": "markdown",
      "source": [
        "#### Chart-9"
      ],
      "metadata": {
        "id": "8bzrTe-LTMlc"
      }
    },
    {
      "cell_type": "markdown",
      "source": [
        "Here we use bar plot\n",
        "\n",
        "A bar plot shows catergorical data as rectangular bars with the height of bars proportional to the value they represent. It is often used to compare between values of different categories in the data."
      ],
      "metadata": {
        "id": "SXKwdfpHPYqx"
      }
    },
    {
      "cell_type": "code",
      "source": [
        "# Top actors for movies\n",
        "plt.figure(figsize=(15,6))\n",
        "dataset[~(dataset['cast']=='Unknown') & (dataset['type']=='Movie')].cast.value_counts().nlargest(10).plot(kind='bar')\n",
        "plt.xlabel('Actor Name For Movies',fontsize=12)\n",
        "plt.ylabel('Number of Movies',fontsize=12)\n",
        "plt.title('Actors who have appeared in highest number of movies')"
      ],
      "metadata": {
        "colab": {
          "base_uri": "https://localhost:8080/",
          "height": 1000
        },
        "id": "BMYUmPWPPcqh",
        "outputId": "c7b7ea3f-29cc-4979-ff42-76d9eeebba4b"
      },
      "execution_count": 52,
      "outputs": [
        {
          "output_type": "execute_result",
          "data": {
            "text/plain": [
              "Text(0.5, 1.0, 'Actors who have appeared in highest number of movies')"
            ]
          },
          "metadata": {},
          "execution_count": 52
        },
        {
          "output_type": "display_data",
          "data": {
            "text/plain": [
              "<Figure size 1080x432 with 1 Axes>"
            ],
            "image/png": "[encoded data removed]"
          },
          "metadata": {
            "needs_background": "light"
          }
        }
      ]
    },
    {
      "cell_type": "markdown",
      "source": [
        "From above bar plot of top ten Actor movies:-\n",
        "\n",
        "*   Top one actor in movies are Samuel West who appeared in 10 movies and second highest actor are jeff Dunham who appeared in 7 movies and third highest actor of movies are Craig Sechler and Kevin Hart who appeared in 6 movies equally."
      ],
      "metadata": {
        "id": "7KCRcDLWQ6__"
      }
    },
    {
      "cell_type": "markdown",
      "source": [
        "#### Chart-9"
      ],
      "metadata": {
        "id": "0V7RmYIpTDFZ"
      }
    },
    {
      "cell_type": "code",
      "source": [
        "# Top actors for TV Shows\n",
        "plt.figure(figsize=(15,6))\n",
        "dataset[~(dataset['cast']=='Unknown') & (dataset['type']=='TV Show')].cast.value_counts().nlargest(10).plot(kind='barh')\n",
        "plt.xlabel('Number of TV Shows',fontsize=12)\n",
        "plt.ylabel('Actor Name For TV Shows',fontsize=12)\n",
        "plt.title('Actors who have appeared in highest number of TV Shows')"
      ],
      "metadata": {
        "colab": {
          "base_uri": "https://localhost:8080/",
          "height": 425
        },
        "id": "pgQDg9ipStRG",
        "outputId": "118a48ec-063b-4f05-d888-f2e1541ff485"
      },
      "execution_count": 53,
      "outputs": [
        {
          "output_type": "execute_result",
          "data": {
            "text/plain": [
              "Text(0.5, 1.0, 'Actors who have appeared in highest number of TV Shows')"
            ]
          },
          "metadata": {},
          "execution_count": 53
        },
        {
          "output_type": "display_data",
          "data": {
            "text/plain": [
              "<Figure size 1080x432 with 1 Axes>"
            ],
            "image/png": "[encoded data removed]"
          },
          "metadata": {
            "needs_background": "light"
          }
        }
      ]
    },
    {
      "cell_type": "markdown",
      "source": [
        "From above horizontal bar plot of top ten Actors TV Shows:-\n",
        "\n",
        "*   David Attenborough has appeared in 13 TV shows, followed by Michela Luci, Jamie Watson, Anna Claire Bartlam, Dante Zee, Eric Peterson with 4 TV shows.\n",
        "*   remaining actors from third to tenth position have equally appeared 2 Tv Shows."
      ],
      "metadata": {
        "id": "52JELO9qTvFb"
      }
    },
    {
      "cell_type": "markdown",
      "metadata": {
        "id": "1e2_U_7qjLLO"
      },
      "source": [
        "### **3. Multivariate Analysis**"
      ]
    },
    {
      "cell_type": "markdown",
      "metadata": {
        "id": "3pQuO3HqjoDB"
      },
      "source": [
        "Multivariate analysis (MVA) involves evaluating multiple variables (more than two) to identify any possible association among them. \n",
        "\n"
      ]
    },
    {
      "cell_type": "markdown",
      "metadata": {
        "id": "CDcqutC-kMkj"
      },
      "source": [
        "#### 1. Correlation Heatmap\n",
        "\n"
      ]
    },
    {
      "cell_type": "markdown",
      "metadata": {
        "id": "k4pnZbTlky6Z"
      },
      "source": [
        "Here we use heatmap for Multivariate Analysis \n",
        "\n",
        "What is Heatmap:-\n",
        "\n",
        "A heat map is a two-dimensional representation of data in which values are represented by colors. A simple heat map provides an immediate visual summary of information. More elaborate heat maps allow the viewer to understand complex data sets."
      ]
    },
    {
      "cell_type": "code",
      "source": [
        "dataset['principal_country'] = dataset['country'].apply(lambda x: x.split(\",\")[0])\n",
        "dataset['principal_country'].head()\n",
        "\n",
        "country_order = dataset['principal_country'].value_counts()[:11].index\n",
        "content_data = dataset[['type', 'principal_country']].groupby('principal_country')['type'].value_counts().unstack().loc[country_order]\n",
        "content_data['sum'] = content_data.sum(axis=1)\n",
        "content_data_ratio = (content_data.T / content_data['sum']).T[['Movie', 'TV Show']].sort_values(by='Movie',ascending=False)[::-1]\n",
        "     "
      ],
      "metadata": {
        "id": "gtfr_zzVbVRP"
      },
      "execution_count": 54,
      "outputs": []
    },
    {
      "cell_type": "code",
      "source": [
        "dataset['count'] = 1\n",
        "data = dataset.groupby('principal_country')[['principal_country','count']].sum().sort_values(by='count',ascending=False).reset_index()[:10]\n",
        "data = data['principal_country']\n",
        "\n",
        "Flix_df_heatmap = dataset.loc[dataset['principal_country'].isin(data)]\n",
        "Flix_df_heatmap = pd.crosstab(Flix_df_heatmap['principal_country'], Flix_df_heatmap['rating'],normalize = \"index\").T\n",
        "Flix_df_heatmap\n",
        "     "
      ],
      "metadata": {
        "colab": {
          "base_uri": "https://localhost:8080/",
          "height": 237
        },
        "id": "IDQpmZIfbfeI",
        "outputId": "edca9234-4e46-4588-8664-2e308aa45f07"
      },
      "execution_count": 55,
      "outputs": [
        {
          "output_type": "execute_result",
          "data": {
            "text/plain": [
              "principal_country    Canada    France     India     Japan    Mexico  \\\n",
              "rating                                                                \n",
              "Adults             0.467181  0.627551  0.259414  0.368644  0.764228   \n",
              "Kids               0.150579  0.086735  0.015690  0.008475  0.016260   \n",
              "Older Kids         0.220077  0.112245  0.163180  0.275424  0.089431   \n",
              "Teens              0.027027  0.030612  0.004184  0.012712  0.016260   \n",
              "Young Adults       0.135135  0.142857  0.557531  0.334746  0.113821   \n",
              "\n",
              "principal_country  South Korea     Spain  United Kingdom  United States  \\\n",
              "rating                                                                    \n",
              "Adults                0.463918  0.797619        0.526042       0.489051   \n",
              "Kids                  0.046392  0.035714        0.078125       0.074731   \n",
              "Older Kids            0.123711  0.053571        0.184028       0.196038   \n",
              "Teens                 0.000000  0.017857        0.071181       0.098366   \n",
              "Young Adults          0.365979  0.095238        0.140625       0.141814   \n",
              "\n",
              "principal_country   Unknown  \n",
              "rating                       \n",
              "Adults             0.320158  \n",
              "Kids               0.169960  \n",
              "Older Kids         0.235178  \n",
              "Teens              0.005929  \n",
              "Young Adults       0.268775  "
            ],
            "text/html": [
              "\n",
              "  <div id=\"df-b1877426-9a84-4e82-ad47-519a0570e606\">\n",
              "    <div class=\"colab-df-container\">\n",
              "      <div>\n",
              "<style scoped>\n",
              "    .dataframe tbody tr th:only-of-type {\n",
              "        vertical-align: middle;\n",
              "    }\n",
              "\n",
              "    .dataframe tbody tr th {\n",
              "        vertical-align: top;\n",
              "    }\n",
              "\n",
              "    .dataframe thead th {\n",
              "        text-align: right;\n",
              "    }\n",
              "</style>\n",
              "<table border=\"1\" class=\"dataframe\">\n",
              "  <thead>\n",
              "    <tr style=\"text-align: right;\">\n",
              "      <th>principal_country</th>\n",
              "      <th>Canada</th>\n",
              "      <th>France</th>\n",
              "      <th>India</th>\n",
              "      <th>Japan</th>\n",
              "      <th>Mexico</th>\n",
              "      <th>South Korea</th>\n",
              "      <th>Spain</th>\n",
              "      <th>United Kingdom</th>\n",
              "      <th>United States</th>\n",
              "      <th>Unknown</th>\n",
              "    </tr>\n",
              "    <tr>\n",
              "      <th>rating</th>\n",
              "      <th></th>\n",
              "      <th></th>\n",
              "      <th></th>\n",
              "      <th></th>\n",
              "      <th></th>\n",
              "      <th></th>\n",
              "      <th></th>\n",
              "      <th></th>\n",
              "      <th></th>\n",
              "      <th></th>\n",
              "    </tr>\n",
              "  </thead>\n",
              "  <tbody>\n",
              "    <tr>\n",
              "      <th>Adults</th>\n",
              "      <td>0.467181</td>\n",
              "      <td>0.627551</td>\n",
              "      <td>0.259414</td>\n",
              "      <td>0.368644</td>\n",
              "      <td>0.764228</td>\n",
              "      <td>0.463918</td>\n",
              "      <td>0.797619</td>\n",
              "      <td>0.526042</td>\n",
              "      <td>0.489051</td>\n",
              "      <td>0.320158</td>\n",
              "    </tr>\n",
              "    <tr>\n",
              "      <th>Kids</th>\n",
              "      <td>0.150579</td>\n",
              "      <td>0.086735</td>\n",
              "      <td>0.015690</td>\n",
              "      <td>0.008475</td>\n",
              "      <td>0.016260</td>\n",
              "      <td>0.046392</td>\n",
              "      <td>0.035714</td>\n",
              "      <td>0.078125</td>\n",
              "      <td>0.074731</td>\n",
              "      <td>0.169960</td>\n",
              "    </tr>\n",
              "    <tr>\n",
              "      <th>Older Kids</th>\n",
              "      <td>0.220077</td>\n",
              "      <td>0.112245</td>\n",
              "      <td>0.163180</td>\n",
              "      <td>0.275424</td>\n",
              "      <td>0.089431</td>\n",
              "      <td>0.123711</td>\n",
              "      <td>0.053571</td>\n",
              "      <td>0.184028</td>\n",
              "      <td>0.196038</td>\n",
              "      <td>0.235178</td>\n",
              "    </tr>\n",
              "    <tr>\n",
              "      <th>Teens</th>\n",
              "      <td>0.027027</td>\n",
              "      <td>0.030612</td>\n",
              "      <td>0.004184</td>\n",
              "      <td>0.012712</td>\n",
              "      <td>0.016260</td>\n",
              "      <td>0.000000</td>\n",
              "      <td>0.017857</td>\n",
              "      <td>0.071181</td>\n",
              "      <td>0.098366</td>\n",
              "      <td>0.005929</td>\n",
              "    </tr>\n",
              "    <tr>\n",
              "      <th>Young Adults</th>\n",
              "      <td>0.135135</td>\n",
              "      <td>0.142857</td>\n",
              "      <td>0.557531</td>\n",
              "      <td>0.334746</td>\n",
              "      <td>0.113821</td>\n",
              "      <td>0.365979</td>\n",
              "      <td>0.095238</td>\n",
              "      <td>0.140625</td>\n",
              "      <td>0.141814</td>\n",
              "      <td>0.268775</td>\n",
              "    </tr>\n",
              "  </tbody>\n",
              "</table>\n",
              "</div>\n",
              "      <button class=\"colab-df-convert\" onclick=\"convertToInteractive('df-b1877426-9a84-4e82-ad47-519a0570e606')\"\n",
              "              title=\"Convert this dataframe to an interactive table.\"\n",
              "              style=\"display:none;\">\n",
              "        \n",
              "  <svg xmlns=\"http://www.w3.org/2000/svg\" height=\"24px\"viewBox=\"0 0 24 24\"\n",
              "       width=\"24px\">\n",
              "    <path d=\"M0 0h24v24H0V0z\" fill=\"none\"/>\n",
              "    <path d=\"M18.56 5.44l.94 2.06.94-2.06 2.06-.94-2.06-.94-.94-2.06-.94 2.06-2.06.94zm-11 1L8.5 8.5l.94-2.06 2.06-.94-2.06-.94L8.5 2.5l-.94 2.06-2.06.94zm10 10l.94 2.06.94-2.06 2.06-.94-2.06-.94-.94-2.06-.94 2.06-2.06.94z\"/><path d=\"M17.41 7.96l-1.37-1.37c-.4-.4-.92-.59-1.43-.59-.52 0-1.04.2-1.43.59L10.3 9.45l-7.72 7.72c-.78.78-.78 2.05 0 2.83L4 21.41c.39.39.9.59 1.41.59.51 0 1.02-.2 1.41-.59l7.78-7.78 2.81-2.81c.8-.78.8-2.07 0-2.86zM5.41 20L4 18.59l7.72-7.72 1.47 1.35L5.41 20z\"/>\n",
              "  </svg>\n",
              "      </button>\n",
              "      \n",
              "  <style>\n",
              "    .colab-df-container {\n",
              "      display:flex;\n",
              "      flex-wrap:wrap;\n",
              "      gap: 12px;\n",
              "    }\n",
              "\n",
              "    .colab-df-convert {\n",
              "      background-color: #E8F0FE;\n",
              "      border: none;\n",
              "      border-radius: 50%;\n",
              "      cursor: pointer;\n",
              "      display: none;\n",
              "      fill: #1967D2;\n",
              "      height: 32px;\n",
              "      padding: 0 0 0 0;\n",
              "      width: 32px;\n",
              "    }\n",
              "\n",
              "    .colab-df-convert:hover {\n",
              "      background-color: #E2EBFA;\n",
              "      box-shadow: 0px 1px 2px rgba(60, 64, 67, 0.3), 0px 1px 3px 1px rgba(60, 64, 67, 0.15);\n",
              "      fill: #174EA6;\n",
              "    }\n",
              "\n",
              "    [theme=dark] .colab-df-convert {\n",
              "      background-color: #3B4455;\n",
              "      fill: #D2E3FC;\n",
              "    }\n",
              "\n",
              "    [theme=dark] .colab-df-convert:hover {\n",
              "      background-color: #434B5C;\n",
              "      box-shadow: 0px 1px 3px 1px rgba(0, 0, 0, 0.15);\n",
              "      filter: drop-shadow(0px 1px 2px rgba(0, 0, 0, 0.3));\n",
              "      fill: #FFFFFF;\n",
              "    }\n",
              "  </style>\n",
              "\n",
              "      <script>\n",
              "        const buttonEl =\n",
              "          document.querySelector('#df-b1877426-9a84-4e82-ad47-519a0570e606 button.colab-df-convert');\n",
              "        buttonEl.style.display =\n",
              "          google.colab.kernel.accessAllowed ? 'block' : 'none';\n",
              "\n",
              "        async function convertToInteractive(key) {\n",
              "          const element = document.querySelector('#df-b1877426-9a84-4e82-ad47-519a0570e606');\n",
              "          const dataTable =\n",
              "            await google.colab.kernel.invokeFunction('convertToInteractive',\n",
              "                                                     [key], {});\n",
              "          if (!dataTable) return;\n",
              "\n",
              "          const docLinkHtml = 'Like what you see? Visit the ' +\n",
              "            '<a target=\"_blank\" href=https://colab.research.google.com/notebooks/data_table.ipynb>data table notebook</a>'\n",
              "            + ' to learn more about interactive tables.';\n",
              "          element.innerHTML = '';\n",
              "          dataTable['output_type'] = 'display_data';\n",
              "          await google.colab.output.renderOutput(dataTable, element);\n",
              "          const docLink = document.createElement('div');\n",
              "          docLink.innerHTML = docLinkHtml;\n",
              "          element.appendChild(docLink);\n",
              "        }\n",
              "      </script>\n",
              "    </div>\n",
              "  </div>\n",
              "  "
            ]
          },
          "metadata": {},
          "execution_count": 55
        }
      ]
    },
    {
      "cell_type": "code",
      "source": [
        "# Plotting the heatmap\n",
        "fig, ax = plt.subplots(1, 1, figsize=(12, 12))\n",
        "country_order2 = ['United States', 'India', 'United Kingdom', 'Canada', 'Japan', 'France', 'South Korea', 'Spain',\n",
        "       'Mexico']\n",
        "\n",
        "age_order = ['Adults', 'Teens', 'Young Adults', 'Older Kids', 'Kids']\n",
        "\n",
        "sns.heatmap(Flix_df_heatmap.loc[age_order,country_order2],cmap=\"jet\",square=True, linewidth=2.5,cbar=False,\n",
        "            annot=True,fmt='2.0%',vmax=.6,vmin=0.05,ax=ax,annot_kws={\"fontsize\":15})\n",
        "\n",
        "ax.spines['top'].set_visible(True)\n",
        "\n",
        "fig.text(.76,.765, 'Target ages proportion of total content by country', fontweight='bold', fontfamily='serif', fontsize=15,ha='right')   \n",
        "\n",
        "ax.set_yticklabels(ax.get_yticklabels(), fontfamily='serif', rotation = 0, fontsize=11)\n",
        "ax.set_xticklabels(ax.get_xticklabels(), fontfamily='serif', rotation=90, fontsize=11)\n",
        "\n",
        "ax.set_ylabel('')    \n",
        "ax.set_xlabel('')\n",
        "ax.tick_params(axis=u'both', which=u'both',length=0)\n",
        "plt.tight_layout()\n",
        "plt.show()\n",
        "     \n"
      ],
      "metadata": {
        "colab": {
          "base_uri": "https://localhost:8080/",
          "height": 578
        },
        "id": "hohGZEhRahU6",
        "outputId": "e5390825-42a7-4cd1-c9b0-09276eb920e7"
      },
      "execution_count": 56,
      "outputs": [
        {
          "output_type": "display_data",
          "data": {
            "text/plain": [
              "<Figure size 864x864 with 1 Axes>"
            ],
            "image/png": "[encoded data removed]"
          },
          "metadata": {
            "needs_background": "light"
          }
        }
      ]
    },
    {
      "cell_type": "markdown",
      "metadata": {
        "id": "vDKNHycLk7LG"
      },
      "source": [
        "From above Heatmap we can see that:-\n",
        "\n",
        "*   Most of the country targeted their customer in adult age category then after secondly young adults targeted.\n",
        "*   Most of the country less targeted to teens age category in that India & spain have 0% targeted."
      ]
    },
    {
      "cell_type": "markdown",
      "source": [
        "### **4. Wordcloud**"
      ],
      "metadata": {
        "id": "O9KF9q-vVsio"
      }
    },
    {
      "cell_type": "markdown",
      "source": [
        "Word clouds or tag clouds are graphical representations of word frequency that give greater prominence to words that appear more frequently in a source text. The larger the word in the visual the more common the word was in the document(s)."
      ],
      "metadata": {
        "id": "4V9OlPv1WTAN"
      }
    },
    {
      "cell_type": "code",
      "source": [
        "# Building a wordcloud for the movie descriptions\n",
        "comment_words = ''\n",
        "stopwords = set(STOPWORDS)\n",
        "\n",
        "# iterate through the csv file\n",
        "for val in dataset.description.values:\n",
        "    \n",
        "    # typecaste each val to string\n",
        "    val = str(val)\n",
        "\n",
        "    # split the value\n",
        "    tokens = val.split()\n",
        "    \n",
        "    # Converts each token into lowercase\n",
        "    for i in range(len(tokens)):\n",
        "        tokens[i] = tokens[i].lower()\n",
        "    \n",
        "    comment_words += \" \".join(tokens)+\" \"\n",
        "\n",
        "wordcloud = WordCloud(width = 700, height = 700,\n",
        "                background_color ='white',\n",
        "                stopwords = stopwords,\n",
        "                min_font_size = 10).generate(comment_words)\n",
        "\n",
        "\n",
        "# plot the WordCloud image                      \n",
        "plt.figure(figsize = (10,5), facecolor = None)\n",
        "plt.imshow(wordcloud)\n",
        "plt.axis(\"off\")\n",
        "plt.tight_layout(pad = 0)"
      ],
      "metadata": {
        "colab": {
          "base_uri": "https://localhost:8080/",
          "height": 391
        },
        "id": "AljzToQiVvGA",
        "outputId": "056d3638-4106-4720-ed2e-4b002dbffb6c"
      },
      "execution_count": 59,
      "outputs": [
        {
          "output_type": "display_data",
          "data": {
            "text/plain": [
              "<Figure size 720x360 with 1 Axes>"
            ],
            "image/png": "[encoded data removed]"
          },
          "metadata": {
            "needs_background": "light"
          }
        }
      ]
    },
    {
      "cell_type": "markdown",
      "source": [
        "From above wordcloud:-\n",
        "\n",
        "*   Some keywords that come in many times in Netflix show descriptions: life, family, find, new, love, young, world, group, death, man, woman, murder, son, girl, documentary, secret.\n",
        "\n"
      ],
      "metadata": {
        "id": "zYY3qKD8WVBv"
      }
    },
    {
      "cell_type": "markdown",
      "source": [
        "#### **Hurray We have successfully completed our EDA part.**"
      ],
      "metadata": {
        "id": "e08PR5p6c7i_"
      }
    },
    {
      "cell_type": "markdown",
      "metadata": {
        "id": "z5rQ_OO5EqJp"
      },
      "source": [
        "## **5. Feature Engineering & Data Pre-processing**"
      ]
    },
    {
      "cell_type": "markdown",
      "metadata": {
        "id": "pHpBddAjgaoR"
      },
      "source": [
        "Feature engineering is the pre-processing step of machine learning, which is used to transform raw data into features that can be used for creating a predictive model using Machine learning or statistical Modelling. Feature engineering in machine learning aims to improve the performance of models.\n",
        "\n",
        "Data preprocessing is a process of preparing the raw data and making it suitable for a machine learning model. It is the first and crucial step while creating a machine learning model.\n",
        "\n"
      ]
    },
    {
      "cell_type": "markdown",
      "source": [
        "### **Clustering New Attributes**"
      ],
      "metadata": {
        "id": "AWQuxX6qcyVf"
      }
    },
    {
      "cell_type": "markdown",
      "source": [
        "We will cluster the shows on Netflix based on the following attributes:-\n",
        "\n",
        "*   Director\n",
        "\n",
        "*   Cast\n",
        "\n",
        "*   Country\n",
        "*   Listed in (genres)\n",
        "\n",
        "\n",
        "*   Description"
      ],
      "metadata": {
        "id": "b06bVXiOccZF"
      }
    },
    {
      "cell_type": "code",
      "source": [
        "# Using the model_df dataset for clustering since\n",
        "# it does not require handling missing values\n",
        "df = dataset.copy()  "
      ],
      "metadata": {
        "id": "hrL-iKZbYwTf"
      },
      "execution_count": 60,
      "outputs": []
    },
    {
      "cell_type": "code",
      "source": [
        "df.fillna('',inplace=True)"
      ],
      "metadata": {
        "id": "ICYYz38tYwQO"
      },
      "execution_count": 61,
      "outputs": []
    },
    {
      "cell_type": "code",
      "source": [
        "# Combining all the clustering attributes into a single column\n",
        "\n",
        "df['clustering'] = (df['director'] + ' ' + \n",
        "                                df['cast'] +' ' + \n",
        "                                df['country'] +' ' + \n",
        "                                df['listed_in'] +' ' + \n",
        "                                df['description'])\n",
        "     "
      ],
      "metadata": {
        "id": "N1NzOOjOa3vK"
      },
      "execution_count": 62,
      "outputs": []
    },
    {
      "cell_type": "code",
      "source": [
        "# Select the 100 number of clusters for the dataset \n",
        "df['clustering'][100]"
      ],
      "metadata": {
        "colab": {
          "base_uri": "https://localhost:8080/",
          "height": 54
        },
        "id": "CKRyA7s8a3sm",
        "outputId": "0f3538ee-b3a4-44c8-a8a1-9d94320e8428"
      },
      "execution_count": 63,
      "outputs": [
        {
          "output_type": "execute_result",
          "data": {
            "text/plain": [
              "\"Rajkumar Hirani Aamir Khan, Kareena Kapoor, Madhavan, Sharman Joshi, Omi Vaidya, Boman Irani, Mona Singh, Javed Jaffrey India Comedies While attending one of India's premier colleges, three miserable engineering students and best friends struggle to beat the school's draconian system.\""
            ],
            "application/vnd.google.colaboratory.intrinsic+json": {
              "type": "string"
            }
          },
          "metadata": {},
          "execution_count": 63
        }
      ]
    },
    {
      "cell_type": "markdown",
      "source": [
        "### **Remove stopwords and lower case**"
      ],
      "metadata": {
        "id": "ZYmrDk5FcBQG"
      }
    },
    {
      "cell_type": "markdown",
      "source": [
        "Removing stop words and lowercasing words are common pre-processing steps in natural language processing (NLP) tasks.\n",
        "\n",
        "**Stop words** are words that are commonly used in a language but do not convey much meaning on their own, such as \"a,\" \"an,\" \"the,\" and \"is.\" These words can add noise to the data and can sometimes affect the performance of NLP models, so they are often removed as a pre-processing step.\n",
        "\n",
        "**Lowercasing words** is the process of converting all the words in a text to lowercase. This is a common pre-processing step in NLP tasks, as it can be useful for a few reasons:-\n",
        "\n",
        "*   Case differences can be ignored: By lowercasing the words, you can treat words with different capitalization as the same word, which can be useful in tasks such as information retrieval or text classification where case differences are not important.\n",
        "*   Vocabulary size is reduced: Lowercasing the words can also reduce the size of the vocabulary, which can make it easier to work with larger texts or texts in languages with a high number of inflected forms.\n",
        "\n"
      ],
      "metadata": {
        "id": "1bVcHo1zdVG5"
      }
    },
    {
      "cell_type": "code",
      "source": [
        "# extracting the stopwords from nltk library\n",
        "import nltk\n",
        "from nltk.corpus import stopwords\n",
        "\n",
        "stop_words = stopwords.words('english')\n",
        "\n",
        "# displaying the stopwords\n",
        "np.array(stop_words)"
      ],
      "metadata": {
        "colab": {
          "base_uri": "https://localhost:8080/"
        },
        "id": "UULrfj5CdwEU",
        "outputId": "d24a1616-6334-4676-c27f-44721980b36f"
      },
      "execution_count": 64,
      "outputs": [
        {
          "output_type": "execute_result",
          "data": {
            "text/plain": [
              "array(['i', 'me', 'my', 'myself', 'we', 'our', 'ours', 'ourselves', 'you',\n",
              "       \"you're\", \"you've\", \"you'll\", \"you'd\", 'your', 'yours', 'yourself',\n",
              "       'yourselves', 'he', 'him', 'his', 'himself', 'she', \"she's\", 'her',\n",
              "       'hers', 'herself', 'it', \"it's\", 'its', 'itself', 'they', 'them',\n",
              "       'their', 'theirs', 'themselves', 'what', 'which', 'who', 'whom',\n",
              "       'this', 'that', \"that'll\", 'these', 'those', 'am', 'is', 'are',\n",
              "       'was', 'were', 'be', 'been', 'being', 'have', 'has', 'had',\n",
              "       'having', 'do', 'does', 'did', 'doing', 'a', 'an', 'the', 'and',\n",
              "       'but', 'if', 'or', 'because', 'as', 'until', 'while', 'of', 'at',\n",
              "       'by', 'for', 'with', 'about', 'against', 'between', 'into',\n",
              "       'through', 'during', 'before', 'after', 'above', 'below', 'to',\n",
              "       'from', 'up', 'down', 'in', 'out', 'on', 'off', 'over', 'under',\n",
              "       'again', 'further', 'then', 'once', 'here', 'there', 'when',\n",
              "       'where', 'why', 'how', 'all', 'any', 'both', 'each', 'few', 'more',\n",
              "       'most', 'other', 'some', 'such', 'no', 'nor', 'not', 'only', 'own',\n",
              "       'same', 'so', 'than', 'too', 'very', 's', 't', 'can', 'will',\n",
              "       'just', 'don', \"don't\", 'should', \"should've\", 'now', 'd', 'll',\n",
              "       'm', 'o', 're', 've', 'y', 'ain', 'aren', \"aren't\", 'couldn',\n",
              "       \"couldn't\", 'didn', \"didn't\", 'doesn', \"doesn't\", 'hadn', \"hadn't\",\n",
              "       'hasn', \"hasn't\", 'haven', \"haven't\", 'isn', \"isn't\", 'ma',\n",
              "       'mightn', \"mightn't\", 'mustn', \"mustn't\", 'needn', \"needn't\",\n",
              "       'shan', \"shan't\", 'shouldn', \"shouldn't\", 'wasn', \"wasn't\",\n",
              "       'weren', \"weren't\", 'won', \"won't\", 'wouldn', \"wouldn't\"],\n",
              "      dtype='<U10')"
            ]
          },
          "metadata": {},
          "execution_count": 64
        }
      ]
    },
    {
      "cell_type": "code",
      "source": [
        "# function to remove stop words\n",
        "def stopwords(text):\n",
        "    '''a function for removing the stopword'''\n",
        "    # removing the stop words and lowercasing the selected words\n",
        "    text = [word.lower() for word in text.split() if word.lower() not in stop_words]\n",
        "    # joining the list of words with space separator\n",
        "    return \" \".join(text)"
      ],
      "metadata": {
        "id": "lhJ9e1Y9emLF"
      },
      "execution_count": 65,
      "outputs": []
    },
    {
      "cell_type": "code",
      "source": [
        "# Removing stop words\n",
        "df['clustering'] = df['clustering'].apply(stopwords)"
      ],
      "metadata": {
        "id": "LGtBBT28eley"
      },
      "execution_count": 66,
      "outputs": []
    },
    {
      "cell_type": "code",
      "source": [
        "# Select the 100 number of clusters for the dataset \n",
        "df['clustering'][100]"
      ],
      "metadata": {
        "colab": {
          "base_uri": "https://localhost:8080/",
          "height": 54
        },
        "id": "-yLFhkAyfJim",
        "outputId": "7f274715-e0c4-4baa-e5f4-8d5718b54eff"
      },
      "execution_count": 67,
      "outputs": [
        {
          "output_type": "execute_result",
          "data": {
            "text/plain": [
              "\"rajkumar hirani aamir khan, kareena kapoor, madhavan, sharman joshi, omi vaidya, boman irani, mona singh, javed jaffrey india comedies attending one india's premier colleges, three miserable engineering students best friends struggle beat school's draconian system.\""
            ],
            "application/vnd.google.colaboratory.intrinsic+json": {
              "type": "string"
            }
          },
          "metadata": {},
          "execution_count": 67
        }
      ]
    },
    {
      "cell_type": "markdown",
      "source": [
        "### **Removing non-ASCII characters**"
      ],
      "metadata": {
        "id": "hffGJ4tofuqv"
      }
    },
    {
      "cell_type": "markdown",
      "source": [
        "Non-ASCII characters are those that are not encoded in ASCII, such as Unicode, EBCDIC, etc. ASCII is limited to 128 characters.\n",
        "\n",
        "This approach uses a Regular Expression to remove the Non-ASCII characters from the string.\n",
        "\n",
        "Only characters that have values from zero to 127 are valid. (0x7F is 127 in hex)."
      ],
      "metadata": {
        "id": "t5cvFqPDgjHF"
      }
    },
    {
      "cell_type": "code",
      "source": [
        "# function to remove non-ascii characters\n",
        "\n",
        "def remove_non_ascii(words):\n",
        "    \"\"\"Function to remove non-ASCII characters\"\"\"\n",
        "    new_words = []\n",
        "    for word in words:\n",
        "        new_word = unicodedata.normalize('NFKD', word).encode('ascii', 'ignore').decode('utf-8', 'ignore')\n",
        "        new_words.append(new_word)\n",
        "    return new_words"
      ],
      "metadata": {
        "id": "Psi09iJNftMz"
      },
      "execution_count": 68,
      "outputs": []
    },
    {
      "cell_type": "code",
      "source": [
        "# remove non-ascii characters\n",
        "df['clustering'] = remove_non_ascii(df['clustering'])"
      ],
      "metadata": {
        "id": "k5mABEdgguQ8"
      },
      "execution_count": 70,
      "outputs": []
    },
    {
      "cell_type": "code",
      "source": [
        "# Select the 100 number of clusters for the dataset \n",
        "df['clustering'][100]"
      ],
      "metadata": {
        "colab": {
          "base_uri": "https://localhost:8080/",
          "height": 54
        },
        "id": "QsqI5yh4guM7",
        "outputId": "24011978-136b-4002-c513-6f92952c7a72"
      },
      "execution_count": 71,
      "outputs": [
        {
          "output_type": "execute_result",
          "data": {
            "text/plain": [
              "\"rajkumar hirani aamir khan, kareena kapoor, madhavan, sharman joshi, omi vaidya, boman irani, mona singh, javed jaffrey india comedies attending one india's premier colleges, three miserable engineering students best friends struggle beat school's draconian system.\""
            ],
            "application/vnd.google.colaboratory.intrinsic+json": {
              "type": "string"
            }
          },
          "metadata": {},
          "execution_count": 71
        }
      ]
    },
    {
      "cell_type": "markdown",
      "source": [
        "### **Remove punctuations**"
      ],
      "metadata": {
        "id": "bHgUYyQEhONI"
      }
    },
    {
      "cell_type": "markdown",
      "source": [
        "The punctuation removal process will help to treat each text equally.used to divide text into sentences, paragraphs and phrases\n",
        "\n",
        "Removing punctuation is a common pre-processing step in natural language processing (NLP) tasks. Punctuation marks like periods, commas, and exclamation points can add noise to the data and can sometimes be treated as separate tokens, which can affect the performance of NLP models."
      ],
      "metadata": {
        "id": "xNgS-ybxhepY"
      }
    },
    {
      "cell_type": "code",
      "source": [
        "# function to remove punctuations\n",
        "\n",
        "def remove_punctuation(text):\n",
        "    '''a function for removing punctuation'''\n",
        "    \n",
        "    # replacing the punctuations with no space, which in effect deletes the punctuation marks.\n",
        "    translator = str.maketrans('', '', string.punctuation)\n",
        "    # return the text stripped of punctuation marks\n",
        "    return text.translate(translator)"
      ],
      "metadata": {
        "id": "ishM2gi6iJ9k"
      },
      "execution_count": 72,
      "outputs": []
    },
    {
      "cell_type": "code",
      "source": [
        "# applying remove_punctuation function to Removing punctuation marks\n",
        "df['clustering'] = df['clustering'].apply(remove_punctuation)\n",
        "     "
      ],
      "metadata": {
        "id": "KoFENgCTiN3K"
      },
      "execution_count": 73,
      "outputs": []
    },
    {
      "cell_type": "code",
      "source": [
        "# Select the 100 number of clusters for the dataset \n",
        "df['clustering'][100]"
      ],
      "metadata": {
        "colab": {
          "base_uri": "https://localhost:8080/",
          "height": 54
        },
        "id": "wI4meXXqiNtf",
        "outputId": "d24f6eed-c7c6-42ff-9631-210889f3480a"
      },
      "execution_count": 74,
      "outputs": [
        {
          "output_type": "execute_result",
          "data": {
            "text/plain": [
              "'rajkumar hirani aamir khan kareena kapoor madhavan sharman joshi omi vaidya boman irani mona singh javed jaffrey india comedies attending one indias premier colleges three miserable engineering students best friends struggle beat schools draconian system'"
            ],
            "application/vnd.google.colaboratory.intrinsic+json": {
              "type": "string"
            }
          },
          "metadata": {},
          "execution_count": 74
        }
      ]
    },
    {
      "cell_type": "markdown",
      "source": [
        "### **Lemmatization**"
      ],
      "metadata": {
        "id": "xC6438uGoqZr"
      }
    },
    {
      "cell_type": "markdown",
      "source": [
        "Lemmatization is the process of grouping together the different inflected forms of a word so they can be analyzed as a single item.So it links words with similar meanings to one word.\n",
        "\n",
        "It takes into consideration the context of the word to determine which is the intended meaning the user is looking for. This process allows to decrease noise and speed up the user's task."
      ],
      "metadata": {
        "id": "BD-KiFYRo49x"
      }
    },
    {
      "cell_type": "code",
      "source": [
        "# function to lemmatize the corpus\n",
        "def lemmatize_verbs(words):\n",
        "    \"\"\"Lemmatize verbs in list of tokenized words\"\"\"\n",
        "    lemmatizer = WordNetLemmatizer()\n",
        "    lemmas = []\n",
        "    for word in words:\n",
        "        lemma = lemmatizer.lemmatize(word, pos='v')\n",
        "        lemmas.append(lemma)\n",
        "    return lemmas"
      ],
      "metadata": {
        "id": "y9BMMHQEophB"
      },
      "execution_count": 75,
      "outputs": []
    },
    {
      "cell_type": "code",
      "source": [
        "# Lemmatization\n",
        "df['clustering'] = lemmatize_verbs(df['clustering'])"
      ],
      "metadata": {
        "id": "6WK21UWUpUL1"
      },
      "execution_count": 76,
      "outputs": []
    },
    {
      "cell_type": "code",
      "source": [
        "# Select the 100 number of clusters for the dataset \n",
        "df['clustering'][100]"
      ],
      "metadata": {
        "colab": {
          "base_uri": "https://localhost:8080/",
          "height": 54
        },
        "id": "Up1FIJCFpUIB",
        "outputId": "f4c11303-d840-4430-b8c6-4fd1f9f6065d"
      },
      "execution_count": 77,
      "outputs": [
        {
          "output_type": "execute_result",
          "data": {
            "text/plain": [
              "'rajkumar hirani aamir khan kareena kapoor madhavan sharman joshi omi vaidya boman irani mona singh javed jaffrey india comedies attending one indias premier colleges three miserable engineering students best friends struggle beat schools draconian system'"
            ],
            "application/vnd.google.colaboratory.intrinsic+json": {
              "type": "string"
            }
          },
          "metadata": {},
          "execution_count": 77
        }
      ]
    },
    {
      "cell_type": "markdown",
      "source": [
        "### **Tokenization**"
      ],
      "metadata": {
        "id": "h2VOAV03p_eO"
      }
    },
    {
      "cell_type": "markdown",
      "source": [
        "Tokenization is splitting the input data into a sequence of meaningful parts e.g. pice data like a word, image patch, document sentence. Tokenization is cutting input data into meaningful parts that can be embedded into a vector space.\n",
        "\n",
        "okenization reduces risk from data breaches, helps foster trust with customers, minimizes red tape and drives technology behind popular payment services like mobile wallets. Best of all, businesses reap all these benefits today."
      ],
      "metadata": {
        "id": "d69KsU2lp8aX"
      }
    },
    {
      "cell_type": "code",
      "source": [
        "# Create a reference variable for Class TweetTokenizer\n",
        "tokenizer = TweetTokenizer()"
      ],
      "metadata": {
        "id": "EfU1TLO2qYFV"
      },
      "execution_count": 78,
      "outputs": []
    },
    {
      "cell_type": "code",
      "source": [
        "# Create text column based on dataset\n",
        "df['clustering'] = df['clustering'].apply(lambda x: tokenizer.tokenize(x))     "
      ],
      "metadata": {
        "id": "5v2A1qaSqYCv"
      },
      "execution_count": 79,
      "outputs": []
    },
    {
      "cell_type": "code",
      "source": [
        "# Select the 100 number of Tokenization for the dataset \n",
        "print(df['clustering'][100])"
      ],
      "metadata": {
        "colab": {
          "base_uri": "https://localhost:8080/"
        },
        "id": "na9JVpUmqmIv",
        "outputId": "c7d67086-f65a-4005-8ecb-8d6ee98a36f6"
      },
      "execution_count": 82,
      "outputs": [
        {
          "output_type": "stream",
          "name": "stdout",
          "text": [
            "['rajkumar', 'hirani', 'aamir', 'khan', 'kareena', 'kapoor', 'madhavan', 'sharman', 'joshi', 'omi', 'vaidya', 'boman', 'irani', 'mona', 'singh', 'javed', 'jaffrey', 'india', 'comedies', 'attending', 'one', 'indias', 'premier', 'colleges', 'three', 'miserable', 'engineering', 'students', 'best', 'friends', 'struggle', 'beat', 'schools', 'draconian', 'system']\n"
          ]
        }
      ]
    },
    {
      "cell_type": "markdown",
      "source": [
        "### **Text Vectorization**"
      ],
      "metadata": {
        "id": "7ZlwCvR9sAeq"
      }
    },
    {
      "cell_type": "markdown",
      "source": [
        "Word/Text vectorization is the process of representing words as numerical vectors. This is important in NLP tasks because most machine learning models expect numerical input and cannot work with raw text data directly. Word vectorization allows you to input the words into a machine learning model in a way that preserve the meaning and context of the words. Word vectorization can also be used to measure the similarity between words using vector arithmetic.\n",
        "\n",
        "*   We can vectorize the corpus using **TFIDF** vectorizer, where TFIDF stands for **Term Frequency Inverse Document Frequency.**\n",
        "*   TF(t) = (Number of times term t appears in a document) / (Total number of terms in the document).\n",
        "\n",
        "*   IDF(t) = log_e(Total number of documents / Number of documents with term t in it).\n",
        "\n",
        "\n",
        "\n"
      ],
      "metadata": {
        "id": "4ICjzhCwsGk0"
      }
    },
    {
      "cell_type": "code",
      "source": [
        "# clustering tokens saved in a variable\n",
        "clustering_vectors = df['clustering']"
      ],
      "metadata": {
        "id": "_NlYfsIGsCa3"
      },
      "execution_count": 83,
      "outputs": []
    },
    {
      "cell_type": "code",
      "source": [
        "# Tokenization\n",
        "def identity_tokenizer(text):\n",
        "    return text\n",
        "\n",
        "# Using TFIDF vectorizer to vectorize the corpus \n",
        "# max features = 20000 to prevent system from crashing\n",
        "tfidf = TfidfVectorizer(tokenizer=identity_tokenizer, stop_words='english', lowercase=False,max_features = 20000)    \n",
        "x = tfidf.fit_transform(clustering_vectors)"
      ],
      "metadata": {
        "id": "9RZAFMVYs88j"
      },
      "execution_count": 86,
      "outputs": []
    },
    {
      "cell_type": "code",
      "source": [
        "# Dataset Rows & Columns count\n",
        "x.shape"
      ],
      "metadata": {
        "colab": {
          "base_uri": "https://localhost:8080/"
        },
        "id": "zGU8PJhvtC9h",
        "outputId": "bdd614bc-58e0-42b0-cbca-620d5795ef14"
      },
      "execution_count": 87,
      "outputs": [
        {
          "output_type": "execute_result",
          "data": {
            "text/plain": [
              "(7777, 20000)"
            ]
          },
          "metadata": {},
          "execution_count": 87
        }
      ]
    },
    {
      "cell_type": "code",
      "source": [
        "# convert X into array form for clustering\n",
        "X = x.toarray()"
      ],
      "metadata": {
        "id": "w8IO_cDntPMY"
      },
      "execution_count": 88,
      "outputs": []
    },
    {
      "cell_type": "code",
      "source": [
        "# Check the matrix\n",
        "X"
      ],
      "metadata": {
        "colab": {
          "base_uri": "https://localhost:8080/"
        },
        "id": "W6qAqWQetPJo",
        "outputId": "0ade44a6-4e91-4592-d574-63f85f7830af"
      },
      "execution_count": 89,
      "outputs": [
        {
          "output_type": "execute_result",
          "data": {
            "text/plain": [
              "array([[0., 0., 0., ..., 0., 0., 0.],\n",
              "       [0., 0., 0., ..., 0., 0., 0.],\n",
              "       [0., 0., 0., ..., 0., 0., 0.],\n",
              "       ...,\n",
              "       [0., 0., 0., ..., 0., 0., 0.],\n",
              "       [0., 0., 0., ..., 0., 0., 0.],\n",
              "       [0., 0., 0., ..., 0., 0., 0.]])"
            ]
          },
          "metadata": {},
          "execution_count": 89
        }
      ]
    },
    {
      "cell_type": "markdown",
      "source": [
        "### **Dimensionality reduction using PCA**"
      ],
      "metadata": {
        "id": "DKvrksI_t2qe"
      }
    },
    {
      "cell_type": "markdown",
      "source": [
        "We can use PCA (Principal component Analysis) to reduce the dimensionality of data.\n",
        "\n",
        "Dimensionality reduction is the process of reducing the number of features or dimensions in a dataset while preserving as much information as possible. It is a common step in machine learning and data analysis, as high-dimensional datasets can be difficult to work with and can sometimes suffer from the curse of dimensionality."
      ],
      "metadata": {
        "id": "byZ90FCTt-9O"
      }
    },
    {
      "cell_type": "code",
      "source": [
        "# using PCA to reduce dimensionality\n",
        "pca = PCA(random_state=40)\n",
        "pca.fit(X)\n",
        "     "
      ],
      "metadata": {
        "id": "eK0ec9DjuzyG"
      },
      "execution_count": null,
      "outputs": []
    },
    {
      "cell_type": "code",
      "source": [
        "# Explained variance for different number of components\n",
        "plt.figure(figsize=(10,5))\n",
        "plt.plot(np.cumsum(pca.explained_variance_ratio_))\n",
        "plt.title('PCA - cumulative explained variance vs number of components',fontsize=15)\n",
        "plt.xlabel('number of components',fontsize=12)\n",
        "plt.ylabel('cumulative explained variance',fontsize=12)\n",
        "plt.axhline(y= 0.8, color='red', linestyle='--')\n",
        "plt.axvline(x= 4000, color='green', linestyle='--')\n",
        "plt.show()"
      ],
      "metadata": {
        "id": "hEBinPBNu6x3"
      },
      "execution_count": null,
      "outputs": []
    },
    {
      "cell_type": "markdown",
      "source": [
        "From above graph we can see that:-\n",
        "\n",
        "*   We find that 100% variance explained by about nearly 7800 components.\n",
        "*   There are almost 80% of the variance is explained just by 4000 components.\n",
        "\n"
      ],
      "metadata": {
        "id": "dK7bnysmvlrP"
      }
    },
    {
      "cell_type": "code",
      "source": [
        "# reducing the dimensions to 4000 using pca\n",
        "pca = PCA(n_components=4000,random_state=40)\n",
        "pca.fit(X)"
      ],
      "metadata": {
        "id": "zQTlarO9vmvz"
      },
      "execution_count": null,
      "outputs": []
    },
    {
      "cell_type": "code",
      "source": [
        "# transformed features\n",
        "x_pca = pca.transform(X)"
      ],
      "metadata": {
        "id": "cwiACnn3voLH"
      },
      "execution_count": null,
      "outputs": []
    },
    {
      "cell_type": "code",
      "source": [
        "# shape of transformed vectors\n",
        "x_pca.shape"
      ],
      "metadata": {
        "id": "i5E8zxgwvq3p"
      },
      "execution_count": null,
      "outputs": []
    },
    {
      "cell_type": "markdown",
      "metadata": {
        "id": "68yMNBaMEwS5"
      },
      "source": [
        "## **6. ML Model Implementation**"
      ]
    },
    {
      "cell_type": "markdown",
      "metadata": {
        "id": "HGZXDxlRpCxL"
      },
      "source": [
        "What is model in machine learning:-\n",
        "\n",
        "*   A machine learning model is a file that has been trained to recognize certain types of patterns. You train a model over a set of data, providing it an algorithm that it can use to reason over and learn from those data.\n",
        "\n",
        "While in every machine learning problem, it’s a good rule of thumb to try a variety of algorithms.\n",
        "\n",
        "\n",
        "\n"
      ]
    },
    {
      "cell_type": "markdown",
      "source": [
        "### **1. K-Means Clustering**"
      ],
      "metadata": {
        "id": "RUQWMmmr00Jf"
      }
    },
    {
      "cell_type": "markdown",
      "source": [
        "K-means clustering is an unsupervised machine learning algorithm that is used to divide a dataset into a specified number of clusters. It is called \"unsupervised\" because the algorithm does not use any labeled examples to learn about the data. Instead, it relies on the inherent structure of the data to group the samples into clusters.\n",
        "\n",
        "How It's Work?\n",
        "\n",
        "*   The k-means algorithm works by first selecting k initial \"centroids,\" or cluster centers, at random from the data.\n",
        "*   Then, it assigns each sample in the dataset to the nearest centroid, based on some distance metric like Euclidean distance.\n",
        "\n",
        "*   The algorithm then updates the centroids to be the mean of the samples in each cluster.\n",
        "*   teratively repeats the process of reassigning samples to the nearest centroids and updating the centroids until convergence.\n",
        "\n",
        "Visualizing the elbow curve and Silhouette score to decide on the optimal number of clusters for K-means clustering algorithm.\n",
        "\n",
        "\n",
        "\n"
      ],
      "metadata": {
        "id": "st4L54EJ07AK"
      }
    },
    {
      "cell_type": "code",
      "source": [
        "# Elbow method to find the optimal value of k\n",
        "wcss=[]\n",
        "for i in range(1,31):\n",
        "  kmeans = KMeans(n_clusters=i,init='k-means++',random_state=33)\n",
        "  kmeans.fit(x_pca)\n",
        "  wcss_iter = kmeans.inertia_\n",
        "  wcss.append(wcss_iter)\n",
        "\n",
        "number_clusters = range(1,31)\n",
        "plt.figure(figsize=(10,5))\n",
        "plt.plot(number_clusters,wcss)\n",
        "plt.title('The Elbow Method - KMeans clustering')\n",
        "plt.xlabel('Number of clusters')\n",
        "plt.ylabel('WCSS')"
      ],
      "metadata": {
        "id": "v_UpCTxc1bZT"
      },
      "execution_count": null,
      "outputs": []
    },
    {
      "cell_type": "code",
      "source": [
        "# Plotting Silhouette score for different number of clusters\n",
        "range_n_clusters = range(2,31)\n",
        "silhouette_avg = []\n",
        "for num_clusters in range_n_clusters:\n",
        "  # initialize kmeans\n",
        "  kmeans = KMeans(n_clusters=num_clusters,init='k-means++',random_state=33)\n",
        "  kmeans.fit(x_pca)\n",
        "  cluster_labels = kmeans.labels_\n",
        " \n",
        "  # silhouette score\n",
        "  silhouette_avg.append(silhouette_score(x_pca, cluster_labels))\n",
        "\n",
        "plt.figure(figsize=(10,5))\n",
        "plt.plot(range_n_clusters,silhouette_avg)\n",
        "plt.xlabel('Values of K') \n",
        "plt.ylabel('Silhouette score')\n",
        "plt.title('Silhouette analysis For Optimal k - KMeans clustering')\n",
        "plt.show()"
      ],
      "metadata": {
        "id": "eXBYLlhc1yeN"
      },
      "execution_count": null,
      "outputs": []
    },
    {
      "cell_type": "code",
      "source": [
        "# Clustering the data into 19 clusters\n",
        "kmeans = KMeans(n_clusters=6,init='k-means++',random_state=40)\n",
        "kmeans.fit(x_pca)\n",
        "     "
      ],
      "metadata": {
        "id": "Nz6CQSg016EY"
      },
      "execution_count": null,
      "outputs": []
    },
    {
      "cell_type": "code",
      "source": [
        "# Adding a kmeans cluster number attribute\n",
        "df['kmeans_cluster'] = kmeans.labels_"
      ],
      "metadata": {
        "id": "1t6o3fs317LS"
      },
      "execution_count": null,
      "outputs": []
    },
    {
      "cell_type": "code",
      "source": [
        "# Evaluation metrics - distortion, Silhouette score\n",
        "kmeans_distortion = kmeans.inertia_\n",
        "kmeans_silhouette_score = silhouette_score(x_pca, kmeans.labels_)\n",
        "\n",
        "print((kmeans_distortion,kmeans_silhouette_score))"
      ],
      "metadata": {
        "id": "0HD3LzOf2BhP"
      },
      "execution_count": null,
      "outputs": []
    },
    {
      "cell_type": "code",
      "source": [
        "# Number of movies and tv shows in each cluster\n",
        "plt.figure(figsize=(10,5))\n",
        "q = sns.countplot(x='kmeans_cluster',data=df, hue='type')\n",
        "plt.title('Number of movies and TV shows in each cluster - Kmeans Clustering')\n",
        "for i in q.patches:\n",
        "  q.annotate(format(i.get_height(), '.0f'), (i.get_x() + i.get_width() / 2., i.get_height()), ha = 'center', va = 'center', xytext = (0, 10), textcoords = 'offset points')"
      ],
      "metadata": {
        "id": "lUG8r-tm2cMW"
      },
      "execution_count": null,
      "outputs": []
    },
    {
      "cell_type": "markdown",
      "source": [
        "### **2. Hierarchical Clustering**"
      ],
      "metadata": {
        "id": "ZGEvAq2P3Mx1"
      }
    },
    {
      "cell_type": "markdown",
      "source": [
        "Building clusters using the Agglomerative (hierarchical) clustering algorithm.\n",
        "\n",
        "Agglomerative hierarchical clustering is a method of clustering that is used to build a hierarchy of clusters. It is a bottom-up approach, where each sample is initially treated as a single-sample cluster and clusters are merged together as they are deemed similar.\n",
        "\n",
        "How it's work?\n",
        "\n",
        "*   The algorithm starts by calculating the distance between all pairs of samples and storing them in a distance matrix.\n",
        "*   Then selects the two closest clusters and merges them into a single cluster.\n",
        "\n",
        "*   Above process is repeated until all the samples are in the same cluster.\n",
        "\n",
        "The resulting clusters form a tree-like structure called a dendrogram, which shows the relationships between the clusters at each level of the hierarchy.\n",
        "\n",
        "Visualizing the dendrogram to decide on the optimal number of clusters for the agglomerative (hierarchical) clustering algorithm.\n",
        "\n",
        "\n",
        "\n"
      ],
      "metadata": {
        "id": "Bknu5KWf3RwH"
      }
    },
    {
      "cell_type": "code",
      "source": [
        "# Building a dendogram to decide on the number of clusters\n",
        "plt.figure(figsize=(16, 7))  \n",
        "dend = shc.dendrogram(shc.linkage(x_pca, method='ward'))\n",
        "plt.title('Dendrogram')\n",
        "plt.xlabel('Netflix Shows')\n",
        "plt.ylabel('Distance')\n",
        "plt.axhline(y= 3.8, color='r', linestyle='--')"
      ],
      "metadata": {
        "id": "drJxUlNN3tLa"
      },
      "execution_count": null,
      "outputs": []
    },
    {
      "cell_type": "code",
      "source": [
        "# Fitting hierarchical clustering model\n",
        "hierarchical = AgglomerativeClustering(n_clusters=12, affinity='euclidean', linkage='ward')  \n",
        "hierarchical.fit_predict(x_pca)"
      ],
      "metadata": {
        "id": "LUfJtyOp3y3x"
      },
      "execution_count": null,
      "outputs": []
    },
    {
      "cell_type": "code",
      "source": [
        "# Adding a kmeans cluster number attribute\n",
        "df['hierarchical_cluster'] = hierarchical.labels_"
      ],
      "metadata": {
        "id": "8xMHK3uP3y1Z"
      },
      "execution_count": null,
      "outputs": []
    },
    {
      "cell_type": "code",
      "source": [
        "# Number of movies and tv shows in each cluster\n",
        "plt.figure(figsize=(10,5))\n",
        "q = sns.countplot(x='hierarchical_cluster',data=df, hue='type')\n",
        "plt.title('Number of movies and tv shows in each cluster - Hierarchical Clustering')\n",
        "for i in q.patches:\n",
        "  q.annotate(format(i.get_height(), '.0f'), (i.get_x() + i.get_width() / 2., i.get_height()), ha = 'center', va = 'center', xytext = (0, 10), textcoords = 'offset points')\n"
      ],
      "metadata": {
        "id": "rmwHzRjI3yya"
      },
      "execution_count": null,
      "outputs": []
    },
    {
      "cell_type": "markdown",
      "metadata": {
        "id": "3j1eNiJ6FDVk"
      },
      "source": [
        "## **Conclusion**"
      ]
    },
    {
      "cell_type": "markdown",
      "metadata": {
        "id": "qkgiyHBnFIZs"
      },
      "source": []
    }
  ],
  "metadata": {
    "colab": {
      "collapsed_sections": [
        "iXAgCECUuD4e",
        "rgUt9MgNFL3L",
        "Hb3hcAirIwYK",
        "JZ8ydoJwIzts",
        "rcg7oR4DI3dF",
        "OV2moiVrI2JI",
        "fUQJF-xbhYX1",
        "eAvkYNrMipXf",
        "68yMNBaMEwS5"
      ],
      "provenance": [],
      "authorship_tag": "ABX9TyMtUkBnhhOU94j63tZXtzeP",
      "include_colab_link": true
    },
    "kernelspec": {
      "display_name": "Python 3",
      "name": "python3"
    },
    "language_info": {
      "name": "python"
    }
  },
  "nbformat": 4,
  "nbformat_minor": 0
}